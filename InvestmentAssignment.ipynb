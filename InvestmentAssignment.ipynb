{
 "cells": [
  {
   "cell_type": "markdown",
   "metadata": {},
   "source": [
    "# Investment proposal for Spark Funds"
   ]
  },
  {
   "cell_type": "markdown",
   "metadata": {},
   "source": [
    "`importing the needed libraries`"
   ]
  },
  {
   "cell_type": "code",
   "execution_count": 721,
   "metadata": {},
   "outputs": [],
   "source": [
    "import pandas as pd\n",
    "import numpy as np\n",
    "import matplotlib.pyplot as plt\n",
    "import seaborn as sns\n",
    "sns.set_style(\"whitegrid\")\n",
    "path_to_rounds2=\"C:/Users/e0368301/PGD/C1_StatisticsEssentials/Assignment/Downloads/rounds2.csv\"\n",
    "path_to_companies=\"C:/Users/e0368301/PGD/C1_StatisticsEssentials/Assignment/Downloads/companies.txt\""
   ]
  },
  {
   "cell_type": "markdown",
   "metadata": {},
   "source": [
    "`Reading and investigation of rounds2 csv file`"
   ]
  },
  {
   "cell_type": "code",
   "execution_count": 722,
   "metadata": {},
   "outputs": [],
   "source": [
    "rounds2 = pd.read_csv(path_to_rounds2, encoding= 'unicode_escape')"
   ]
  },
  {
   "cell_type": "code",
   "execution_count": 723,
   "metadata": {},
   "outputs": [
    {
     "data": {
      "text/html": [
       "<div>\n",
       "<style scoped>\n",
       "    .dataframe tbody tr th:only-of-type {\n",
       "        vertical-align: middle;\n",
       "    }\n",
       "\n",
       "    .dataframe tbody tr th {\n",
       "        vertical-align: top;\n",
       "    }\n",
       "\n",
       "    .dataframe thead th {\n",
       "        text-align: right;\n",
       "    }\n",
       "</style>\n",
       "<table border=\"1\" class=\"dataframe\">\n",
       "  <thead>\n",
       "    <tr style=\"text-align: right;\">\n",
       "      <th></th>\n",
       "      <th>company_permalink</th>\n",
       "      <th>funding_round_permalink</th>\n",
       "      <th>funding_round_type</th>\n",
       "      <th>funding_round_code</th>\n",
       "      <th>funded_at</th>\n",
       "      <th>raised_amount_usd</th>\n",
       "    </tr>\n",
       "  </thead>\n",
       "  <tbody>\n",
       "    <tr>\n",
       "      <td>0</td>\n",
       "      <td>/organization/-fame</td>\n",
       "      <td>/funding-round/9a01d05418af9f794eebff7ace91f638</td>\n",
       "      <td>venture</td>\n",
       "      <td>B</td>\n",
       "      <td>05-01-2015</td>\n",
       "      <td>10000000.0</td>\n",
       "    </tr>\n",
       "    <tr>\n",
       "      <td>1</td>\n",
       "      <td>/ORGANIZATION/-QOUNTER</td>\n",
       "      <td>/funding-round/22dacff496eb7acb2b901dec1dfe5633</td>\n",
       "      <td>venture</td>\n",
       "      <td>A</td>\n",
       "      <td>14-10-2014</td>\n",
       "      <td>NaN</td>\n",
       "    </tr>\n",
       "    <tr>\n",
       "      <td>2</td>\n",
       "      <td>/organization/-qounter</td>\n",
       "      <td>/funding-round/b44fbb94153f6cdef13083530bb48030</td>\n",
       "      <td>seed</td>\n",
       "      <td>NaN</td>\n",
       "      <td>01-03-2014</td>\n",
       "      <td>700000.0</td>\n",
       "    </tr>\n",
       "    <tr>\n",
       "      <td>3</td>\n",
       "      <td>/ORGANIZATION/-THE-ONE-OF-THEM-INC-</td>\n",
       "      <td>/funding-round/650b8f704416801069bb178a1418776b</td>\n",
       "      <td>venture</td>\n",
       "      <td>B</td>\n",
       "      <td>30-01-2014</td>\n",
       "      <td>3406878.0</td>\n",
       "    </tr>\n",
       "    <tr>\n",
       "      <td>4</td>\n",
       "      <td>/organization/0-6-com</td>\n",
       "      <td>/funding-round/5727accaeaa57461bd22a9bdd945382d</td>\n",
       "      <td>venture</td>\n",
       "      <td>A</td>\n",
       "      <td>19-03-2008</td>\n",
       "      <td>2000000.0</td>\n",
       "    </tr>\n",
       "  </tbody>\n",
       "</table>\n",
       "</div>"
      ],
      "text/plain": [
       "                     company_permalink  \\\n",
       "0                  /organization/-fame   \n",
       "1               /ORGANIZATION/-QOUNTER   \n",
       "2               /organization/-qounter   \n",
       "3  /ORGANIZATION/-THE-ONE-OF-THEM-INC-   \n",
       "4                /organization/0-6-com   \n",
       "\n",
       "                           funding_round_permalink funding_round_type  \\\n",
       "0  /funding-round/9a01d05418af9f794eebff7ace91f638            venture   \n",
       "1  /funding-round/22dacff496eb7acb2b901dec1dfe5633            venture   \n",
       "2  /funding-round/b44fbb94153f6cdef13083530bb48030               seed   \n",
       "3  /funding-round/650b8f704416801069bb178a1418776b            venture   \n",
       "4  /funding-round/5727accaeaa57461bd22a9bdd945382d            venture   \n",
       "\n",
       "  funding_round_code   funded_at  raised_amount_usd  \n",
       "0                  B  05-01-2015         10000000.0  \n",
       "1                  A  14-10-2014                NaN  \n",
       "2                NaN  01-03-2014           700000.0  \n",
       "3                  B  30-01-2014          3406878.0  \n",
       "4                  A  19-03-2008          2000000.0  "
      ]
     },
     "execution_count": 723,
     "metadata": {},
     "output_type": "execute_result"
    }
   ],
   "source": [
    "rounds2.head()"
   ]
  },
  {
   "cell_type": "code",
   "execution_count": 724,
   "metadata": {},
   "outputs": [
    {
     "data": {
      "text/plain": [
       "(114949, 6)"
      ]
     },
     "execution_count": 724,
     "metadata": {},
     "output_type": "execute_result"
    }
   ],
   "source": [
    "rounds2.shape"
   ]
  },
  {
   "cell_type": "code",
   "execution_count": 725,
   "metadata": {},
   "outputs": [
    {
     "name": "stdout",
     "output_type": "stream",
     "text": [
      "<class 'pandas.core.frame.DataFrame'>\n",
      "RangeIndex: 114949 entries, 0 to 114948\n",
      "Data columns (total 6 columns):\n",
      "company_permalink          114949 non-null object\n",
      "funding_round_permalink    114949 non-null object\n",
      "funding_round_type         114949 non-null object\n",
      "funding_round_code         31140 non-null object\n",
      "funded_at                  114949 non-null object\n",
      "raised_amount_usd          94959 non-null float64\n",
      "dtypes: float64(1), object(5)\n",
      "memory usage: 5.3+ MB\n"
     ]
    }
   ],
   "source": [
    "rounds2.info()"
   ]
  },
  {
   "cell_type": "markdown",
   "metadata": {},
   "source": [
    "`Checking the NULL value percentage for each of the columns`"
   ]
  },
  {
   "cell_type": "code",
   "execution_count": 726,
   "metadata": {},
   "outputs": [
    {
     "data": {
      "text/plain": [
       "company_permalink           0.00\n",
       "funding_round_permalink     0.00\n",
       "funding_round_type          0.00\n",
       "funding_round_code         72.91\n",
       "funded_at                   0.00\n",
       "raised_amount_usd          17.39\n",
       "dtype: float64"
      ]
     },
     "execution_count": 726,
     "metadata": {},
     "output_type": "execute_result"
    }
   ],
   "source": [
    "rounds2.describe()\n",
    "round(100*(rounds2.isnull().sum()/len(rounds2.index)), 2)"
   ]
  },
  {
   "cell_type": "markdown",
   "metadata": {},
   "source": [
    "`Dropping the \"funding_round_code\" column as more than 70% of data not available and this parameter would not help much in our current analysis`"
   ]
  },
  {
   "cell_type": "code",
   "execution_count": 727,
   "metadata": {},
   "outputs": [
    {
     "data": {
      "text/plain": [
       "company_permalink           0.00\n",
       "funding_round_permalink     0.00\n",
       "funding_round_type          0.00\n",
       "funded_at                   0.00\n",
       "raised_amount_usd          17.39\n",
       "dtype: float64"
      ]
     },
     "execution_count": 727,
     "metadata": {},
     "output_type": "execute_result"
    }
   ],
   "source": [
    "rounds2 = rounds2.drop('funding_round_code', axis=1)\n",
    "round(100*(rounds2.isnull().sum()/len(rounds2.index)), 2)"
   ]
  },
  {
   "cell_type": "markdown",
   "metadata": {},
   "source": [
    "- \"raised_amount_usd\" is the variable which is expected to play a significant role in the analysis\n",
    "- Hence It is not wise to impute any values to this based on assumptions"
   ]
  },
  {
   "cell_type": "code",
   "execution_count": 728,
   "metadata": {},
   "outputs": [
    {
     "data": {
      "text/plain": [
       "company_permalink          0.0\n",
       "funding_round_permalink    0.0\n",
       "funding_round_type         0.0\n",
       "funded_at                  0.0\n",
       "raised_amount_usd          0.0\n",
       "dtype: float64"
      ]
     },
     "execution_count": 728,
     "metadata": {},
     "output_type": "execute_result"
    }
   ],
   "source": [
    "rounds2 = rounds2.dropna(subset=['raised_amount_usd'])\n",
    "round(100*(rounds2.isnull().sum()/len(rounds2.index)), 2)"
   ]
  },
  {
   "cell_type": "code",
   "execution_count": 729,
   "metadata": {},
   "outputs": [
    {
     "data": {
      "text/html": [
       "<div>\n",
       "<style scoped>\n",
       "    .dataframe tbody tr th:only-of-type {\n",
       "        vertical-align: middle;\n",
       "    }\n",
       "\n",
       "    .dataframe tbody tr th {\n",
       "        vertical-align: top;\n",
       "    }\n",
       "\n",
       "    .dataframe thead th {\n",
       "        text-align: right;\n",
       "    }\n",
       "</style>\n",
       "<table border=\"1\" class=\"dataframe\">\n",
       "  <thead>\n",
       "    <tr style=\"text-align: right;\">\n",
       "      <th></th>\n",
       "      <th>raised_amount_usd</th>\n",
       "    </tr>\n",
       "  </thead>\n",
       "  <tbody>\n",
       "    <tr>\n",
       "      <td>count</td>\n",
       "      <td>9.495900e+04</td>\n",
       "    </tr>\n",
       "    <tr>\n",
       "      <td>mean</td>\n",
       "      <td>1.042687e+07</td>\n",
       "    </tr>\n",
       "    <tr>\n",
       "      <td>std</td>\n",
       "      <td>1.148212e+08</td>\n",
       "    </tr>\n",
       "    <tr>\n",
       "      <td>min</td>\n",
       "      <td>0.000000e+00</td>\n",
       "    </tr>\n",
       "    <tr>\n",
       "      <td>25%</td>\n",
       "      <td>3.225000e+05</td>\n",
       "    </tr>\n",
       "    <tr>\n",
       "      <td>50%</td>\n",
       "      <td>1.680511e+06</td>\n",
       "    </tr>\n",
       "    <tr>\n",
       "      <td>75%</td>\n",
       "      <td>7.000000e+06</td>\n",
       "    </tr>\n",
       "    <tr>\n",
       "      <td>max</td>\n",
       "      <td>2.127194e+10</td>\n",
       "    </tr>\n",
       "  </tbody>\n",
       "</table>\n",
       "</div>"
      ],
      "text/plain": [
       "       raised_amount_usd\n",
       "count       9.495900e+04\n",
       "mean        1.042687e+07\n",
       "std         1.148212e+08\n",
       "min         0.000000e+00\n",
       "25%         3.225000e+05\n",
       "50%         1.680511e+06\n",
       "75%         7.000000e+06\n",
       "max         2.127194e+10"
      ]
     },
     "execution_count": 729,
     "metadata": {},
     "output_type": "execute_result"
    }
   ],
   "source": [
    "rounds2.describe()"
   ]
  },
  {
   "cell_type": "markdown",
   "metadata": {},
   "source": [
    "- Trying to understand the distribution of \"raised_amount_usd\""
   ]
  },
  {
   "cell_type": "code",
   "execution_count": 730,
   "metadata": {},
   "outputs": [
    {
     "name": "stdout",
     "output_type": "stream",
     "text": [
      "count    9.495900e+04\n",
      "mean     1.042687e+07\n",
      "std      1.148212e+08\n",
      "min      0.000000e+00\n",
      "25%      3.225000e+05\n",
      "50%      1.680511e+06\n",
      "75%      7.000000e+06\n",
      "max      2.127194e+10\n",
      "Name: raised_amount_usd, dtype: float64\n",
      "33000000.0\n",
      "40000000.0\n",
      "50000000.0\n",
      "66000000.0\n",
      "111115455.89999953\n",
      "21271935000.0\n"
     ]
    }
   ],
   "source": [
    "print(rounds2['raised_amount_usd'].describe())\n",
    "print(rounds2['raised_amount_usd'].quantile(0.95))\n",
    "print(rounds2['raised_amount_usd'].quantile(0.96))\n",
    "print(rounds2['raised_amount_usd'].quantile(0.97))\n",
    "print(rounds2['raised_amount_usd'].quantile(0.98))\n",
    "print(rounds2['raised_amount_usd'].quantile(0.99))\n",
    "print(rounds2['raised_amount_usd'].quantile(1))"
   ]
  },
  {
   "cell_type": "markdown",
   "metadata": {},
   "source": [
    "- Max value is 191 times the 99th percentile value, hence limiting the parameter at 99th percentile"
   ]
  },
  {
   "cell_type": "code",
   "execution_count": 731,
   "metadata": {},
   "outputs": [
    {
     "name": "stdout",
     "output_type": "stream",
     "text": [
      "company_permalink          0.0\n",
      "funding_round_permalink    0.0\n",
      "funding_round_type         0.0\n",
      "funded_at                  0.0\n",
      "raised_amount_usd          0.0\n",
      "dtype: float64\n",
      "count    9.400900e+04\n",
      "mean     6.470120e+06\n",
      "std      1.264568e+07\n",
      "min      0.000000e+00\n",
      "25%      3.100000e+05\n",
      "50%      1.600000e+06\n",
      "75%      6.700000e+06\n",
      "max      1.110000e+08\n",
      "Name: raised_amount_usd, dtype: float64\n",
      "30000000.0\n",
      "33000000.0\n",
      "40000000.0\n",
      "50000000.0\n",
      "66959999.99999913\n",
      "111000000.0\n",
      "<class 'pandas.core.frame.DataFrame'>\n",
      "Int64Index: 94009 entries, 0 to 114948\n",
      "Data columns (total 5 columns):\n",
      "company_permalink          94009 non-null object\n",
      "funding_round_permalink    94009 non-null object\n",
      "funding_round_type         94009 non-null object\n",
      "funded_at                  94009 non-null object\n",
      "raised_amount_usd          94009 non-null float64\n",
      "dtypes: float64(1), object(4)\n",
      "memory usage: 4.3+ MB\n",
      "None\n"
     ]
    }
   ],
   "source": [
    "rounds2 = rounds2[rounds2.raised_amount_usd <= np.percentile(rounds2.raised_amount_usd,99)]\n",
    "print(round(100*(rounds2.isnull().sum()/len(rounds2.index)), 2))\n",
    "print(rounds2['raised_amount_usd'].describe())\n",
    "print(rounds2['raised_amount_usd'].quantile(0.95))\n",
    "print(rounds2['raised_amount_usd'].quantile(0.96))\n",
    "print(rounds2['raised_amount_usd'].quantile(0.97))\n",
    "print(rounds2['raised_amount_usd'].quantile(0.98))\n",
    "print(rounds2['raised_amount_usd'].quantile(0.99))\n",
    "print(rounds2['raised_amount_usd'].quantile(1))\n",
    "print(rounds2.info())"
   ]
  },
  {
   "cell_type": "markdown",
   "metadata": {},
   "source": [
    "`Number of Unique entries based on all the columns of rounds2 dataframe`"
   ]
  },
  {
   "cell_type": "code",
   "execution_count": 732,
   "metadata": {},
   "outputs": [
    {
     "data": {
      "text/plain": [
       "company_permalink          73220\n",
       "funding_round_permalink    94009\n",
       "funding_round_type            14\n",
       "funded_at                   4740\n",
       "raised_amount_usd          21734\n",
       "dtype: int64"
      ]
     },
     "execution_count": 732,
     "metadata": {},
     "output_type": "execute_result"
    }
   ],
   "source": [
    "rounds2.nunique()"
   ]
  },
  {
   "cell_type": "markdown",
   "metadata": {},
   "source": [
    "`Converting the company_permalink column in rounds2 table to lower case\n",
    "This is needed to match the letter cases between rounds2 table and companies table to avoid unwanted conflicts while merging`"
   ]
  },
  {
   "cell_type": "code",
   "execution_count": 733,
   "metadata": {},
   "outputs": [
    {
     "data": {
      "text/html": [
       "<div>\n",
       "<style scoped>\n",
       "    .dataframe tbody tr th:only-of-type {\n",
       "        vertical-align: middle;\n",
       "    }\n",
       "\n",
       "    .dataframe tbody tr th {\n",
       "        vertical-align: top;\n",
       "    }\n",
       "\n",
       "    .dataframe thead th {\n",
       "        text-align: right;\n",
       "    }\n",
       "</style>\n",
       "<table border=\"1\" class=\"dataframe\">\n",
       "  <thead>\n",
       "    <tr style=\"text-align: right;\">\n",
       "      <th></th>\n",
       "      <th>company_permalink</th>\n",
       "      <th>funding_round_permalink</th>\n",
       "      <th>funding_round_type</th>\n",
       "      <th>funded_at</th>\n",
       "      <th>raised_amount_usd</th>\n",
       "    </tr>\n",
       "  </thead>\n",
       "  <tbody>\n",
       "    <tr>\n",
       "      <td>0</td>\n",
       "      <td>/organization/-fame</td>\n",
       "      <td>/funding-round/9a01d05418af9f794eebff7ace91f638</td>\n",
       "      <td>venture</td>\n",
       "      <td>05-01-2015</td>\n",
       "      <td>10000000.0</td>\n",
       "    </tr>\n",
       "    <tr>\n",
       "      <td>2</td>\n",
       "      <td>/organization/-qounter</td>\n",
       "      <td>/funding-round/b44fbb94153f6cdef13083530bb48030</td>\n",
       "      <td>seed</td>\n",
       "      <td>01-03-2014</td>\n",
       "      <td>700000.0</td>\n",
       "    </tr>\n",
       "    <tr>\n",
       "      <td>3</td>\n",
       "      <td>/organization/-the-one-of-them-inc-</td>\n",
       "      <td>/funding-round/650b8f704416801069bb178a1418776b</td>\n",
       "      <td>venture</td>\n",
       "      <td>30-01-2014</td>\n",
       "      <td>3406878.0</td>\n",
       "    </tr>\n",
       "    <tr>\n",
       "      <td>4</td>\n",
       "      <td>/organization/0-6-com</td>\n",
       "      <td>/funding-round/5727accaeaa57461bd22a9bdd945382d</td>\n",
       "      <td>venture</td>\n",
       "      <td>19-03-2008</td>\n",
       "      <td>2000000.0</td>\n",
       "    </tr>\n",
       "    <tr>\n",
       "      <td>6</td>\n",
       "      <td>/organization/01games-technology</td>\n",
       "      <td>/funding-round/7d53696f2b4f607a2f2a8cbb83d01839</td>\n",
       "      <td>undisclosed</td>\n",
       "      <td>01-07-2014</td>\n",
       "      <td>41250.0</td>\n",
       "    </tr>\n",
       "  </tbody>\n",
       "</table>\n",
       "</div>"
      ],
      "text/plain": [
       "                     company_permalink  \\\n",
       "0                  /organization/-fame   \n",
       "2               /organization/-qounter   \n",
       "3  /organization/-the-one-of-them-inc-   \n",
       "4                /organization/0-6-com   \n",
       "6     /organization/01games-technology   \n",
       "\n",
       "                           funding_round_permalink funding_round_type  \\\n",
       "0  /funding-round/9a01d05418af9f794eebff7ace91f638            venture   \n",
       "2  /funding-round/b44fbb94153f6cdef13083530bb48030               seed   \n",
       "3  /funding-round/650b8f704416801069bb178a1418776b            venture   \n",
       "4  /funding-round/5727accaeaa57461bd22a9bdd945382d            venture   \n",
       "6  /funding-round/7d53696f2b4f607a2f2a8cbb83d01839        undisclosed   \n",
       "\n",
       "    funded_at  raised_amount_usd  \n",
       "0  05-01-2015         10000000.0  \n",
       "2  01-03-2014           700000.0  \n",
       "3  30-01-2014          3406878.0  \n",
       "4  19-03-2008          2000000.0  \n",
       "6  01-07-2014            41250.0  "
      ]
     },
     "execution_count": 733,
     "metadata": {},
     "output_type": "execute_result"
    }
   ],
   "source": [
    "rounds2['company_permalink'] = rounds2['company_permalink'].str.lower()\n",
    "rounds2.head()"
   ]
  },
  {
   "cell_type": "markdown",
   "metadata": {},
   "source": [
    "`Reading and investigation of \"companies\" file`"
   ]
  },
  {
   "cell_type": "code",
   "execution_count": 734,
   "metadata": {},
   "outputs": [],
   "source": [
    "companies = pd.read_csv(path_to_companies, sep=\"\\t\", encoding = \"ISO-8859-1\")"
   ]
  },
  {
   "cell_type": "code",
   "execution_count": 735,
   "metadata": {},
   "outputs": [
    {
     "data": {
      "text/html": [
       "<div>\n",
       "<style scoped>\n",
       "    .dataframe tbody tr th:only-of-type {\n",
       "        vertical-align: middle;\n",
       "    }\n",
       "\n",
       "    .dataframe tbody tr th {\n",
       "        vertical-align: top;\n",
       "    }\n",
       "\n",
       "    .dataframe thead th {\n",
       "        text-align: right;\n",
       "    }\n",
       "</style>\n",
       "<table border=\"1\" class=\"dataframe\">\n",
       "  <thead>\n",
       "    <tr style=\"text-align: right;\">\n",
       "      <th></th>\n",
       "      <th>permalink</th>\n",
       "      <th>name</th>\n",
       "      <th>homepage_url</th>\n",
       "      <th>category_list</th>\n",
       "      <th>status</th>\n",
       "      <th>country_code</th>\n",
       "      <th>state_code</th>\n",
       "      <th>region</th>\n",
       "      <th>city</th>\n",
       "      <th>founded_at</th>\n",
       "    </tr>\n",
       "  </thead>\n",
       "  <tbody>\n",
       "    <tr>\n",
       "      <td>0</td>\n",
       "      <td>/Organization/-Fame</td>\n",
       "      <td>#fame</td>\n",
       "      <td>http://livfame.com</td>\n",
       "      <td>Media</td>\n",
       "      <td>operating</td>\n",
       "      <td>IND</td>\n",
       "      <td>16</td>\n",
       "      <td>Mumbai</td>\n",
       "      <td>Mumbai</td>\n",
       "      <td>NaN</td>\n",
       "    </tr>\n",
       "    <tr>\n",
       "      <td>1</td>\n",
       "      <td>/Organization/-Qounter</td>\n",
       "      <td>:Qounter</td>\n",
       "      <td>http://www.qounter.com</td>\n",
       "      <td>Application Platforms|Real Time|Social Network...</td>\n",
       "      <td>operating</td>\n",
       "      <td>USA</td>\n",
       "      <td>DE</td>\n",
       "      <td>DE - Other</td>\n",
       "      <td>Delaware City</td>\n",
       "      <td>04-09-2014</td>\n",
       "    </tr>\n",
       "    <tr>\n",
       "      <td>2</td>\n",
       "      <td>/Organization/-The-One-Of-Them-Inc-</td>\n",
       "      <td>(THE) ONE of THEM,Inc.</td>\n",
       "      <td>http://oneofthem.jp</td>\n",
       "      <td>Apps|Games|Mobile</td>\n",
       "      <td>operating</td>\n",
       "      <td>NaN</td>\n",
       "      <td>NaN</td>\n",
       "      <td>NaN</td>\n",
       "      <td>NaN</td>\n",
       "      <td>NaN</td>\n",
       "    </tr>\n",
       "    <tr>\n",
       "      <td>3</td>\n",
       "      <td>/Organization/0-6-Com</td>\n",
       "      <td>0-6.com</td>\n",
       "      <td>http://www.0-6.com</td>\n",
       "      <td>Curated Web</td>\n",
       "      <td>operating</td>\n",
       "      <td>CHN</td>\n",
       "      <td>22</td>\n",
       "      <td>Beijing</td>\n",
       "      <td>Beijing</td>\n",
       "      <td>01-01-2007</td>\n",
       "    </tr>\n",
       "    <tr>\n",
       "      <td>4</td>\n",
       "      <td>/Organization/004-Technologies</td>\n",
       "      <td>004 Technologies</td>\n",
       "      <td>http://004gmbh.de/en/004-interact</td>\n",
       "      <td>Software</td>\n",
       "      <td>operating</td>\n",
       "      <td>USA</td>\n",
       "      <td>IL</td>\n",
       "      <td>Springfield, Illinois</td>\n",
       "      <td>Champaign</td>\n",
       "      <td>01-01-2010</td>\n",
       "    </tr>\n",
       "  </tbody>\n",
       "</table>\n",
       "</div>"
      ],
      "text/plain": [
       "                             permalink                    name  \\\n",
       "0                  /Organization/-Fame                   #fame   \n",
       "1               /Organization/-Qounter                :Qounter   \n",
       "2  /Organization/-The-One-Of-Them-Inc-  (THE) ONE of THEM,Inc.   \n",
       "3                /Organization/0-6-Com                 0-6.com   \n",
       "4       /Organization/004-Technologies        004 Technologies   \n",
       "\n",
       "                        homepage_url  \\\n",
       "0                 http://livfame.com   \n",
       "1             http://www.qounter.com   \n",
       "2                http://oneofthem.jp   \n",
       "3                 http://www.0-6.com   \n",
       "4  http://004gmbh.de/en/004-interact   \n",
       "\n",
       "                                       category_list     status country_code  \\\n",
       "0                                              Media  operating          IND   \n",
       "1  Application Platforms|Real Time|Social Network...  operating          USA   \n",
       "2                                  Apps|Games|Mobile  operating          NaN   \n",
       "3                                        Curated Web  operating          CHN   \n",
       "4                                           Software  operating          USA   \n",
       "\n",
       "  state_code                 region           city  founded_at  \n",
       "0         16                 Mumbai         Mumbai         NaN  \n",
       "1         DE             DE - Other  Delaware City  04-09-2014  \n",
       "2        NaN                    NaN            NaN         NaN  \n",
       "3         22                Beijing        Beijing  01-01-2007  \n",
       "4         IL  Springfield, Illinois      Champaign  01-01-2010  "
      ]
     },
     "execution_count": 735,
     "metadata": {},
     "output_type": "execute_result"
    }
   ],
   "source": [
    "companies.head()"
   ]
  },
  {
   "cell_type": "code",
   "execution_count": 736,
   "metadata": {},
   "outputs": [
    {
     "data": {
      "text/plain": [
       "(66368, 10)"
      ]
     },
     "execution_count": 736,
     "metadata": {},
     "output_type": "execute_result"
    }
   ],
   "source": [
    "companies.shape"
   ]
  },
  {
   "cell_type": "code",
   "execution_count": 737,
   "metadata": {},
   "outputs": [
    {
     "name": "stdout",
     "output_type": "stream",
     "text": [
      "<class 'pandas.core.frame.DataFrame'>\n",
      "RangeIndex: 66368 entries, 0 to 66367\n",
      "Data columns (total 10 columns):\n",
      "permalink        66368 non-null object\n",
      "name             66367 non-null object\n",
      "homepage_url     61310 non-null object\n",
      "category_list    63220 non-null object\n",
      "status           66368 non-null object\n",
      "country_code     59410 non-null object\n",
      "state_code       57821 non-null object\n",
      "region           58338 non-null object\n",
      "city             58340 non-null object\n",
      "founded_at       51147 non-null object\n",
      "dtypes: object(10)\n",
      "memory usage: 5.1+ MB\n"
     ]
    }
   ],
   "source": [
    "companies.info()"
   ]
  },
  {
   "cell_type": "code",
   "execution_count": 738,
   "metadata": {},
   "outputs": [
    {
     "data": {
      "text/html": [
       "<div>\n",
       "<style scoped>\n",
       "    .dataframe tbody tr th:only-of-type {\n",
       "        vertical-align: middle;\n",
       "    }\n",
       "\n",
       "    .dataframe tbody tr th {\n",
       "        vertical-align: top;\n",
       "    }\n",
       "\n",
       "    .dataframe thead th {\n",
       "        text-align: right;\n",
       "    }\n",
       "</style>\n",
       "<table border=\"1\" class=\"dataframe\">\n",
       "  <thead>\n",
       "    <tr style=\"text-align: right;\">\n",
       "      <th></th>\n",
       "      <th>permalink</th>\n",
       "      <th>name</th>\n",
       "      <th>homepage_url</th>\n",
       "      <th>category_list</th>\n",
       "      <th>status</th>\n",
       "      <th>country_code</th>\n",
       "      <th>state_code</th>\n",
       "      <th>region</th>\n",
       "      <th>city</th>\n",
       "      <th>founded_at</th>\n",
       "    </tr>\n",
       "  </thead>\n",
       "  <tbody>\n",
       "    <tr>\n",
       "      <td>count</td>\n",
       "      <td>66368</td>\n",
       "      <td>66367</td>\n",
       "      <td>61310</td>\n",
       "      <td>63220</td>\n",
       "      <td>66368</td>\n",
       "      <td>59410</td>\n",
       "      <td>57821</td>\n",
       "      <td>58338</td>\n",
       "      <td>58340</td>\n",
       "      <td>51147</td>\n",
       "    </tr>\n",
       "    <tr>\n",
       "      <td>unique</td>\n",
       "      <td>66368</td>\n",
       "      <td>66102</td>\n",
       "      <td>61191</td>\n",
       "      <td>27296</td>\n",
       "      <td>4</td>\n",
       "      <td>137</td>\n",
       "      <td>311</td>\n",
       "      <td>1092</td>\n",
       "      <td>5111</td>\n",
       "      <td>3978</td>\n",
       "    </tr>\n",
       "    <tr>\n",
       "      <td>top</td>\n",
       "      <td>/Organization/Cocone</td>\n",
       "      <td>Roost</td>\n",
       "      <td>http://www.askforoffer.com</td>\n",
       "      <td>Software</td>\n",
       "      <td>operating</td>\n",
       "      <td>USA</td>\n",
       "      <td>CA</td>\n",
       "      <td>SF Bay Area</td>\n",
       "      <td>San Francisco</td>\n",
       "      <td>01-01-2012</td>\n",
       "    </tr>\n",
       "    <tr>\n",
       "      <td>freq</td>\n",
       "      <td>1</td>\n",
       "      <td>4</td>\n",
       "      <td>5</td>\n",
       "      <td>3995</td>\n",
       "      <td>53034</td>\n",
       "      <td>37601</td>\n",
       "      <td>12900</td>\n",
       "      <td>8804</td>\n",
       "      <td>3526</td>\n",
       "      <td>2730</td>\n",
       "    </tr>\n",
       "  </tbody>\n",
       "</table>\n",
       "</div>"
      ],
      "text/plain": [
       "                   permalink   name                homepage_url category_list  \\\n",
       "count                  66368  66367                       61310         63220   \n",
       "unique                 66368  66102                       61191         27296   \n",
       "top     /Organization/Cocone  Roost  http://www.askforoffer.com      Software   \n",
       "freq                       1      4                           5          3995   \n",
       "\n",
       "           status country_code state_code       region           city  \\\n",
       "count       66368        59410      57821        58338          58340   \n",
       "unique          4          137        311         1092           5111   \n",
       "top     operating          USA         CA  SF Bay Area  San Francisco   \n",
       "freq        53034        37601      12900         8804           3526   \n",
       "\n",
       "        founded_at  \n",
       "count        51147  \n",
       "unique        3978  \n",
       "top     01-01-2012  \n",
       "freq          2730  "
      ]
     },
     "execution_count": 738,
     "metadata": {},
     "output_type": "execute_result"
    }
   ],
   "source": [
    "companies.describe()"
   ]
  },
  {
   "cell_type": "markdown",
   "metadata": {},
   "source": [
    "`Dropping the unwanted columns to make the dataframe concise`"
   ]
  },
  {
   "cell_type": "code",
   "execution_count": 739,
   "metadata": {},
   "outputs": [
    {
     "data": {
      "text/html": [
       "<div>\n",
       "<style scoped>\n",
       "    .dataframe tbody tr th:only-of-type {\n",
       "        vertical-align: middle;\n",
       "    }\n",
       "\n",
       "    .dataframe tbody tr th {\n",
       "        vertical-align: top;\n",
       "    }\n",
       "\n",
       "    .dataframe thead th {\n",
       "        text-align: right;\n",
       "    }\n",
       "</style>\n",
       "<table border=\"1\" class=\"dataframe\">\n",
       "  <thead>\n",
       "    <tr style=\"text-align: right;\">\n",
       "      <th></th>\n",
       "      <th>permalink</th>\n",
       "      <th>name</th>\n",
       "      <th>category_list</th>\n",
       "      <th>country_code</th>\n",
       "    </tr>\n",
       "  </thead>\n",
       "  <tbody>\n",
       "    <tr>\n",
       "      <td>count</td>\n",
       "      <td>66368</td>\n",
       "      <td>66367</td>\n",
       "      <td>63220</td>\n",
       "      <td>59410</td>\n",
       "    </tr>\n",
       "    <tr>\n",
       "      <td>unique</td>\n",
       "      <td>66368</td>\n",
       "      <td>66102</td>\n",
       "      <td>27296</td>\n",
       "      <td>137</td>\n",
       "    </tr>\n",
       "    <tr>\n",
       "      <td>top</td>\n",
       "      <td>/Organization/Cocone</td>\n",
       "      <td>Roost</td>\n",
       "      <td>Software</td>\n",
       "      <td>USA</td>\n",
       "    </tr>\n",
       "    <tr>\n",
       "      <td>freq</td>\n",
       "      <td>1</td>\n",
       "      <td>4</td>\n",
       "      <td>3995</td>\n",
       "      <td>37601</td>\n",
       "    </tr>\n",
       "  </tbody>\n",
       "</table>\n",
       "</div>"
      ],
      "text/plain": [
       "                   permalink   name category_list country_code\n",
       "count                  66368  66367         63220        59410\n",
       "unique                 66368  66102         27296          137\n",
       "top     /Organization/Cocone  Roost      Software          USA\n",
       "freq                       1      4          3995        37601"
      ]
     },
     "execution_count": 739,
     "metadata": {},
     "output_type": "execute_result"
    }
   ],
   "source": [
    "companies = companies.drop('homepage_url', axis=1)\n",
    "companies = companies.drop('status', axis=1)\n",
    "companies = companies.drop('state_code', axis=1)\n",
    "companies = companies.drop('region', axis=1)\n",
    "companies = companies.drop('city', axis=1)\n",
    "companies = companies.drop('founded_at', axis=1)\n",
    "companies.describe()"
   ]
  },
  {
   "cell_type": "markdown",
   "metadata": {},
   "source": [
    "`Finding the percentage of NULL values for all the columns`"
   ]
  },
  {
   "cell_type": "code",
   "execution_count": 740,
   "metadata": {},
   "outputs": [
    {
     "data": {
      "text/plain": [
       "permalink         0.00\n",
       "name              0.00\n",
       "category_list     4.74\n",
       "country_code     10.48\n",
       "dtype: float64"
      ]
     },
     "execution_count": 740,
     "metadata": {},
     "output_type": "execute_result"
    }
   ],
   "source": [
    "round(100*(companies.isnull().sum()/len(companies.index)), 2)"
   ]
  },
  {
   "cell_type": "markdown",
   "metadata": {},
   "source": [
    "`Removing the records which does not have \"company code\" and \"category list\"`"
   ]
  },
  {
   "cell_type": "code",
   "execution_count": 741,
   "metadata": {},
   "outputs": [
    {
     "data": {
      "text/plain": [
       "permalink        0.0\n",
       "name             0.0\n",
       "category_list    0.0\n",
       "country_code     0.0\n",
       "dtype: float64"
      ]
     },
     "execution_count": 741,
     "metadata": {},
     "output_type": "execute_result"
    }
   ],
   "source": [
    "companies = companies.dropna(subset=['category_list'])\n",
    "companies = companies.dropna(subset=['country_code'])\n",
    "round(100*(companies.isnull().sum()/len(companies.index)), 2)"
   ]
  },
  {
   "cell_type": "markdown",
   "metadata": {},
   "source": [
    "`Finding the number of unique entries in companies dataframe for all the columns`"
   ]
  },
  {
   "cell_type": "code",
   "execution_count": 742,
   "metadata": {},
   "outputs": [
    {
     "data": {
      "text/plain": [
       "permalink        57804\n",
       "name             57629\n",
       "category_list    24727\n",
       "country_code       137\n",
       "dtype: int64"
      ]
     },
     "execution_count": 742,
     "metadata": {},
     "output_type": "execute_result"
    }
   ],
   "source": [
    "companies.nunique()"
   ]
  },
  {
   "cell_type": "code",
   "execution_count": 743,
   "metadata": {},
   "outputs": [
    {
     "name": "stdout",
     "output_type": "stream",
     "text": [
      "<class 'pandas.core.frame.DataFrame'>\n",
      "Int64Index: 57804 entries, 0 to 66366\n",
      "Data columns (total 4 columns):\n",
      "permalink        57804 non-null object\n",
      "name             57803 non-null object\n",
      "category_list    57804 non-null object\n",
      "country_code     57804 non-null object\n",
      "dtypes: object(4)\n",
      "memory usage: 2.2+ MB\n"
     ]
    }
   ],
   "source": [
    "companies.info()"
   ]
  },
  {
   "cell_type": "markdown",
   "metadata": {},
   "source": [
    "`Renaming and lowercasing the permalink(primary Key) column in companies df to match it with rounds2 df`"
   ]
  },
  {
   "cell_type": "code",
   "execution_count": 744,
   "metadata": {},
   "outputs": [
    {
     "data": {
      "text/html": [
       "<div>\n",
       "<style scoped>\n",
       "    .dataframe tbody tr th:only-of-type {\n",
       "        vertical-align: middle;\n",
       "    }\n",
       "\n",
       "    .dataframe tbody tr th {\n",
       "        vertical-align: top;\n",
       "    }\n",
       "\n",
       "    .dataframe thead th {\n",
       "        text-align: right;\n",
       "    }\n",
       "</style>\n",
       "<table border=\"1\" class=\"dataframe\">\n",
       "  <thead>\n",
       "    <tr style=\"text-align: right;\">\n",
       "      <th></th>\n",
       "      <th>company_permalink</th>\n",
       "      <th>name</th>\n",
       "      <th>category_list</th>\n",
       "      <th>country_code</th>\n",
       "    </tr>\n",
       "  </thead>\n",
       "  <tbody>\n",
       "    <tr>\n",
       "      <td>0</td>\n",
       "      <td>/organization/-fame</td>\n",
       "      <td>#fame</td>\n",
       "      <td>Media</td>\n",
       "      <td>IND</td>\n",
       "    </tr>\n",
       "    <tr>\n",
       "      <td>1</td>\n",
       "      <td>/organization/-qounter</td>\n",
       "      <td>:Qounter</td>\n",
       "      <td>Application Platforms|Real Time|Social Network...</td>\n",
       "      <td>USA</td>\n",
       "    </tr>\n",
       "    <tr>\n",
       "      <td>3</td>\n",
       "      <td>/organization/0-6-com</td>\n",
       "      <td>0-6.com</td>\n",
       "      <td>Curated Web</td>\n",
       "      <td>CHN</td>\n",
       "    </tr>\n",
       "    <tr>\n",
       "      <td>4</td>\n",
       "      <td>/organization/004-technologies</td>\n",
       "      <td>004 Technologies</td>\n",
       "      <td>Software</td>\n",
       "      <td>USA</td>\n",
       "    </tr>\n",
       "    <tr>\n",
       "      <td>5</td>\n",
       "      <td>/organization/01games-technology</td>\n",
       "      <td>01Games Technology</td>\n",
       "      <td>Games</td>\n",
       "      <td>HKG</td>\n",
       "    </tr>\n",
       "  </tbody>\n",
       "</table>\n",
       "</div>"
      ],
      "text/plain": [
       "                  company_permalink                name  \\\n",
       "0               /organization/-fame               #fame   \n",
       "1            /organization/-qounter            :Qounter   \n",
       "3             /organization/0-6-com             0-6.com   \n",
       "4    /organization/004-technologies    004 Technologies   \n",
       "5  /organization/01games-technology  01Games Technology   \n",
       "\n",
       "                                       category_list country_code  \n",
       "0                                              Media          IND  \n",
       "1  Application Platforms|Real Time|Social Network...          USA  \n",
       "3                                        Curated Web          CHN  \n",
       "4                                           Software          USA  \n",
       "5                                              Games          HKG  "
      ]
     },
     "execution_count": 744,
     "metadata": {},
     "output_type": "execute_result"
    }
   ],
   "source": [
    "companies = companies.rename(columns={\"permalink\": \"company_permalink\"})\n",
    "companies['company_permalink'] = companies['company_permalink'].str.lower()\n",
    "companies.head()"
   ]
  },
  {
   "cell_type": "markdown",
   "metadata": {},
   "source": [
    "#### Merging both the data frames\n",
    "##### Left Merge is chosen here as per the requirement to add all the columns in companies df to rounds2 df"
   ]
  },
  {
   "cell_type": "code",
   "execution_count": 745,
   "metadata": {},
   "outputs": [],
   "source": [
    "master_frame = pd.merge(rounds2, companies, how='left', on='company_permalink')"
   ]
  },
  {
   "cell_type": "code",
   "execution_count": 746,
   "metadata": {},
   "outputs": [
    {
     "name": "stdout",
     "output_type": "stream",
     "text": [
      "<class 'pandas.core.frame.DataFrame'>\n",
      "Int64Index: 94009 entries, 0 to 94008\n",
      "Data columns (total 8 columns):\n",
      "company_permalink          94009 non-null object\n",
      "funding_round_permalink    94009 non-null object\n",
      "funding_round_type         94009 non-null object\n",
      "funded_at                  94009 non-null object\n",
      "raised_amount_usd          94009 non-null float64\n",
      "name                       87641 non-null object\n",
      "category_list              87642 non-null object\n",
      "country_code               87642 non-null object\n",
      "dtypes: float64(1), object(7)\n",
      "memory usage: 6.5+ MB\n"
     ]
    }
   ],
   "source": [
    "master_frame.info()"
   ]
  },
  {
   "cell_type": "markdown",
   "metadata": {},
   "source": [
    "**Treating missing Values post merging both the df rounds2 and company**"
   ]
  },
  {
   "cell_type": "code",
   "execution_count": 747,
   "metadata": {},
   "outputs": [
    {
     "data": {
      "text/plain": [
       "company_permalink             0\n",
       "funding_round_permalink       0\n",
       "funding_round_type            0\n",
       "funded_at                     0\n",
       "raised_amount_usd             0\n",
       "name                       6368\n",
       "category_list              6367\n",
       "country_code               6367\n",
       "dtype: int64"
      ]
     },
     "execution_count": 747,
     "metadata": {},
     "output_type": "execute_result"
    }
   ],
   "source": [
    "master_frame.isnull().sum()"
   ]
  },
  {
   "cell_type": "markdown",
   "metadata": {},
   "source": [
    "`This implies the rounds2 df had around 6000 records of funding whose company details are not available in Companies df` <br>\n",
    "`Removing the entries having NULL values for \"category_list\" and \"country_code\" and \"name\"`"
   ]
  },
  {
   "cell_type": "code",
   "execution_count": 748,
   "metadata": {},
   "outputs": [
    {
     "data": {
      "text/plain": [
       "company_permalink          0.00\n",
       "funding_round_permalink    0.00\n",
       "funding_round_type         0.00\n",
       "funded_at                  0.00\n",
       "raised_amount_usd          0.00\n",
       "name                       6.77\n",
       "category_list              6.77\n",
       "country_code               6.77\n",
       "dtype: float64"
      ]
     },
     "execution_count": 748,
     "metadata": {},
     "output_type": "execute_result"
    }
   ],
   "source": [
    "# Finding the percentage of missing values for each column\n",
    "round(100*(master_frame.isnull().sum()/len(master_frame.index)), 2)"
   ]
  },
  {
   "cell_type": "code",
   "execution_count": 749,
   "metadata": {},
   "outputs": [
    {
     "data": {
      "text/plain": [
       "company_permalink          0.0\n",
       "funding_round_permalink    0.0\n",
       "funding_round_type         0.0\n",
       "funded_at                  0.0\n",
       "raised_amount_usd          0.0\n",
       "name                       0.0\n",
       "category_list              0.0\n",
       "country_code               0.0\n",
       "dtype: float64"
      ]
     },
     "execution_count": 749,
     "metadata": {},
     "output_type": "execute_result"
    }
   ],
   "source": [
    "master_frame = master_frame.dropna(subset=['name'])\n",
    "master_frame = master_frame.dropna(subset=['category_list'])\n",
    "master_frame = master_frame.dropna(subset=['country_code'])\n",
    "round(100*(master_frame.isnull().sum()/len(master_frame.index)), 2)"
   ]
  },
  {
   "cell_type": "code",
   "execution_count": 750,
   "metadata": {},
   "outputs": [
    {
     "name": "stdout",
     "output_type": "stream",
     "text": [
      "<class 'pandas.core.frame.DataFrame'>\n",
      "Int64Index: 87641 entries, 0 to 94007\n",
      "Data columns (total 8 columns):\n",
      "company_permalink          87641 non-null object\n",
      "funding_round_permalink    87641 non-null object\n",
      "funding_round_type         87641 non-null object\n",
      "funded_at                  87641 non-null object\n",
      "raised_amount_usd          87641 non-null float64\n",
      "name                       87641 non-null object\n",
      "category_list              87641 non-null object\n",
      "country_code               87641 non-null object\n",
      "dtypes: float64(1), object(7)\n",
      "memory usage: 6.0+ MB\n"
     ]
    }
   ],
   "source": [
    "master_frame.info()"
   ]
  },
  {
   "cell_type": "markdown",
   "metadata": {},
   "source": [
    "__With this, checkpoint 1 is concluded, summary of activities done are listed below__\n",
    "1. rounds2 file read into df, missing value and outlier treatment done\n",
    "2. companies file read into df, missing value treatement done\n",
    "3. Companies df merged to rounds2 df\n",
    "4. Treatment of missing values done\n",
    "#### CHECKPOINT 1 Done"
   ]
  },
  {
   "cell_type": "code",
   "execution_count": 751,
   "metadata": {},
   "outputs": [
    {
     "data": {
      "text/html": [
       "<div>\n",
       "<style scoped>\n",
       "    .dataframe tbody tr th:only-of-type {\n",
       "        vertical-align: middle;\n",
       "    }\n",
       "\n",
       "    .dataframe tbody tr th {\n",
       "        vertical-align: top;\n",
       "    }\n",
       "\n",
       "    .dataframe thead th {\n",
       "        text-align: right;\n",
       "    }\n",
       "</style>\n",
       "<table border=\"1\" class=\"dataframe\">\n",
       "  <thead>\n",
       "    <tr style=\"text-align: right;\">\n",
       "      <th></th>\n",
       "      <th>company_permalink</th>\n",
       "      <th>funding_round_permalink</th>\n",
       "      <th>funding_round_type</th>\n",
       "      <th>funded_at</th>\n",
       "      <th>raised_amount_usd</th>\n",
       "      <th>name</th>\n",
       "      <th>category_list</th>\n",
       "      <th>country_code</th>\n",
       "    </tr>\n",
       "  </thead>\n",
       "  <tbody>\n",
       "    <tr>\n",
       "      <td>0</td>\n",
       "      <td>/organization/-fame</td>\n",
       "      <td>/funding-round/9a01d05418af9f794eebff7ace91f638</td>\n",
       "      <td>venture</td>\n",
       "      <td>05-01-2015</td>\n",
       "      <td>10000000.0</td>\n",
       "      <td>#fame</td>\n",
       "      <td>Media</td>\n",
       "      <td>IND</td>\n",
       "    </tr>\n",
       "    <tr>\n",
       "      <td>1</td>\n",
       "      <td>/organization/-qounter</td>\n",
       "      <td>/funding-round/b44fbb94153f6cdef13083530bb48030</td>\n",
       "      <td>seed</td>\n",
       "      <td>01-03-2014</td>\n",
       "      <td>700000.0</td>\n",
       "      <td>:Qounter</td>\n",
       "      <td>Application Platforms|Real Time|Social Network...</td>\n",
       "      <td>USA</td>\n",
       "    </tr>\n",
       "    <tr>\n",
       "      <td>3</td>\n",
       "      <td>/organization/0-6-com</td>\n",
       "      <td>/funding-round/5727accaeaa57461bd22a9bdd945382d</td>\n",
       "      <td>venture</td>\n",
       "      <td>19-03-2008</td>\n",
       "      <td>2000000.0</td>\n",
       "      <td>0-6.com</td>\n",
       "      <td>Curated Web</td>\n",
       "      <td>CHN</td>\n",
       "    </tr>\n",
       "    <tr>\n",
       "      <td>4</td>\n",
       "      <td>/organization/01games-technology</td>\n",
       "      <td>/funding-round/7d53696f2b4f607a2f2a8cbb83d01839</td>\n",
       "      <td>undisclosed</td>\n",
       "      <td>01-07-2014</td>\n",
       "      <td>41250.0</td>\n",
       "      <td>01Games Technology</td>\n",
       "      <td>Games</td>\n",
       "      <td>HKG</td>\n",
       "    </tr>\n",
       "    <tr>\n",
       "      <td>5</td>\n",
       "      <td>/organization/0ndine-biomedical-inc</td>\n",
       "      <td>/funding-round/2b9d3ac293d5cdccbecff5c8cb0f327d</td>\n",
       "      <td>seed</td>\n",
       "      <td>11-09-2009</td>\n",
       "      <td>43360.0</td>\n",
       "      <td>Ondine Biomedical Inc.</td>\n",
       "      <td>Biotechnology</td>\n",
       "      <td>CAN</td>\n",
       "    </tr>\n",
       "  </tbody>\n",
       "</table>\n",
       "</div>"
      ],
      "text/plain": [
       "                     company_permalink  \\\n",
       "0                  /organization/-fame   \n",
       "1               /organization/-qounter   \n",
       "3                /organization/0-6-com   \n",
       "4     /organization/01games-technology   \n",
       "5  /organization/0ndine-biomedical-inc   \n",
       "\n",
       "                           funding_round_permalink funding_round_type  \\\n",
       "0  /funding-round/9a01d05418af9f794eebff7ace91f638            venture   \n",
       "1  /funding-round/b44fbb94153f6cdef13083530bb48030               seed   \n",
       "3  /funding-round/5727accaeaa57461bd22a9bdd945382d            venture   \n",
       "4  /funding-round/7d53696f2b4f607a2f2a8cbb83d01839        undisclosed   \n",
       "5  /funding-round/2b9d3ac293d5cdccbecff5c8cb0f327d               seed   \n",
       "\n",
       "    funded_at  raised_amount_usd                    name  \\\n",
       "0  05-01-2015         10000000.0                   #fame   \n",
       "1  01-03-2014           700000.0                :Qounter   \n",
       "3  19-03-2008          2000000.0                 0-6.com   \n",
       "4  01-07-2014            41250.0      01Games Technology   \n",
       "5  11-09-2009            43360.0  Ondine Biomedical Inc.   \n",
       "\n",
       "                                       category_list country_code  \n",
       "0                                              Media          IND  \n",
       "1  Application Platforms|Real Time|Social Network...          USA  \n",
       "3                                        Curated Web          CHN  \n",
       "4                                              Games          HKG  \n",
       "5                                      Biotechnology          CAN  "
      ]
     },
     "execution_count": 751,
     "metadata": {},
     "output_type": "execute_result"
    }
   ],
   "source": [
    "master_frame.head()"
   ]
  },
  {
   "cell_type": "markdown",
   "metadata": {},
   "source": [
    "### CHECKPOINT 2 Begins"
   ]
  },
  {
   "cell_type": "markdown",
   "metadata": {},
   "source": [
    "`Plotting the distribution of \"raised_amount_usd\" to visualise the distribution for the desired fund type`"
   ]
  },
  {
   "cell_type": "code",
   "execution_count": 752,
   "metadata": {},
   "outputs": [
    {
     "data": {
      "image/png": "[encoded data removed]",
      "text/plain": [
       "<Figure size 960x640 with 1 Axes>"
      ]
     },
     "metadata": {},
     "output_type": "display_data"
    }
   ],
   "source": [
    "master_subset = master_frame.loc[master_frame[\"funding_round_type\"].isin([\"seed\", \"angel\", \"venture\", \"private_equity\"])]\n",
    "plt.figure(num=None, figsize=(12, 8), dpi=80, facecolor='w', edgecolor='k')\n",
    "sns.boxplot(x='funding_round_type', y='raised_amount_usd', data=master_subset)\n",
    "plt.yscale('log')\n",
    "plt.show()"
   ]
  },
  {
   "cell_type": "markdown",
   "metadata": {},
   "source": [
    "__Mean and Median are calculated for all the 4 desired funding types__"
   ]
  },
  {
   "cell_type": "code",
   "execution_count": 753,
   "metadata": {},
   "outputs": [
    {
     "name": "stdout",
     "output_type": "stream",
     "text": [
      "count    2.109200e+04\n",
      "mean     7.322531e+05\n",
      "std      1.600747e+06\n",
      "min      0.000000e+00\n",
      "25%      6.882775e+04\n",
      "50%      3.000000e+05\n",
      "75%      1.000000e+06\n",
      "max      1.000000e+08\n",
      "Name: raised_amount_usd, dtype: float64\n",
      "Seed Mean: 732253.116442253\n",
      "Seed Median: 300000.0\n"
     ]
    }
   ],
   "source": [
    "print(master_frame.loc[master_frame['funding_round_type'] == \"seed\"]['raised_amount_usd'].describe())\n",
    "seed_mean = master_frame.loc[master_frame['funding_round_type'] == \"seed\"]['raised_amount_usd'].mean()\n",
    "seed_median = master_frame.loc[master_frame['funding_round_type'] == \"seed\"]['raised_amount_usd'].median()\n",
    "print(\"Seed Mean:\",seed_mean)\n",
    "print(\"Seed Median:\",seed_median)"
   ]
  },
  {
   "cell_type": "code",
   "execution_count": 754,
   "metadata": {},
   "outputs": [
    {
     "name": "stdout",
     "output_type": "stream",
     "text": [
      "count    4.399000e+03\n",
      "mean     8.593801e+05\n",
      "std      2.018470e+06\n",
      "min      0.000000e+00\n",
      "25%      1.526710e+05\n",
      "50%      4.148120e+05\n",
      "75%      1.000000e+06\n",
      "max      6.359026e+07\n",
      "Name: raised_amount_usd, dtype: float64\n",
      "Angel Mean: 859380.1157081155\n",
      "Angel Median: 414812.0\n"
     ]
    }
   ],
   "source": [
    "print(master_frame.loc[master_frame['funding_round_type'] == \"angel\"]['raised_amount_usd'].describe())\n",
    "angel_mean=master_frame.loc[master_frame['funding_round_type'] == \"angel\"]['raised_amount_usd'].mean()\n",
    "angel_median=master_frame.loc[master_frame['funding_round_type'] == \"angel\"]['raised_amount_usd'].median()\n",
    "print(\"Angel Mean:\",angel_mean)\n",
    "print(\"Angel Median:\",angel_median)"
   ]
  },
  {
   "cell_type": "code",
   "execution_count": 755,
   "metadata": {},
   "outputs": [
    {
     "name": "stdout",
     "output_type": "stream",
     "text": [
      "count    4.748100e+04\n",
      "mean     9.582695e+06\n",
      "std      1.345863e+07\n",
      "min      0.000000e+00\n",
      "25%      1.600000e+06\n",
      "50%      5.000000e+06\n",
      "75%      1.200000e+07\n",
      "max      1.104880e+08\n",
      "Name: raised_amount_usd, dtype: float64\n",
      "Venture Mean: 9582694.504665025\n",
      "Venture Median: 5000000.0\n"
     ]
    }
   ],
   "source": [
    "print(master_frame.loc[master_frame['funding_round_type'] == \"venture\"]['raised_amount_usd'].describe())\n",
    "venture_mean=master_frame.loc[master_frame['funding_round_type'] == \"venture\"]['raised_amount_usd'].mean()\n",
    "venture_median=master_frame.loc[master_frame['funding_round_type'] == \"venture\"]['raised_amount_usd'].median()\n",
    "print(\"Venture Mean:\",venture_mean)\n",
    "print(\"Venture Median:\",venture_median)"
   ]
  },
  {
   "cell_type": "code",
   "execution_count": 756,
   "metadata": {},
   "outputs": [
    {
     "name": "stdout",
     "output_type": "stream",
     "text": [
      "count    1.538000e+03\n",
      "mean     2.769929e+07\n",
      "std      3.101441e+07\n",
      "min      0.000000e+00\n",
      "25%      4.300000e+06\n",
      "50%      1.310991e+07\n",
      "75%      4.500000e+07\n",
      "max      1.101000e+08\n",
      "Name: raised_amount_usd, dtype: float64\n",
      "Private Equity Mean: 27699294.483745124\n",
      "Private Equity Median: 13109906.0\n"
     ]
    }
   ],
   "source": [
    "print(master_frame.loc[master_frame['funding_round_type'] == \"private_equity\"]['raised_amount_usd'].describe())\n",
    "private_equity_mean=master_frame.loc[master_frame['funding_round_type'] == \"private_equity\"]['raised_amount_usd'].mean()\n",
    "private_equity_median=master_frame.loc[master_frame['funding_round_type'] == \"private_equity\"]['raised_amount_usd'].median()\n",
    "print(\"Private Equity Mean:\",private_equity_mean)\n",
    "print(\"Private Equity Median:\",private_equity_median)"
   ]
  },
  {
   "cell_type": "markdown",
   "metadata": {},
   "source": [
    "__Best suited investment type for Spark Funds would be Venture funding since the Mean and the Median of Venture Funding lies in the range of 5 and 15 Million USD__"
   ]
  },
  {
   "cell_type": "markdown",
   "metadata": {},
   "source": [
    "__With this CheckPoint 2 is done, summary is below__\n",
    "1. Mean and Median has been calculated for all the 4 desired fund types\n",
    "2. _It was found that Venture Funding is the suitable one for Spark Funds as the mean of the Venture funding alone lies in the required range. Median also indicates this would be the best fund given the Business Constraint_ \n",
    "\n",
    "#### CheckPoint 2 Done"
   ]
  },
  {
   "cell_type": "markdown",
   "metadata": {},
   "source": [
    "#### CheckPoint 3 Begins"
   ]
  },
  {
   "cell_type": "markdown",
   "metadata": {},
   "source": [
    "`For the chosen funding type, \"Venture Funding\", group the df by country code`"
   ]
  },
  {
   "cell_type": "code",
   "execution_count": 757,
   "metadata": {
    "scrolled": true
   },
   "outputs": [
    {
     "data": {
      "text/plain": [
       "<pandas.core.groupby.generic.DataFrameGroupBy object at 0x0000025371B5CC88>"
      ]
     },
     "execution_count": 757,
     "metadata": {},
     "output_type": "execute_result"
    }
   ],
   "source": [
    "venture_funded_countries = master_frame.loc[(master_frame.funding_round_type == 'venture')].groupby(['country_code'])\n",
    "venture_funded_countries"
   ]
  },
  {
   "cell_type": "code",
   "execution_count": 758,
   "metadata": {},
   "outputs": [
    {
     "data": {
      "text/html": [
       "<div>\n",
       "<style scoped>\n",
       "    .dataframe tbody tr th:only-of-type {\n",
       "        vertical-align: middle;\n",
       "    }\n",
       "\n",
       "    .dataframe tbody tr th {\n",
       "        vertical-align: top;\n",
       "    }\n",
       "\n",
       "    .dataframe thead th {\n",
       "        text-align: right;\n",
       "    }\n",
       "</style>\n",
       "<table border=\"1\" class=\"dataframe\">\n",
       "  <thead>\n",
       "    <tr style=\"text-align: right;\">\n",
       "      <th></th>\n",
       "      <th>count</th>\n",
       "      <th>unique</th>\n",
       "      <th>top</th>\n",
       "      <th>freq</th>\n",
       "    </tr>\n",
       "    <tr>\n",
       "      <th>country_code</th>\n",
       "      <th></th>\n",
       "      <th></th>\n",
       "      <th></th>\n",
       "      <th></th>\n",
       "    </tr>\n",
       "  </thead>\n",
       "  <tbody>\n",
       "    <tr>\n",
       "      <td>ARE</td>\n",
       "      <td>26</td>\n",
       "      <td>20</td>\n",
       "      <td>/organization/chipin</td>\n",
       "      <td>3</td>\n",
       "    </tr>\n",
       "    <tr>\n",
       "      <td>ARG</td>\n",
       "      <td>58</td>\n",
       "      <td>39</td>\n",
       "      <td>/organization/trefoil-energy</td>\n",
       "      <td>4</td>\n",
       "    </tr>\n",
       "    <tr>\n",
       "      <td>ARM</td>\n",
       "      <td>2</td>\n",
       "      <td>1</td>\n",
       "      <td>/organization/be2</td>\n",
       "      <td>2</td>\n",
       "    </tr>\n",
       "    <tr>\n",
       "      <td>AUS</td>\n",
       "      <td>205</td>\n",
       "      <td>160</td>\n",
       "      <td>/organization/protagonist-therapeutics</td>\n",
       "      <td>4</td>\n",
       "    </tr>\n",
       "    <tr>\n",
       "      <td>AUT</td>\n",
       "      <td>50</td>\n",
       "      <td>37</td>\n",
       "      <td>/organization/miracor-medical-systems</td>\n",
       "      <td>3</td>\n",
       "    </tr>\n",
       "    <tr>\n",
       "      <td>BAH</td>\n",
       "      <td>1</td>\n",
       "      <td>1</td>\n",
       "      <td>/organization/okyanos-heart-institute</td>\n",
       "      <td>1</td>\n",
       "    </tr>\n",
       "    <tr>\n",
       "      <td>BEL</td>\n",
       "      <td>141</td>\n",
       "      <td>100</td>\n",
       "      <td>/organization/amplidata</td>\n",
       "      <td>6</td>\n",
       "    </tr>\n",
       "    <tr>\n",
       "      <td>BGD</td>\n",
       "      <td>2</td>\n",
       "      <td>2</td>\n",
       "      <td>/organization/t-zone</td>\n",
       "      <td>1</td>\n",
       "    </tr>\n",
       "    <tr>\n",
       "      <td>BGR</td>\n",
       "      <td>2</td>\n",
       "      <td>2</td>\n",
       "      <td>/organization/eurocapital-bitex</td>\n",
       "      <td>1</td>\n",
       "    </tr>\n",
       "    <tr>\n",
       "      <td>BMU</td>\n",
       "      <td>3</td>\n",
       "      <td>3</td>\n",
       "      <td>/organization/quovadis</td>\n",
       "      <td>1</td>\n",
       "    </tr>\n",
       "    <tr>\n",
       "      <td>BRA</td>\n",
       "      <td>142</td>\n",
       "      <td>105</td>\n",
       "      <td>/organization/ifood</td>\n",
       "      <td>5</td>\n",
       "    </tr>\n",
       "    <tr>\n",
       "      <td>BWA</td>\n",
       "      <td>2</td>\n",
       "      <td>2</td>\n",
       "      <td>/organization/wyzetalk</td>\n",
       "      <td>1</td>\n",
       "    </tr>\n",
       "    <tr>\n",
       "      <td>CAN</td>\n",
       "      <td>1245</td>\n",
       "      <td>775</td>\n",
       "      <td>/organization/creation-technologies</td>\n",
       "      <td>9</td>\n",
       "    </tr>\n",
       "    <tr>\n",
       "      <td>CHE</td>\n",
       "      <td>237</td>\n",
       "      <td>158</td>\n",
       "      <td>/organization/biocartis</td>\n",
       "      <td>6</td>\n",
       "    </tr>\n",
       "    <tr>\n",
       "      <td>CHL</td>\n",
       "      <td>10</td>\n",
       "      <td>7</td>\n",
       "      <td>/organization/comparaonline</td>\n",
       "      <td>3</td>\n",
       "    </tr>\n",
       "    <tr>\n",
       "      <td>CHN</td>\n",
       "      <td>1502</td>\n",
       "      <td>981</td>\n",
       "      <td>/organization/sumavision</td>\n",
       "      <td>6</td>\n",
       "    </tr>\n",
       "    <tr>\n",
       "      <td>CMR</td>\n",
       "      <td>3</td>\n",
       "      <td>2</td>\n",
       "      <td>/organization/kiroo-games</td>\n",
       "      <td>2</td>\n",
       "    </tr>\n",
       "    <tr>\n",
       "      <td>COL</td>\n",
       "      <td>21</td>\n",
       "      <td>16</td>\n",
       "      <td>/organization/virgin-mobile-latin-america</td>\n",
       "      <td>2</td>\n",
       "    </tr>\n",
       "    <tr>\n",
       "      <td>CYM</td>\n",
       "      <td>8</td>\n",
       "      <td>6</td>\n",
       "      <td>/organization/d-light-design</td>\n",
       "      <td>3</td>\n",
       "    </tr>\n",
       "    <tr>\n",
       "      <td>CYP</td>\n",
       "      <td>10</td>\n",
       "      <td>4</td>\n",
       "      <td>/organization/etoro</td>\n",
       "      <td>7</td>\n",
       "    </tr>\n",
       "    <tr>\n",
       "      <td>CZE</td>\n",
       "      <td>23</td>\n",
       "      <td>17</td>\n",
       "      <td>/organization/socialbakers</td>\n",
       "      <td>3</td>\n",
       "    </tr>\n",
       "    <tr>\n",
       "      <td>DEU</td>\n",
       "      <td>551</td>\n",
       "      <td>380</td>\n",
       "      <td>/organization/plastic-logic</td>\n",
       "      <td>5</td>\n",
       "    </tr>\n",
       "    <tr>\n",
       "      <td>DNK</td>\n",
       "      <td>108</td>\n",
       "      <td>86</td>\n",
       "      <td>/organization/trustpilot</td>\n",
       "      <td>5</td>\n",
       "    </tr>\n",
       "    <tr>\n",
       "      <td>ECU</td>\n",
       "      <td>2</td>\n",
       "      <td>2</td>\n",
       "      <td>/organization/couchy-com</td>\n",
       "      <td>1</td>\n",
       "    </tr>\n",
       "    <tr>\n",
       "      <td>EGY</td>\n",
       "      <td>10</td>\n",
       "      <td>9</td>\n",
       "      <td>/organization/jumia-nigeria</td>\n",
       "      <td>2</td>\n",
       "    </tr>\n",
       "    <tr>\n",
       "      <td>ESP</td>\n",
       "      <td>316</td>\n",
       "      <td>238</td>\n",
       "      <td>/organization/ticketbis</td>\n",
       "      <td>6</td>\n",
       "    </tr>\n",
       "    <tr>\n",
       "      <td>EST</td>\n",
       "      <td>20</td>\n",
       "      <td>16</td>\n",
       "      <td>/organization/skeleton-technologies</td>\n",
       "      <td>3</td>\n",
       "    </tr>\n",
       "    <tr>\n",
       "      <td>FIN</td>\n",
       "      <td>149</td>\n",
       "      <td>118</td>\n",
       "      <td>/organization/cadfaster</td>\n",
       "      <td>5</td>\n",
       "    </tr>\n",
       "    <tr>\n",
       "      <td>FRA</td>\n",
       "      <td>908</td>\n",
       "      <td>637</td>\n",
       "      <td>/organization/e-blink</td>\n",
       "      <td>7</td>\n",
       "    </tr>\n",
       "    <tr>\n",
       "      <td>GBR</td>\n",
       "      <td>2032</td>\n",
       "      <td>1367</td>\n",
       "      <td>/organization/rostima</td>\n",
       "      <td>8</td>\n",
       "    </tr>\n",
       "    <tr>\n",
       "      <td>GGY</td>\n",
       "      <td>1</td>\n",
       "      <td>1</td>\n",
       "      <td>/organization/amazing-global-technologies</td>\n",
       "      <td>1</td>\n",
       "    </tr>\n",
       "    <tr>\n",
       "      <td>GHA</td>\n",
       "      <td>3</td>\n",
       "      <td>3</td>\n",
       "      <td>/organization/tigo</td>\n",
       "      <td>1</td>\n",
       "    </tr>\n",
       "    <tr>\n",
       "      <td>GIB</td>\n",
       "      <td>4</td>\n",
       "      <td>1</td>\n",
       "      <td>/organization/wave-crest-holdings</td>\n",
       "      <td>4</td>\n",
       "    </tr>\n",
       "    <tr>\n",
       "      <td>GRC</td>\n",
       "      <td>6</td>\n",
       "      <td>5</td>\n",
       "      <td>/organization/taxibeat</td>\n",
       "      <td>2</td>\n",
       "    </tr>\n",
       "    <tr>\n",
       "      <td>GTM</td>\n",
       "      <td>1</td>\n",
       "      <td>1</td>\n",
       "      <td>/organization/kipo</td>\n",
       "      <td>1</td>\n",
       "    </tr>\n",
       "    <tr>\n",
       "      <td>HKG</td>\n",
       "      <td>75</td>\n",
       "      <td>55</td>\n",
       "      <td>/organization/ozura</td>\n",
       "      <td>4</td>\n",
       "    </tr>\n",
       "    <tr>\n",
       "      <td>HRV</td>\n",
       "      <td>2</td>\n",
       "      <td>2</td>\n",
       "      <td>/organization/degordian</td>\n",
       "      <td>1</td>\n",
       "    </tr>\n",
       "    <tr>\n",
       "      <td>HUN</td>\n",
       "      <td>15</td>\n",
       "      <td>12</td>\n",
       "      <td>/organization/tresorium</td>\n",
       "      <td>2</td>\n",
       "    </tr>\n",
       "    <tr>\n",
       "      <td>IDN</td>\n",
       "      <td>27</td>\n",
       "      <td>22</td>\n",
       "      <td>/organization/multiply</td>\n",
       "      <td>4</td>\n",
       "    </tr>\n",
       "    <tr>\n",
       "      <td>IND</td>\n",
       "      <td>805</td>\n",
       "      <td>543</td>\n",
       "      <td>/organization/zomato</td>\n",
       "      <td>8</td>\n",
       "    </tr>\n",
       "    <tr>\n",
       "      <td>IRL</td>\n",
       "      <td>220</td>\n",
       "      <td>163</td>\n",
       "      <td>/organization/cubictelecom</td>\n",
       "      <td>4</td>\n",
       "    </tr>\n",
       "    <tr>\n",
       "      <td>ISL</td>\n",
       "      <td>12</td>\n",
       "      <td>6</td>\n",
       "      <td>/organization/kerecis</td>\n",
       "      <td>3</td>\n",
       "    </tr>\n",
       "    <tr>\n",
       "      <td>ISR</td>\n",
       "      <td>785</td>\n",
       "      <td>489</td>\n",
       "      <td>/organization/rit-technologies-ltd</td>\n",
       "      <td>9</td>\n",
       "    </tr>\n",
       "    <tr>\n",
       "      <td>ITA</td>\n",
       "      <td>124</td>\n",
       "      <td>110</td>\n",
       "      <td>/organization/risparmiosuper</td>\n",
       "      <td>3</td>\n",
       "    </tr>\n",
       "    <tr>\n",
       "      <td>JOR</td>\n",
       "      <td>8</td>\n",
       "      <td>6</td>\n",
       "      <td>/organization/markavip</td>\n",
       "      <td>2</td>\n",
       "    </tr>\n",
       "    <tr>\n",
       "      <td>JPN</td>\n",
       "      <td>266</td>\n",
       "      <td>187</td>\n",
       "      <td>/organization/brightcove</td>\n",
       "      <td>8</td>\n",
       "    </tr>\n",
       "    <tr>\n",
       "      <td>KAZ</td>\n",
       "      <td>2</td>\n",
       "      <td>1</td>\n",
       "      <td>/organization/genenta-science</td>\n",
       "      <td>2</td>\n",
       "    </tr>\n",
       "    <tr>\n",
       "      <td>KEN</td>\n",
       "      <td>7</td>\n",
       "      <td>6</td>\n",
       "      <td>/organization/bridge-international-academies</td>\n",
       "      <td>2</td>\n",
       "    </tr>\n",
       "    <tr>\n",
       "      <td>KNA</td>\n",
       "      <td>1</td>\n",
       "      <td>1</td>\n",
       "      <td>/organization/maipu-communication</td>\n",
       "      <td>1</td>\n",
       "    </tr>\n",
       "    <tr>\n",
       "      <td>KOR</td>\n",
       "      <td>194</td>\n",
       "      <td>147</td>\n",
       "      <td>/organization/enswers</td>\n",
       "      <td>5</td>\n",
       "    </tr>\n",
       "    <tr>\n",
       "      <td>KWT</td>\n",
       "      <td>1</td>\n",
       "      <td>1</td>\n",
       "      <td>/organization/sakhr-software</td>\n",
       "      <td>1</td>\n",
       "    </tr>\n",
       "    <tr>\n",
       "      <td>LAO</td>\n",
       "      <td>1</td>\n",
       "      <td>1</td>\n",
       "      <td>/organization/sunlabob-renewable-energy</td>\n",
       "      <td>1</td>\n",
       "    </tr>\n",
       "    <tr>\n",
       "      <td>LBN</td>\n",
       "      <td>8</td>\n",
       "      <td>7</td>\n",
       "      <td>/organization/anghami</td>\n",
       "      <td>2</td>\n",
       "    </tr>\n",
       "    <tr>\n",
       "      <td>LIE</td>\n",
       "      <td>2</td>\n",
       "      <td>2</td>\n",
       "      <td>/organization/pantec-biosolutions</td>\n",
       "      <td>1</td>\n",
       "    </tr>\n",
       "    <tr>\n",
       "      <td>LTU</td>\n",
       "      <td>6</td>\n",
       "      <td>4</td>\n",
       "      <td>/organization/vinted</td>\n",
       "      <td>2</td>\n",
       "    </tr>\n",
       "    <tr>\n",
       "      <td>LUX</td>\n",
       "      <td>15</td>\n",
       "      <td>14</td>\n",
       "      <td>/organization/skype</td>\n",
       "      <td>2</td>\n",
       "    </tr>\n",
       "    <tr>\n",
       "      <td>LVA</td>\n",
       "      <td>10</td>\n",
       "      <td>7</td>\n",
       "      <td>/organization/naco-technologies-ltd</td>\n",
       "      <td>3</td>\n",
       "    </tr>\n",
       "    <tr>\n",
       "      <td>MAF</td>\n",
       "      <td>2</td>\n",
       "      <td>1</td>\n",
       "      <td>/organization/volubill</td>\n",
       "      <td>2</td>\n",
       "    </tr>\n",
       "    <tr>\n",
       "      <td>MAR</td>\n",
       "      <td>1</td>\n",
       "      <td>1</td>\n",
       "      <td>/organization/hmall-ma</td>\n",
       "      <td>1</td>\n",
       "    </tr>\n",
       "    <tr>\n",
       "      <td>MCO</td>\n",
       "      <td>1</td>\n",
       "      <td>1</td>\n",
       "      <td>/organization/monaco-telematique</td>\n",
       "      <td>1</td>\n",
       "    </tr>\n",
       "    <tr>\n",
       "      <td>MEX</td>\n",
       "      <td>22</td>\n",
       "      <td>17</td>\n",
       "      <td>/organization/cool-planet-energy-systems</td>\n",
       "      <td>6</td>\n",
       "    </tr>\n",
       "    <tr>\n",
       "      <td>MLT</td>\n",
       "      <td>3</td>\n",
       "      <td>3</td>\n",
       "      <td>/organization/zeturf</td>\n",
       "      <td>1</td>\n",
       "    </tr>\n",
       "    <tr>\n",
       "      <td>MMR</td>\n",
       "      <td>1</td>\n",
       "      <td>1</td>\n",
       "      <td>/organization/frontiir</td>\n",
       "      <td>1</td>\n",
       "    </tr>\n",
       "    <tr>\n",
       "      <td>MNE</td>\n",
       "      <td>1</td>\n",
       "      <td>1</td>\n",
       "      <td>/organization/agea</td>\n",
       "      <td>1</td>\n",
       "    </tr>\n",
       "    <tr>\n",
       "      <td>MUS</td>\n",
       "      <td>1</td>\n",
       "      <td>1</td>\n",
       "      <td>/organization/esoko</td>\n",
       "      <td>1</td>\n",
       "    </tr>\n",
       "    <tr>\n",
       "      <td>MYS</td>\n",
       "      <td>28</td>\n",
       "      <td>19</td>\n",
       "      <td>/organization/friendster</td>\n",
       "      <td>5</td>\n",
       "    </tr>\n",
       "    <tr>\n",
       "      <td>NGA</td>\n",
       "      <td>14</td>\n",
       "      <td>10</td>\n",
       "      <td>/organization/konga-online-shopping-limited</td>\n",
       "      <td>3</td>\n",
       "    </tr>\n",
       "    <tr>\n",
       "      <td>NLD</td>\n",
       "      <td>182</td>\n",
       "      <td>129</td>\n",
       "      <td>/organization/to-bbb</td>\n",
       "      <td>4</td>\n",
       "    </tr>\n",
       "    <tr>\n",
       "      <td>NOR</td>\n",
       "      <td>86</td>\n",
       "      <td>58</td>\n",
       "      <td>/organization/xenome</td>\n",
       "      <td>5</td>\n",
       "    </tr>\n",
       "    <tr>\n",
       "      <td>NZL</td>\n",
       "      <td>47</td>\n",
       "      <td>31</td>\n",
       "      <td>/organization/vendhq</td>\n",
       "      <td>5</td>\n",
       "    </tr>\n",
       "    <tr>\n",
       "      <td>PAK</td>\n",
       "      <td>7</td>\n",
       "      <td>6</td>\n",
       "      <td>/organization/naseeb-networks</td>\n",
       "      <td>2</td>\n",
       "    </tr>\n",
       "    <tr>\n",
       "      <td>PAN</td>\n",
       "      <td>1</td>\n",
       "      <td>1</td>\n",
       "      <td>/organization/fortatrust</td>\n",
       "      <td>1</td>\n",
       "    </tr>\n",
       "    <tr>\n",
       "      <td>PER</td>\n",
       "      <td>6</td>\n",
       "      <td>3</td>\n",
       "      <td>/organization/cinepapaya</td>\n",
       "      <td>4</td>\n",
       "    </tr>\n",
       "    <tr>\n",
       "      <td>PHL</td>\n",
       "      <td>13</td>\n",
       "      <td>11</td>\n",
       "      <td>/organization/branders-com</td>\n",
       "      <td>2</td>\n",
       "    </tr>\n",
       "    <tr>\n",
       "      <td>POL</td>\n",
       "      <td>31</td>\n",
       "      <td>26</td>\n",
       "      <td>/organization/docplanner</td>\n",
       "      <td>3</td>\n",
       "    </tr>\n",
       "    <tr>\n",
       "      <td>PRI</td>\n",
       "      <td>2</td>\n",
       "      <td>2</td>\n",
       "      <td>/organization/cdi-laboratories</td>\n",
       "      <td>1</td>\n",
       "    </tr>\n",
       "    <tr>\n",
       "      <td>PRT</td>\n",
       "      <td>20</td>\n",
       "      <td>17</td>\n",
       "      <td>/organization/chipidea-microelectrnica</td>\n",
       "      <td>3</td>\n",
       "    </tr>\n",
       "    <tr>\n",
       "      <td>ROM</td>\n",
       "      <td>7</td>\n",
       "      <td>7</td>\n",
       "      <td>/organization/edus</td>\n",
       "      <td>1</td>\n",
       "    </tr>\n",
       "    <tr>\n",
       "      <td>RUS</td>\n",
       "      <td>199</td>\n",
       "      <td>143</td>\n",
       "      <td>/organization/kupivip</td>\n",
       "      <td>5</td>\n",
       "    </tr>\n",
       "    <tr>\n",
       "      <td>SAU</td>\n",
       "      <td>1</td>\n",
       "      <td>1</td>\n",
       "      <td>/organization/lamsa</td>\n",
       "      <td>1</td>\n",
       "    </tr>\n",
       "    <tr>\n",
       "      <td>SEN</td>\n",
       "      <td>1</td>\n",
       "      <td>1</td>\n",
       "      <td>/organization/matforce</td>\n",
       "      <td>1</td>\n",
       "    </tr>\n",
       "    <tr>\n",
       "      <td>SGP</td>\n",
       "      <td>218</td>\n",
       "      <td>147</td>\n",
       "      <td>/organization/advanced-micro-fabrication-equip...</td>\n",
       "      <td>6</td>\n",
       "    </tr>\n",
       "    <tr>\n",
       "      <td>SVK</td>\n",
       "      <td>5</td>\n",
       "      <td>5</td>\n",
       "      <td>/organization/lingout</td>\n",
       "      <td>1</td>\n",
       "    </tr>\n",
       "    <tr>\n",
       "      <td>SVN</td>\n",
       "      <td>2</td>\n",
       "      <td>2</td>\n",
       "      <td>/organization/mountvacation</td>\n",
       "      <td>1</td>\n",
       "    </tr>\n",
       "    <tr>\n",
       "      <td>SWE</td>\n",
       "      <td>271</td>\n",
       "      <td>195</td>\n",
       "      <td>/organization/nanoradio</td>\n",
       "      <td>6</td>\n",
       "    </tr>\n",
       "    <tr>\n",
       "      <td>TAN</td>\n",
       "      <td>5</td>\n",
       "      <td>2</td>\n",
       "      <td>/organization/off-grid-electric</td>\n",
       "      <td>3</td>\n",
       "    </tr>\n",
       "    <tr>\n",
       "      <td>THA</td>\n",
       "      <td>22</td>\n",
       "      <td>16</td>\n",
       "      <td>/organization/ensogo</td>\n",
       "      <td>4</td>\n",
       "    </tr>\n",
       "    <tr>\n",
       "      <td>TTO</td>\n",
       "      <td>3</td>\n",
       "      <td>2</td>\n",
       "      <td>/organization/expertplan</td>\n",
       "      <td>2</td>\n",
       "    </tr>\n",
       "    <tr>\n",
       "      <td>TUN</td>\n",
       "      <td>1</td>\n",
       "      <td>1</td>\n",
       "      <td>/organization/bitaka-cards-solutions</td>\n",
       "      <td>1</td>\n",
       "    </tr>\n",
       "    <tr>\n",
       "      <td>TUR</td>\n",
       "      <td>88</td>\n",
       "      <td>64</td>\n",
       "      <td>/organization/beyond-the-rack</td>\n",
       "      <td>4</td>\n",
       "    </tr>\n",
       "    <tr>\n",
       "      <td>TWN</td>\n",
       "      <td>30</td>\n",
       "      <td>25</td>\n",
       "      <td>/organization/ubitus</td>\n",
       "      <td>2</td>\n",
       "    </tr>\n",
       "    <tr>\n",
       "      <td>UGA</td>\n",
       "      <td>1</td>\n",
       "      <td>1</td>\n",
       "      <td>/organization/solarnow</td>\n",
       "      <td>1</td>\n",
       "    </tr>\n",
       "    <tr>\n",
       "      <td>UKR</td>\n",
       "      <td>8</td>\n",
       "      <td>8</td>\n",
       "      <td>/organization/edgewood-services</td>\n",
       "      <td>1</td>\n",
       "    </tr>\n",
       "    <tr>\n",
       "      <td>URY</td>\n",
       "      <td>8</td>\n",
       "      <td>6</td>\n",
       "      <td>/organization/pedidosya</td>\n",
       "      <td>3</td>\n",
       "    </tr>\n",
       "    <tr>\n",
       "      <td>USA</td>\n",
       "      <td>35720</td>\n",
       "      <td>19174</td>\n",
       "      <td>/organization/endogastric-solutions</td>\n",
       "      <td>14</td>\n",
       "    </tr>\n",
       "    <tr>\n",
       "      <td>VNM</td>\n",
       "      <td>10</td>\n",
       "      <td>9</td>\n",
       "      <td>/organization/naiscorp-information-technology-...</td>\n",
       "      <td>2</td>\n",
       "    </tr>\n",
       "    <tr>\n",
       "      <td>ZAF</td>\n",
       "      <td>22</td>\n",
       "      <td>20</td>\n",
       "      <td>/organization/nomanini</td>\n",
       "      <td>2</td>\n",
       "    </tr>\n",
       "  </tbody>\n",
       "</table>\n",
       "</div>"
      ],
      "text/plain": [
       "              count unique                                                top  \\\n",
       "country_code                                                                    \n",
       "ARE              26     20                               /organization/chipin   \n",
       "ARG              58     39                       /organization/trefoil-energy   \n",
       "ARM               2      1                                  /organization/be2   \n",
       "AUS             205    160             /organization/protagonist-therapeutics   \n",
       "AUT              50     37              /organization/miracor-medical-systems   \n",
       "BAH               1      1              /organization/okyanos-heart-institute   \n",
       "BEL             141    100                            /organization/amplidata   \n",
       "BGD               2      2                               /organization/t-zone   \n",
       "BGR               2      2                    /organization/eurocapital-bitex   \n",
       "BMU               3      3                             /organization/quovadis   \n",
       "BRA             142    105                                /organization/ifood   \n",
       "BWA               2      2                             /organization/wyzetalk   \n",
       "CAN            1245    775                /organization/creation-technologies   \n",
       "CHE             237    158                            /organization/biocartis   \n",
       "CHL              10      7                        /organization/comparaonline   \n",
       "CHN            1502    981                           /organization/sumavision   \n",
       "CMR               3      2                          /organization/kiroo-games   \n",
       "COL              21     16          /organization/virgin-mobile-latin-america   \n",
       "CYM               8      6                       /organization/d-light-design   \n",
       "CYP              10      4                                /organization/etoro   \n",
       "CZE              23     17                         /organization/socialbakers   \n",
       "DEU             551    380                        /organization/plastic-logic   \n",
       "DNK             108     86                           /organization/trustpilot   \n",
       "ECU               2      2                           /organization/couchy-com   \n",
       "EGY              10      9                        /organization/jumia-nigeria   \n",
       "ESP             316    238                            /organization/ticketbis   \n",
       "EST              20     16                /organization/skeleton-technologies   \n",
       "FIN             149    118                            /organization/cadfaster   \n",
       "FRA             908    637                              /organization/e-blink   \n",
       "GBR            2032   1367                              /organization/rostima   \n",
       "GGY               1      1          /organization/amazing-global-technologies   \n",
       "GHA               3      3                                 /organization/tigo   \n",
       "GIB               4      1                  /organization/wave-crest-holdings   \n",
       "GRC               6      5                             /organization/taxibeat   \n",
       "GTM               1      1                                 /organization/kipo   \n",
       "HKG              75     55                                /organization/ozura   \n",
       "HRV               2      2                            /organization/degordian   \n",
       "HUN              15     12                            /organization/tresorium   \n",
       "IDN              27     22                             /organization/multiply   \n",
       "IND             805    543                               /organization/zomato   \n",
       "IRL             220    163                         /organization/cubictelecom   \n",
       "ISL              12      6                              /organization/kerecis   \n",
       "ISR             785    489                 /organization/rit-technologies-ltd   \n",
       "ITA             124    110                       /organization/risparmiosuper   \n",
       "JOR               8      6                             /organization/markavip   \n",
       "JPN             266    187                           /organization/brightcove   \n",
       "KAZ               2      1                      /organization/genenta-science   \n",
       "KEN               7      6       /organization/bridge-international-academies   \n",
       "KNA               1      1                  /organization/maipu-communication   \n",
       "KOR             194    147                              /organization/enswers   \n",
       "KWT               1      1                       /organization/sakhr-software   \n",
       "LAO               1      1            /organization/sunlabob-renewable-energy   \n",
       "LBN               8      7                              /organization/anghami   \n",
       "LIE               2      2                  /organization/pantec-biosolutions   \n",
       "LTU               6      4                               /organization/vinted   \n",
       "LUX              15     14                                /organization/skype   \n",
       "LVA              10      7                /organization/naco-technologies-ltd   \n",
       "MAF               2      1                             /organization/volubill   \n",
       "MAR               1      1                             /organization/hmall-ma   \n",
       "MCO               1      1                   /organization/monaco-telematique   \n",
       "MEX              22     17           /organization/cool-planet-energy-systems   \n",
       "MLT               3      3                               /organization/zeturf   \n",
       "MMR               1      1                             /organization/frontiir   \n",
       "MNE               1      1                                 /organization/agea   \n",
       "MUS               1      1                                /organization/esoko   \n",
       "MYS              28     19                           /organization/friendster   \n",
       "NGA              14     10        /organization/konga-online-shopping-limited   \n",
       "NLD             182    129                               /organization/to-bbb   \n",
       "NOR              86     58                               /organization/xenome   \n",
       "NZL              47     31                               /organization/vendhq   \n",
       "PAK               7      6                      /organization/naseeb-networks   \n",
       "PAN               1      1                           /organization/fortatrust   \n",
       "PER               6      3                           /organization/cinepapaya   \n",
       "PHL              13     11                         /organization/branders-com   \n",
       "POL              31     26                           /organization/docplanner   \n",
       "PRI               2      2                     /organization/cdi-laboratories   \n",
       "PRT              20     17             /organization/chipidea-microelectrnica   \n",
       "ROM               7      7                                 /organization/edus   \n",
       "RUS             199    143                              /organization/kupivip   \n",
       "SAU               1      1                                /organization/lamsa   \n",
       "SEN               1      1                             /organization/matforce   \n",
       "SGP             218    147  /organization/advanced-micro-fabrication-equip...   \n",
       "SVK               5      5                              /organization/lingout   \n",
       "SVN               2      2                        /organization/mountvacation   \n",
       "SWE             271    195                            /organization/nanoradio   \n",
       "TAN               5      2                    /organization/off-grid-electric   \n",
       "THA              22     16                               /organization/ensogo   \n",
       "TTO               3      2                           /organization/expertplan   \n",
       "TUN               1      1               /organization/bitaka-cards-solutions   \n",
       "TUR              88     64                      /organization/beyond-the-rack   \n",
       "TWN              30     25                               /organization/ubitus   \n",
       "UGA               1      1                             /organization/solarnow   \n",
       "UKR               8      8                    /organization/edgewood-services   \n",
       "URY               8      6                            /organization/pedidosya   \n",
       "USA           35720  19174                /organization/endogastric-solutions   \n",
       "VNM              10      9  /organization/naiscorp-information-technology-...   \n",
       "ZAF              22     20                             /organization/nomanini   \n",
       "\n",
       "             freq  \n",
       "country_code       \n",
       "ARE             3  \n",
       "ARG             4  \n",
       "ARM             2  \n",
       "AUS             4  \n",
       "AUT             3  \n",
       "BAH             1  \n",
       "BEL             6  \n",
       "BGD             1  \n",
       "BGR             1  \n",
       "BMU             1  \n",
       "BRA             5  \n",
       "BWA             1  \n",
       "CAN             9  \n",
       "CHE             6  \n",
       "CHL             3  \n",
       "CHN             6  \n",
       "CMR             2  \n",
       "COL             2  \n",
       "CYM             3  \n",
       "CYP             7  \n",
       "CZE             3  \n",
       "DEU             5  \n",
       "DNK             5  \n",
       "ECU             1  \n",
       "EGY             2  \n",
       "ESP             6  \n",
       "EST             3  \n",
       "FIN             5  \n",
       "FRA             7  \n",
       "GBR             8  \n",
       "GGY             1  \n",
       "GHA             1  \n",
       "GIB             4  \n",
       "GRC             2  \n",
       "GTM             1  \n",
       "HKG             4  \n",
       "HRV             1  \n",
       "HUN             2  \n",
       "IDN             4  \n",
       "IND             8  \n",
       "IRL             4  \n",
       "ISL             3  \n",
       "ISR             9  \n",
       "ITA             3  \n",
       "JOR             2  \n",
       "JPN             8  \n",
       "KAZ             2  \n",
       "KEN             2  \n",
       "KNA             1  \n",
       "KOR             5  \n",
       "KWT             1  \n",
       "LAO             1  \n",
       "LBN             2  \n",
       "LIE             1  \n",
       "LTU             2  \n",
       "LUX             2  \n",
       "LVA             3  \n",
       "MAF             2  \n",
       "MAR             1  \n",
       "MCO             1  \n",
       "MEX             6  \n",
       "MLT             1  \n",
       "MMR             1  \n",
       "MNE             1  \n",
       "MUS             1  \n",
       "MYS             5  \n",
       "NGA             3  \n",
       "NLD             4  \n",
       "NOR             5  \n",
       "NZL             5  \n",
       "PAK             2  \n",
       "PAN             1  \n",
       "PER             4  \n",
       "PHL             2  \n",
       "POL             3  \n",
       "PRI             1  \n",
       "PRT             3  \n",
       "ROM             1  \n",
       "RUS             5  \n",
       "SAU             1  \n",
       "SEN             1  \n",
       "SGP             6  \n",
       "SVK             1  \n",
       "SVN             1  \n",
       "SWE             6  \n",
       "TAN             3  \n",
       "THA             4  \n",
       "TTO             2  \n",
       "TUN             1  \n",
       "TUR             4  \n",
       "TWN             2  \n",
       "UGA             1  \n",
       "UKR             1  \n",
       "URY             3  \n",
       "USA            14  \n",
       "VNM             2  \n",
       "ZAF             2  "
      ]
     },
     "execution_count": 758,
     "metadata": {},
     "output_type": "execute_result"
    }
   ],
   "source": [
    "venture_funded_countries['company_permalink'].describe()"
   ]
  },
  {
   "cell_type": "markdown",
   "metadata": {},
   "source": [
    "`Sorting the Venture funded countries based on Investment amount`"
   ]
  },
  {
   "cell_type": "code",
   "execution_count": 759,
   "metadata": {},
   "outputs": [],
   "source": [
    "top9_venture_funded_countries=venture_funded_countries['raised_amount_usd'].sum().sort_values(ascending=False).reset_index()"
   ]
  },
  {
   "cell_type": "markdown",
   "metadata": {},
   "source": [
    "`Retaining the top 9 and removing the rest`"
   ]
  },
  {
   "cell_type": "code",
   "execution_count": 760,
   "metadata": {},
   "outputs": [],
   "source": [
    "top9_venture_funded_countries=top9_venture_funded_countries.iloc[0:9]"
   ]
  },
  {
   "cell_type": "code",
   "execution_count": 761,
   "metadata": {},
   "outputs": [
    {
     "data": {
      "text/html": [
       "<div>\n",
       "<style scoped>\n",
       "    .dataframe tbody tr th:only-of-type {\n",
       "        vertical-align: middle;\n",
       "    }\n",
       "\n",
       "    .dataframe tbody tr th {\n",
       "        vertical-align: top;\n",
       "    }\n",
       "\n",
       "    .dataframe thead th {\n",
       "        text-align: right;\n",
       "    }\n",
       "</style>\n",
       "<table border=\"1\" class=\"dataframe\">\n",
       "  <thead>\n",
       "    <tr style=\"text-align: right;\">\n",
       "      <th></th>\n",
       "      <th>country_code</th>\n",
       "      <th>raised_amount_usd</th>\n",
       "    </tr>\n",
       "  </thead>\n",
       "  <tbody>\n",
       "    <tr>\n",
       "      <td>0</td>\n",
       "      <td>USA</td>\n",
       "      <td>3.437622e+11</td>\n",
       "    </tr>\n",
       "    <tr>\n",
       "      <td>1</td>\n",
       "      <td>CHN</td>\n",
       "      <td>2.477892e+10</td>\n",
       "    </tr>\n",
       "    <tr>\n",
       "      <td>2</td>\n",
       "      <td>GBR</td>\n",
       "      <td>1.754107e+10</td>\n",
       "    </tr>\n",
       "    <tr>\n",
       "      <td>3</td>\n",
       "      <td>IND</td>\n",
       "      <td>9.990809e+09</td>\n",
       "    </tr>\n",
       "    <tr>\n",
       "      <td>4</td>\n",
       "      <td>CAN</td>\n",
       "      <td>9.317218e+09</td>\n",
       "    </tr>\n",
       "    <tr>\n",
       "      <td>5</td>\n",
       "      <td>ISR</td>\n",
       "      <td>6.704350e+09</td>\n",
       "    </tr>\n",
       "    <tr>\n",
       "      <td>6</td>\n",
       "      <td>FRA</td>\n",
       "      <td>6.255329e+09</td>\n",
       "    </tr>\n",
       "    <tr>\n",
       "      <td>7</td>\n",
       "      <td>DEU</td>\n",
       "      <td>5.893145e+09</td>\n",
       "    </tr>\n",
       "    <tr>\n",
       "      <td>8</td>\n",
       "      <td>CHE</td>\n",
       "      <td>2.801560e+09</td>\n",
       "    </tr>\n",
       "  </tbody>\n",
       "</table>\n",
       "</div>"
      ],
      "text/plain": [
       "  country_code  raised_amount_usd\n",
       "0          USA       3.437622e+11\n",
       "1          CHN       2.477892e+10\n",
       "2          GBR       1.754107e+10\n",
       "3          IND       9.990809e+09\n",
       "4          CAN       9.317218e+09\n",
       "5          ISR       6.704350e+09\n",
       "6          FRA       6.255329e+09\n",
       "7          DEU       5.893145e+09\n",
       "8          CHE       2.801560e+09"
      ]
     },
     "execution_count": 761,
     "metadata": {},
     "output_type": "execute_result"
    }
   ],
   "source": [
    "top9_venture_funded_countries"
   ]
  },
  {
   "cell_type": "code",
   "execution_count": 762,
   "metadata": {},
   "outputs": [
    {
     "data": {
      "text/plain": [
       "pandas.core.frame.DataFrame"
      ]
     },
     "execution_count": 762,
     "metadata": {},
     "output_type": "execute_result"
    }
   ],
   "source": [
    "type(top9_venture_funded_countries)"
   ]
  },
  {
   "cell_type": "markdown",
   "metadata": {},
   "source": [
    "_Next task is to find from the wiki source, the english speaking nations_ <br>\n",
    "___Assumption made for this task:___ <br>\n",
    "1. A country is considered English Speaking ___only if___ English is ___de facto or de facto and de jure official language___ in that country\n",
    "2. ___All___ the countries listed in ___de facto table___ and ___de facto and de jure official language___ are considered English speaking countries\n",
    "\n",
    "#### Scrape the Wiki page for finding the English speaking countries"
   ]
  },
  {
   "cell_type": "code",
   "execution_count": 763,
   "metadata": {},
   "outputs": [],
   "source": [
    "import requests, bs4\n",
    "url = \"https://en.wikipedia.org/wiki/List_of_territorial_entities_where_English_is_an_official_language\"\n",
    "headers = {'User-Agent': 'Mozilla/5.0 (Macintosh; Intel Mac OS X 10_10_1) AppleWebKit/537.36 (KHTML, like Gecko) Chrome/39.0.2171.95 Safari/537.36'}\n",
    "\n",
    "response = requests.get(url, headers=headers)\n",
    "soup = bs4.BeautifulSoup(response.text, \"html.parser\")"
   ]
  },
  {
   "cell_type": "markdown",
   "metadata": {},
   "source": [
    "Below segment extracts the country code from the first two tables in the given wiki with the assumptions listed above <br>\n",
    "`Expected Output:` <br>\n",
    "___List of English speaking Nations from Wiki source___"
   ]
  },
  {
   "cell_type": "code",
   "execution_count": 764,
   "metadata": {},
   "outputs": [
    {
     "name": "stdout",
     "output_type": "stream",
     "text": [
      "Below are the country codes of English Speaking countries\n",
      "['AUS', 'NZL', 'GBR', 'USA', 'ATG', 'BHS', 'BRB', 'BLZ', 'BWA', 'BDI', 'CMR', 'CAN', 'COK', 'DMA', 'SWZ', 'FJI', 'GMB', 'GHA', 'GRD', 'GUY', 'IND', 'IRL', 'JAM', 'KEN', 'KIR', 'LSO', 'LBR', 'MWI', 'MLT', 'MHL', 'MUS', 'FSM', 'NAM', 'NRU', 'NGA', 'NIU', 'PAK', 'PLW', 'PNG', 'PHL', 'RWA', 'KNA', 'LCA', 'VCT', 'WSM', 'SYC', 'SLE', 'SGP', 'SLB', 'ZAF', 'SSD', 'SDN', 'TZA', 'TON', 'TTO', 'TUV', 'UGA', 'VUT', 'ZMB', 'ZWE']\n",
      "60\n"
     ]
    }
   ],
   "source": [
    "tables = soup.find_all('table', class_='sortable')\n",
    "countries_list = []\n",
    "table_count = 0\n",
    "for table in tables:\n",
    "    table_count = table_count + 1\n",
    "    for td in table.findChildren('td'):\n",
    "        token = td.text\n",
    "        token = token.strip()\n",
    "        # Country code is all upper case and the length is 3 characters\n",
    "        if(token.isupper() and len(token) == 3):\n",
    "            countries_list.append(token)\n",
    "    # Stopping after the first 2 tables\n",
    "    # As only the first two tables provides the countries with English as Official Language\n",
    "    if table_count == 2:\n",
    "        break\n",
    "print(\"Below are the country codes of English Speaking countries\")\n",
    "print((countries_list))\n",
    "print(len(countries_list))"
   ]
  },
  {
   "cell_type": "markdown",
   "metadata": {},
   "source": [
    "`Top 3 English speaking countries identified from top 9 with the help of English speaking countries discovered above`"
   ]
  },
  {
   "cell_type": "code",
   "execution_count": 765,
   "metadata": {},
   "outputs": [
    {
     "name": "stdout",
     "output_type": "stream",
     "text": [
      "Below are the top 3 English speaking countries\n"
     ]
    },
    {
     "data": {
      "text/plain": [
       "['USA', 'GBR', 'IND']"
      ]
     },
     "execution_count": 765,
     "metadata": {},
     "output_type": "execute_result"
    }
   ],
   "source": [
    "top3_english_speaking_venture_funded_countries = []\n",
    "for i in range(len(top9_venture_funded_countries)):\n",
    "    if top9_venture_funded_countries.iloc[i][0] in countries_list:\n",
    "        top3_english_speaking_venture_funded_countries.append(top9_venture_funded_countries.country_code.iloc[i])\n",
    "top3_english_speaking_venture_funded_countries=top3_english_speaking_venture_funded_countries[0:3]\n",
    "print(\"Below are the top 3 English speaking countries\")\n",
    "top3_english_speaking_venture_funded_countries"
   ]
  },
  {
   "cell_type": "markdown",
   "metadata": {},
   "source": [
    "### Top 3 Engligh speaking countries in the descending order of total investments made are\n",
    "#### 1. USA United States of America\n",
    "#### 2. GBR United Kingdom\n",
    "#### 3. IND India\n",
    "\n",
    "#### CheckPoint 3 ends\n",
    "#### CheckPoint 4 Begins\n",
    "##### Sector Analysis"
   ]
  },
  {
   "cell_type": "markdown",
   "metadata": {},
   "source": [
    "`Reading sector_mapping data into a dataframe and a basic look at the data set`"
   ]
  },
  {
   "cell_type": "code",
   "execution_count": 766,
   "metadata": {},
   "outputs": [
    {
     "name": "stdout",
     "output_type": "stream",
     "text": [
      "<class 'pandas.core.frame.DataFrame'>\n",
      "RangeIndex: 688 entries, 0 to 687\n",
      "Data columns (total 10 columns):\n",
      "category_list                              687 non-null object\n",
      "Automotive & Sports                        688 non-null int64\n",
      "Blanks                                     688 non-null int64\n",
      "Cleantech / Semiconductors                 688 non-null int64\n",
      "Entertainment                              688 non-null int64\n",
      "Health                                     688 non-null int64\n",
      "Manufacturing                              688 non-null int64\n",
      "News, Search and Messaging                 688 non-null int64\n",
      "Others                                     688 non-null int64\n",
      "Social, Finance, Analytics, Advertising    688 non-null int64\n",
      "dtypes: int64(9), object(1)\n",
      "memory usage: 53.9+ KB\n"
     ]
    }
   ],
   "source": [
    "path_to_sector_mapping=\"C:/Users/e0368301/PGD/C1_StatisticsEssentials/Assignment/Downloads/mapping.csv\"\n",
    "sector_mapping = pd.read_csv(path_to_sector_mapping, encoding= 'unicode_escape')\n",
    "sector_mapping.info()"
   ]
  },
  {
   "cell_type": "code",
   "execution_count": 767,
   "metadata": {},
   "outputs": [
    {
     "data": {
      "text/html": [
       "<div>\n",
       "<style scoped>\n",
       "    .dataframe tbody tr th:only-of-type {\n",
       "        vertical-align: middle;\n",
       "    }\n",
       "\n",
       "    .dataframe tbody tr th {\n",
       "        vertical-align: top;\n",
       "    }\n",
       "\n",
       "    .dataframe thead th {\n",
       "        text-align: right;\n",
       "    }\n",
       "</style>\n",
       "<table border=\"1\" class=\"dataframe\">\n",
       "  <thead>\n",
       "    <tr style=\"text-align: right;\">\n",
       "      <th></th>\n",
       "      <th>category_list</th>\n",
       "      <th>Automotive &amp; Sports</th>\n",
       "      <th>Blanks</th>\n",
       "      <th>Cleantech / Semiconductors</th>\n",
       "      <th>Entertainment</th>\n",
       "      <th>Health</th>\n",
       "      <th>Manufacturing</th>\n",
       "      <th>News, Search and Messaging</th>\n",
       "      <th>Others</th>\n",
       "      <th>Social, Finance, Analytics, Advertising</th>\n",
       "    </tr>\n",
       "  </thead>\n",
       "  <tbody>\n",
       "    <tr>\n",
       "      <td>0</td>\n",
       "      <td>NaN</td>\n",
       "      <td>0</td>\n",
       "      <td>1</td>\n",
       "      <td>0</td>\n",
       "      <td>0</td>\n",
       "      <td>0</td>\n",
       "      <td>0</td>\n",
       "      <td>0</td>\n",
       "      <td>0</td>\n",
       "      <td>0</td>\n",
       "    </tr>\n",
       "    <tr>\n",
       "      <td>1</td>\n",
       "      <td>3D</td>\n",
       "      <td>0</td>\n",
       "      <td>0</td>\n",
       "      <td>0</td>\n",
       "      <td>0</td>\n",
       "      <td>0</td>\n",
       "      <td>1</td>\n",
       "      <td>0</td>\n",
       "      <td>0</td>\n",
       "      <td>0</td>\n",
       "    </tr>\n",
       "    <tr>\n",
       "      <td>2</td>\n",
       "      <td>3D Printing</td>\n",
       "      <td>0</td>\n",
       "      <td>0</td>\n",
       "      <td>0</td>\n",
       "      <td>0</td>\n",
       "      <td>0</td>\n",
       "      <td>1</td>\n",
       "      <td>0</td>\n",
       "      <td>0</td>\n",
       "      <td>0</td>\n",
       "    </tr>\n",
       "    <tr>\n",
       "      <td>3</td>\n",
       "      <td>3D Technology</td>\n",
       "      <td>0</td>\n",
       "      <td>0</td>\n",
       "      <td>0</td>\n",
       "      <td>0</td>\n",
       "      <td>0</td>\n",
       "      <td>1</td>\n",
       "      <td>0</td>\n",
       "      <td>0</td>\n",
       "      <td>0</td>\n",
       "    </tr>\n",
       "    <tr>\n",
       "      <td>4</td>\n",
       "      <td>Accounting</td>\n",
       "      <td>0</td>\n",
       "      <td>0</td>\n",
       "      <td>0</td>\n",
       "      <td>0</td>\n",
       "      <td>0</td>\n",
       "      <td>0</td>\n",
       "      <td>0</td>\n",
       "      <td>0</td>\n",
       "      <td>1</td>\n",
       "    </tr>\n",
       "  </tbody>\n",
       "</table>\n",
       "</div>"
      ],
      "text/plain": [
       "   category_list  Automotive & Sports  Blanks  Cleantech / Semiconductors  \\\n",
       "0            NaN                    0       1                           0   \n",
       "1             3D                    0       0                           0   \n",
       "2    3D Printing                    0       0                           0   \n",
       "3  3D Technology                    0       0                           0   \n",
       "4     Accounting                    0       0                           0   \n",
       "\n",
       "   Entertainment  Health  Manufacturing  News, Search and Messaging  Others  \\\n",
       "0              0       0              0                           0       0   \n",
       "1              0       0              1                           0       0   \n",
       "2              0       0              1                           0       0   \n",
       "3              0       0              1                           0       0   \n",
       "4              0       0              0                           0       0   \n",
       "\n",
       "   Social, Finance, Analytics, Advertising  \n",
       "0                                        0  \n",
       "1                                        0  \n",
       "2                                        0  \n",
       "3                                        0  \n",
       "4                                        1  "
      ]
     },
     "execution_count": 767,
     "metadata": {},
     "output_type": "execute_result"
    }
   ],
   "source": [
    "sector_mapping.head()"
   ]
  },
  {
   "cell_type": "markdown",
   "metadata": {},
   "source": [
    "- The category list content is found to be not correct <br>\n",
    "- 'na' has been replaced with '0' <br>\n",
    "- This is corrected to replace '0' with 'na' and converted to lower case so that no mismatch occurs while merging <br>\n",
    "- Main sectors are extraced from sector_mapping df and parameters are renamed to reflect the actual property"
   ]
  },
  {
   "cell_type": "code",
   "execution_count": 768,
   "metadata": {},
   "outputs": [],
   "source": [
    "# Replacing '0' to 'na'\n",
    "sector_mapping[\"category_list\"] = sector_mapping[\"category_list\"].str.replace('0', 'na').str.lower()\n",
    "sector_mapping = pd.melt(sector_mapping, id_vars =['category_list'], value_vars =['Manufacturing','Automotive & Sports',\n",
    "                                                              'Cleantech / Semiconductors','Entertainment',\n",
    "                                                             'Health','News, Search and Messaging','Others',\n",
    "                                                             'Social, Finance, Analytics, Advertising']) \n",
    "sector_mapping = sector_mapping[~(sector_mapping.value == 0)]\n",
    "sector_mapping = sector_mapping.drop('value', axis = 1)\n",
    "sector_mapping = sector_mapping.rename(columns = {\"variable\":\"main_sectors\", \"category_list\":\"primary_sector\"})"
   ]
  },
  {
   "cell_type": "code",
   "execution_count": 769,
   "metadata": {},
   "outputs": [
    {
     "name": "stdout",
     "output_type": "stream",
     "text": [
      "primary_sector    687\n",
      "main_sectors        8\n",
      "dtype: int64\n",
      "primary_sector    0\n",
      "main_sectors      0\n",
      "dtype: int64\n"
     ]
    }
   ],
   "source": [
    "print(sector_mapping.nunique())\n",
    "print(sector_mapping.isnull().sum())"
   ]
  },
  {
   "cell_type": "markdown",
   "metadata": {},
   "source": [
    "- ___'category_list' will be considered from master frame to map with sectors df <br>___\n",
    "- ___Incase more categories are found seperated by |, first category is considered as the primary category for that company___"
   ]
  },
  {
   "cell_type": "code",
   "execution_count": 770,
   "metadata": {
    "scrolled": false
   },
   "outputs": [
    {
     "data": {
      "text/plain": [
       "company_permalink          48396\n",
       "funding_round_permalink    87641\n",
       "funding_round_type            14\n",
       "funded_at                   4639\n",
       "raised_amount_usd          20349\n",
       "name                       48267\n",
       "category_list              21209\n",
       "country_code                 132\n",
       "primary_sector               706\n",
       "dtype: int64"
      ]
     },
     "execution_count": 770,
     "metadata": {},
     "output_type": "execute_result"
    }
   ],
   "source": [
    "master_frame[\"primary_sector\"] = master_frame[\"category_list\"].str.split(\"|\").str[0].str.lower()\n",
    "master_frame.nunique()"
   ]
  },
  {
   "cell_type": "markdown",
   "metadata": {},
   "source": [
    "`Inner Merging the master_frame and sector_mapping on primary_sector`"
   ]
  },
  {
   "cell_type": "code",
   "execution_count": 771,
   "metadata": {
    "scrolled": false
   },
   "outputs": [],
   "source": [
    "final_merged_frame = pd.merge(master_frame, sector_mapping, how='inner', on='primary_sector')"
   ]
  },
  {
   "cell_type": "code",
   "execution_count": 772,
   "metadata": {},
   "outputs": [
    {
     "data": {
      "text/plain": [
       "company_permalink          48338\n",
       "funding_round_permalink    87562\n",
       "funding_round_type            14\n",
       "funded_at                   4639\n",
       "raised_amount_usd          20330\n",
       "name                       48209\n",
       "category_list              21153\n",
       "country_code                 132\n",
       "primary_sector               671\n",
       "main_sectors                   8\n",
       "dtype: int64"
      ]
     },
     "execution_count": 772,
     "metadata": {},
     "output_type": "execute_result"
    }
   ],
   "source": [
    "final_merged_frame.nunique()"
   ]
  },
  {
   "cell_type": "markdown",
   "metadata": {},
   "source": [
    "- ___Above is the merged final frame where for each entry, primary sectors are mapped to main sectors <br>___\n",
    "- ___Primary sector is presented as a seperate column___\n",
    "\n",
    "##### Checkpoint 4 ends"
   ]
  },
  {
   "cell_type": "markdown",
   "metadata": {},
   "source": [
    "##### CheckPoint 5 starts\n",
    "Identified top 3 countries are ___USA, GBR, IND___ <br>\n",
    "Seperate data frames are created for each of those countries with the following conditions\n",
    "1. ___Funding type is Venture___\n",
    "2. ___Funding range is 5 million to 15 million USD___\n",
    "3. ___All the columns of master_frame are present in each of these data frames___\n",
    "\n",
    "Note: Total count of investments and total amount invested for each main sectors are not part of master frame. This shall be calculated for each country and for each main sector in the respective country's df"
   ]
  },
  {
   "cell_type": "markdown",
   "metadata": {},
   "source": [
    "`Analysis for First top country - USA`"
   ]
  },
  {
   "cell_type": "code",
   "execution_count": 773,
   "metadata": {},
   "outputs": [
    {
     "data": {
      "text/html": [
       "<div>\n",
       "<style scoped>\n",
       "    .dataframe tbody tr th:only-of-type {\n",
       "        vertical-align: middle;\n",
       "    }\n",
       "\n",
       "    .dataframe tbody tr th {\n",
       "        vertical-align: top;\n",
       "    }\n",
       "\n",
       "    .dataframe thead th {\n",
       "        text-align: right;\n",
       "    }\n",
       "</style>\n",
       "<table border=\"1\" class=\"dataframe\">\n",
       "  <thead>\n",
       "    <tr style=\"text-align: right;\">\n",
       "      <th></th>\n",
       "      <th>company_permalink</th>\n",
       "      <th>funding_round_permalink</th>\n",
       "      <th>funding_round_type</th>\n",
       "      <th>funded_at</th>\n",
       "      <th>raised_amount_usd</th>\n",
       "      <th>name</th>\n",
       "      <th>category_list</th>\n",
       "      <th>country_code</th>\n",
       "      <th>primary_sector</th>\n",
       "      <th>main_sectors</th>\n",
       "    </tr>\n",
       "  </thead>\n",
       "  <tbody>\n",
       "    <tr>\n",
       "      <td>7</td>\n",
       "      <td>/organization/all-def-digital</td>\n",
       "      <td>/funding-round/452a2342fe720285c3b92e9bd927d9ba</td>\n",
       "      <td>venture</td>\n",
       "      <td>06-08-2014</td>\n",
       "      <td>5000000.0</td>\n",
       "      <td>All Def Digital</td>\n",
       "      <td>Media</td>\n",
       "      <td>USA</td>\n",
       "      <td>media</td>\n",
       "      <td>Entertainment</td>\n",
       "    </tr>\n",
       "    <tr>\n",
       "      <td>31</td>\n",
       "      <td>/organization/chefs-feed</td>\n",
       "      <td>/funding-round/adca195749ae9ace84684723fbe75e5b</td>\n",
       "      <td>venture</td>\n",
       "      <td>26-02-2015</td>\n",
       "      <td>5000000.0</td>\n",
       "      <td>ChefsFeed</td>\n",
       "      <td>Media|Mobile|Restaurants|Technology</td>\n",
       "      <td>USA</td>\n",
       "      <td>media</td>\n",
       "      <td>Entertainment</td>\n",
       "    </tr>\n",
       "    <tr>\n",
       "      <td>61</td>\n",
       "      <td>/organization/huffingtonpost</td>\n",
       "      <td>/funding-round/7f05940c4d2dfecb8e50a0e5720e5065</td>\n",
       "      <td>venture</td>\n",
       "      <td>01-08-2006</td>\n",
       "      <td>5000000.0</td>\n",
       "      <td>The Huffington Post</td>\n",
       "      <td>Media|News|Publishing</td>\n",
       "      <td>USA</td>\n",
       "      <td>media</td>\n",
       "      <td>Entertainment</td>\n",
       "    </tr>\n",
       "    <tr>\n",
       "      <td>62</td>\n",
       "      <td>/organization/huffingtonpost</td>\n",
       "      <td>/funding-round/9241ae16e08df17ebdc064e49e23035a</td>\n",
       "      <td>venture</td>\n",
       "      <td>01-09-2007</td>\n",
       "      <td>5000000.0</td>\n",
       "      <td>The Huffington Post</td>\n",
       "      <td>Media|News|Publishing</td>\n",
       "      <td>USA</td>\n",
       "      <td>media</td>\n",
       "      <td>Entertainment</td>\n",
       "    </tr>\n",
       "    <tr>\n",
       "      <td>85</td>\n",
       "      <td>/organization/matchmine</td>\n",
       "      <td>/funding-round/41ac526630da57ad6eb9d02431b17657</td>\n",
       "      <td>venture</td>\n",
       "      <td>01-09-2007</td>\n",
       "      <td>10000000.0</td>\n",
       "      <td>MatchMine</td>\n",
       "      <td>Media|News|Reviews and Recommendations</td>\n",
       "      <td>USA</td>\n",
       "      <td>media</td>\n",
       "      <td>Entertainment</td>\n",
       "    </tr>\n",
       "  </tbody>\n",
       "</table>\n",
       "</div>"
      ],
      "text/plain": [
       "                company_permalink  \\\n",
       "7   /organization/all-def-digital   \n",
       "31       /organization/chefs-feed   \n",
       "61   /organization/huffingtonpost   \n",
       "62   /organization/huffingtonpost   \n",
       "85        /organization/matchmine   \n",
       "\n",
       "                            funding_round_permalink funding_round_type  \\\n",
       "7   /funding-round/452a2342fe720285c3b92e9bd927d9ba            venture   \n",
       "31  /funding-round/adca195749ae9ace84684723fbe75e5b            venture   \n",
       "61  /funding-round/7f05940c4d2dfecb8e50a0e5720e5065            venture   \n",
       "62  /funding-round/9241ae16e08df17ebdc064e49e23035a            venture   \n",
       "85  /funding-round/41ac526630da57ad6eb9d02431b17657            venture   \n",
       "\n",
       "     funded_at  raised_amount_usd                 name  \\\n",
       "7   06-08-2014          5000000.0      All Def Digital   \n",
       "31  26-02-2015          5000000.0            ChefsFeed   \n",
       "61  01-08-2006          5000000.0  The Huffington Post   \n",
       "62  01-09-2007          5000000.0  The Huffington Post   \n",
       "85  01-09-2007         10000000.0            MatchMine   \n",
       "\n",
       "                             category_list country_code primary_sector  \\\n",
       "7                                    Media          USA          media   \n",
       "31     Media|Mobile|Restaurants|Technology          USA          media   \n",
       "61                   Media|News|Publishing          USA          media   \n",
       "62                   Media|News|Publishing          USA          media   \n",
       "85  Media|News|Reviews and Recommendations          USA          media   \n",
       "\n",
       "     main_sectors  \n",
       "7   Entertainment  \n",
       "31  Entertainment  \n",
       "61  Entertainment  \n",
       "62  Entertainment  \n",
       "85  Entertainment  "
      ]
     },
     "execution_count": 773,
     "metadata": {},
     "output_type": "execute_result"
    }
   ],
   "source": [
    "d1=final_merged_frame.loc[(final_merged_frame.country_code == top3_english_speaking_venture_funded_countries[0]) & (final_merged_frame.funding_round_type == 'venture') & (final_merged_frame.raised_amount_usd >= 5000000) & (final_merged_frame.raised_amount_usd <= 15000000)]\n",
    "d1.head()"
   ]
  },
  {
   "cell_type": "markdown",
   "metadata": {},
   "source": [
    "___Total Count of investments and total amount of investment for each main sectors calculated and appended as columns___\n",
    "1. To do the above, \"d1\" data frame is grouped by main sectors and count on the group performed and appended as columns, this new data frame is then merged with d1 data frame\n",
    "2. Same has been carried out for total amount of investment as well\n",
    "\n",
    "##### Finally 2 new columns have been added, total count of investments and total amount of investment grouped by main sectors\n",
    "Companies have the same main sector mapping will have the same values for above two new parameters"
   ]
  },
  {
   "cell_type": "code",
   "execution_count": 774,
   "metadata": {},
   "outputs": [
    {
     "data": {
      "text/html": [
       "<div>\n",
       "<style scoped>\n",
       "    .dataframe tbody tr th:only-of-type {\n",
       "        vertical-align: middle;\n",
       "    }\n",
       "\n",
       "    .dataframe tbody tr th {\n",
       "        vertical-align: top;\n",
       "    }\n",
       "\n",
       "    .dataframe thead th {\n",
       "        text-align: right;\n",
       "    }\n",
       "</style>\n",
       "<table border=\"1\" class=\"dataframe\">\n",
       "  <thead>\n",
       "    <tr style=\"text-align: right;\">\n",
       "      <th></th>\n",
       "      <th>company_permalink</th>\n",
       "      <th>funding_round_permalink</th>\n",
       "      <th>funding_round_type</th>\n",
       "      <th>funded_at</th>\n",
       "      <th>raised_amount_usd</th>\n",
       "      <th>name</th>\n",
       "      <th>category_list</th>\n",
       "      <th>country_code</th>\n",
       "      <th>primary_sector</th>\n",
       "      <th>main_sectors</th>\n",
       "      <th>count_of_investments</th>\n",
       "      <th>total_investment_amount</th>\n",
       "    </tr>\n",
       "  </thead>\n",
       "  <tbody>\n",
       "    <tr>\n",
       "      <td>0</td>\n",
       "      <td>/organization/all-def-digital</td>\n",
       "      <td>/funding-round/452a2342fe720285c3b92e9bd927d9ba</td>\n",
       "      <td>venture</td>\n",
       "      <td>06-08-2014</td>\n",
       "      <td>5000000.0</td>\n",
       "      <td>All Def Digital</td>\n",
       "      <td>Media</td>\n",
       "      <td>USA</td>\n",
       "      <td>media</td>\n",
       "      <td>Entertainment</td>\n",
       "      <td>591</td>\n",
       "      <td>5.099198e+09</td>\n",
       "    </tr>\n",
       "    <tr>\n",
       "      <td>1</td>\n",
       "      <td>/organization/chefs-feed</td>\n",
       "      <td>/funding-round/adca195749ae9ace84684723fbe75e5b</td>\n",
       "      <td>venture</td>\n",
       "      <td>26-02-2015</td>\n",
       "      <td>5000000.0</td>\n",
       "      <td>ChefsFeed</td>\n",
       "      <td>Media|Mobile|Restaurants|Technology</td>\n",
       "      <td>USA</td>\n",
       "      <td>media</td>\n",
       "      <td>Entertainment</td>\n",
       "      <td>591</td>\n",
       "      <td>5.099198e+09</td>\n",
       "    </tr>\n",
       "    <tr>\n",
       "      <td>2</td>\n",
       "      <td>/organization/huffingtonpost</td>\n",
       "      <td>/funding-round/7f05940c4d2dfecb8e50a0e5720e5065</td>\n",
       "      <td>venture</td>\n",
       "      <td>01-08-2006</td>\n",
       "      <td>5000000.0</td>\n",
       "      <td>The Huffington Post</td>\n",
       "      <td>Media|News|Publishing</td>\n",
       "      <td>USA</td>\n",
       "      <td>media</td>\n",
       "      <td>Entertainment</td>\n",
       "      <td>591</td>\n",
       "      <td>5.099198e+09</td>\n",
       "    </tr>\n",
       "    <tr>\n",
       "      <td>3</td>\n",
       "      <td>/organization/huffingtonpost</td>\n",
       "      <td>/funding-round/9241ae16e08df17ebdc064e49e23035a</td>\n",
       "      <td>venture</td>\n",
       "      <td>01-09-2007</td>\n",
       "      <td>5000000.0</td>\n",
       "      <td>The Huffington Post</td>\n",
       "      <td>Media|News|Publishing</td>\n",
       "      <td>USA</td>\n",
       "      <td>media</td>\n",
       "      <td>Entertainment</td>\n",
       "      <td>591</td>\n",
       "      <td>5.099198e+09</td>\n",
       "    </tr>\n",
       "    <tr>\n",
       "      <td>4</td>\n",
       "      <td>/organization/matchmine</td>\n",
       "      <td>/funding-round/41ac526630da57ad6eb9d02431b17657</td>\n",
       "      <td>venture</td>\n",
       "      <td>01-09-2007</td>\n",
       "      <td>10000000.0</td>\n",
       "      <td>MatchMine</td>\n",
       "      <td>Media|News|Reviews and Recommendations</td>\n",
       "      <td>USA</td>\n",
       "      <td>media</td>\n",
       "      <td>Entertainment</td>\n",
       "      <td>591</td>\n",
       "      <td>5.099198e+09</td>\n",
       "    </tr>\n",
       "  </tbody>\n",
       "</table>\n",
       "</div>"
      ],
      "text/plain": [
       "               company_permalink  \\\n",
       "0  /organization/all-def-digital   \n",
       "1       /organization/chefs-feed   \n",
       "2   /organization/huffingtonpost   \n",
       "3   /organization/huffingtonpost   \n",
       "4        /organization/matchmine   \n",
       "\n",
       "                           funding_round_permalink funding_round_type  \\\n",
       "0  /funding-round/452a2342fe720285c3b92e9bd927d9ba            venture   \n",
       "1  /funding-round/adca195749ae9ace84684723fbe75e5b            venture   \n",
       "2  /funding-round/7f05940c4d2dfecb8e50a0e5720e5065            venture   \n",
       "3  /funding-round/9241ae16e08df17ebdc064e49e23035a            venture   \n",
       "4  /funding-round/41ac526630da57ad6eb9d02431b17657            venture   \n",
       "\n",
       "    funded_at  raised_amount_usd                 name  \\\n",
       "0  06-08-2014          5000000.0      All Def Digital   \n",
       "1  26-02-2015          5000000.0            ChefsFeed   \n",
       "2  01-08-2006          5000000.0  The Huffington Post   \n",
       "3  01-09-2007          5000000.0  The Huffington Post   \n",
       "4  01-09-2007         10000000.0            MatchMine   \n",
       "\n",
       "                            category_list country_code primary_sector  \\\n",
       "0                                   Media          USA          media   \n",
       "1     Media|Mobile|Restaurants|Technology          USA          media   \n",
       "2                   Media|News|Publishing          USA          media   \n",
       "3                   Media|News|Publishing          USA          media   \n",
       "4  Media|News|Reviews and Recommendations          USA          media   \n",
       "\n",
       "    main_sectors  count_of_investments  total_investment_amount  \n",
       "0  Entertainment                   591             5.099198e+09  \n",
       "1  Entertainment                   591             5.099198e+09  \n",
       "2  Entertainment                   591             5.099198e+09  \n",
       "3  Entertainment                   591             5.099198e+09  \n",
       "4  Entertainment                   591             5.099198e+09  "
      ]
     },
     "execution_count": 774,
     "metadata": {},
     "output_type": "execute_result"
    }
   ],
   "source": [
    "main_sectors_count=d1.groupby(['main_sectors'])['company_permalink'].count().to_frame().reset_index()\n",
    "main_sectors_count.rename(columns={'company_permalink' : 'count_of_investments'}, inplace=True)\n",
    "d1=pd.merge(d1, main_sectors_count, how='inner',on='main_sectors')\n",
    "main_sectors_total_amount_invested=d1.groupby(['main_sectors'])['raised_amount_usd'].sum().to_frame().reset_index()\n",
    "main_sectors_total_amount_invested.rename(columns={'raised_amount_usd' : 'total_investment_amount'}, inplace=True)\n",
    "d1=pd.merge(d1, main_sectors_total_amount_invested, how='inner',on='main_sectors')\n",
    "d1.head()"
   ]
  },
  {
   "cell_type": "markdown",
   "metadata": {},
   "source": [
    "- ___Summing up the total investments made for each main sector___ <br>\n",
    "- ___Output of the below will list the top 3 sectors based on investment amount for USA___ <br>"
   ]
  },
  {
   "cell_type": "code",
   "execution_count": 775,
   "metadata": {},
   "outputs": [
    {
     "data": {
      "text/plain": [
       "main_sectors\n",
       "Others                                     2.632101e+10\n",
       "Social, Finance, Analytics, Advertising    2.380738e+10\n",
       "Cleantech / Semiconductors                 2.163343e+10\n",
       "News, Search and Messaging                 1.397157e+10\n",
       "Health                                     8.211859e+09\n",
       "Manufacturing                              7.258553e+09\n",
       "Entertainment                              5.099198e+09\n",
       "Automotive & Sports                        1.454104e+09\n",
       "Name: raised_amount_usd, dtype: float64"
      ]
     },
     "execution_count": 775,
     "metadata": {},
     "output_type": "execute_result"
    }
   ],
   "source": [
    "d1.groupby(['main_sectors'])['raised_amount_usd'].sum().sort_values(ascending=False)"
   ]
  },
  {
   "cell_type": "code",
   "execution_count": 776,
   "metadata": {},
   "outputs": [
    {
     "name": "stdout",
     "output_type": "stream",
     "text": [
      "Total amount invested in USA across main sectors\n"
     ]
    },
    {
     "data": {
      "text/plain": [
       "107757097294.0"
      ]
     },
     "execution_count": 776,
     "metadata": {},
     "output_type": "execute_result"
    }
   ],
   "source": [
    "# Total amount invested across sectors in USA\n",
    "print(\"Total amount invested in USA across main sectors\")\n",
    "d1['raised_amount_usd'].sum()"
   ]
  },
  {
   "cell_type": "code",
   "execution_count": 777,
   "metadata": {},
   "outputs": [
    {
     "data": {
      "text/html": [
       "<div>\n",
       "<style scoped>\n",
       "    .dataframe tbody tr th:only-of-type {\n",
       "        vertical-align: middle;\n",
       "    }\n",
       "\n",
       "    .dataframe tbody tr th {\n",
       "        vertical-align: top;\n",
       "    }\n",
       "\n",
       "    .dataframe thead th {\n",
       "        text-align: right;\n",
       "    }\n",
       "</style>\n",
       "<table border=\"1\" class=\"dataframe\">\n",
       "  <thead>\n",
       "    <tr style=\"text-align: right;\">\n",
       "      <th></th>\n",
       "      <th>main_sectors</th>\n",
       "      <th>count_of_investments</th>\n",
       "    </tr>\n",
       "  </thead>\n",
       "  <tbody>\n",
       "    <tr>\n",
       "      <td>0</td>\n",
       "      <td>Others</td>\n",
       "      <td>2950</td>\n",
       "    </tr>\n",
       "    <tr>\n",
       "      <td>1</td>\n",
       "      <td>Social, Finance, Analytics, Advertising</td>\n",
       "      <td>2714</td>\n",
       "    </tr>\n",
       "    <tr>\n",
       "      <td>2</td>\n",
       "      <td>Cleantech / Semiconductors</td>\n",
       "      <td>2350</td>\n",
       "    </tr>\n",
       "    <tr>\n",
       "      <td>3</td>\n",
       "      <td>News, Search and Messaging</td>\n",
       "      <td>1583</td>\n",
       "    </tr>\n",
       "    <tr>\n",
       "      <td>4</td>\n",
       "      <td>Health</td>\n",
       "      <td>909</td>\n",
       "    </tr>\n",
       "    <tr>\n",
       "      <td>5</td>\n",
       "      <td>Manufacturing</td>\n",
       "      <td>799</td>\n",
       "    </tr>\n",
       "    <tr>\n",
       "      <td>6</td>\n",
       "      <td>Entertainment</td>\n",
       "      <td>591</td>\n",
       "    </tr>\n",
       "    <tr>\n",
       "      <td>7</td>\n",
       "      <td>Automotive &amp; Sports</td>\n",
       "      <td>167</td>\n",
       "    </tr>\n",
       "  </tbody>\n",
       "</table>\n",
       "</div>"
      ],
      "text/plain": [
       "                              main_sectors  count_of_investments\n",
       "0                                   Others                  2950\n",
       "1  Social, Finance, Analytics, Advertising                  2714\n",
       "2               Cleantech / Semiconductors                  2350\n",
       "3               News, Search and Messaging                  1583\n",
       "4                                   Health                   909\n",
       "5                            Manufacturing                   799\n",
       "6                            Entertainment                   591\n",
       "7                      Automotive & Sports                   167"
      ]
     },
     "execution_count": 777,
     "metadata": {},
     "output_type": "execute_result"
    }
   ],
   "source": [
    "#Grouping based on Count of investments\n",
    "d1_sectors_in_count_order=d1.groupby(['main_sectors'])['count_of_investments'].count().sort_values(ascending=False).to_frame().reset_index()\n",
    "d1_sectors_in_count_order"
   ]
  },
  {
   "cell_type": "code",
   "execution_count": 778,
   "metadata": {},
   "outputs": [
    {
     "name": "stdout",
     "output_type": "stream",
     "text": [
      "Total Count of investments in USA across main sectors\n"
     ]
    },
    {
     "data": {
      "text/plain": [
       "12063"
      ]
     },
     "execution_count": 778,
     "metadata": {},
     "output_type": "execute_result"
    }
   ],
   "source": [
    "print(\"Total Count of investments in USA across main sectors\")\n",
    "d1.groupby(['main_sectors'])['count_of_investments'].count().sum()"
   ]
  },
  {
   "cell_type": "markdown",
   "metadata": {},
   "source": [
    "___To find the countries received highest amount of investment, following steps are performed___\n",
    "1. d1 df is filtered by top dector of C1, USA.\n",
    "2. It is grouped by name and investment amount is summed up for each company to find the company which has received the highest imvestment amount\n",
    "3. This is done because there are companies which have received multiple rounds of investments\n",
    "\n",
    "___Same step would be followed for other countries as well___"
   ]
  },
  {
   "cell_type": "code",
   "execution_count": 779,
   "metadata": {
    "scrolled": true
   },
   "outputs": [
    {
     "name": "stdout",
     "output_type": "stream",
     "text": [
      "Company received highest investment in the top sector count wise\n"
     ]
    },
    {
     "data": {
      "text/plain": [
       "'Virtustream'"
      ]
     },
     "execution_count": 779,
     "metadata": {},
     "output_type": "execute_result"
    }
   ],
   "source": [
    "print(\"Company received highest investment in the top sector count wise\")\n",
    "d1.loc[d1['main_sectors'] == d1_sectors_in_count_order['main_sectors'].values[0]].groupby(['name'])['raised_amount_usd'].sum().sort_values(ascending=False).to_frame().reset_index()['name'].values[0]"
   ]
  },
  {
   "cell_type": "code",
   "execution_count": 780,
   "metadata": {},
   "outputs": [
    {
     "name": "stdout",
     "output_type": "stream",
     "text": [
      "Company received highest investment in the second top sector count wise\n"
     ]
    },
    {
     "data": {
      "text/plain": [
       "'SST Inc. (Formerly ShotSpotter)'"
      ]
     },
     "execution_count": 780,
     "metadata": {},
     "output_type": "execute_result"
    }
   ],
   "source": [
    "print(\"Company received highest investment in the second top sector count wise\")\n",
    "d1.loc[d1['main_sectors'] == d1_sectors_in_count_order['main_sectors'].values[1]].groupby(['name'])['raised_amount_usd'].sum().sort_values(ascending=False).to_frame().reset_index()['name'].values[0]"
   ]
  },
  {
   "cell_type": "markdown",
   "metadata": {},
   "source": [
    "__Same procedure mentioned for USA is being carried out for GBR__"
   ]
  },
  {
   "cell_type": "code",
   "execution_count": 781,
   "metadata": {},
   "outputs": [
    {
     "data": {
      "text/html": [
       "<div>\n",
       "<style scoped>\n",
       "    .dataframe tbody tr th:only-of-type {\n",
       "        vertical-align: middle;\n",
       "    }\n",
       "\n",
       "    .dataframe tbody tr th {\n",
       "        vertical-align: top;\n",
       "    }\n",
       "\n",
       "    .dataframe thead th {\n",
       "        text-align: right;\n",
       "    }\n",
       "</style>\n",
       "<table border=\"1\" class=\"dataframe\">\n",
       "  <thead>\n",
       "    <tr style=\"text-align: right;\">\n",
       "      <th></th>\n",
       "      <th>company_permalink</th>\n",
       "      <th>funding_round_permalink</th>\n",
       "      <th>funding_round_type</th>\n",
       "      <th>funded_at</th>\n",
       "      <th>raised_amount_usd</th>\n",
       "      <th>name</th>\n",
       "      <th>category_list</th>\n",
       "      <th>country_code</th>\n",
       "      <th>primary_sector</th>\n",
       "      <th>main_sectors</th>\n",
       "    </tr>\n",
       "  </thead>\n",
       "  <tbody>\n",
       "    <tr>\n",
       "      <td>1</td>\n",
       "      <td>/organization/90min</td>\n",
       "      <td>/funding-round/21a2cbf6f2fb2a1c2a61e04bf930dfe6</td>\n",
       "      <td>venture</td>\n",
       "      <td>06-10-2015</td>\n",
       "      <td>15000000.0</td>\n",
       "      <td>90min</td>\n",
       "      <td>Media|News|Publishing|Soccer|Sports</td>\n",
       "      <td>GBR</td>\n",
       "      <td>media</td>\n",
       "      <td>Entertainment</td>\n",
       "    </tr>\n",
       "    <tr>\n",
       "      <td>2</td>\n",
       "      <td>/organization/90min</td>\n",
       "      <td>/funding-round/bd626ed022f5c66574b1afe234f3c90d</td>\n",
       "      <td>venture</td>\n",
       "      <td>07-05-2013</td>\n",
       "      <td>5800000.0</td>\n",
       "      <td>90min</td>\n",
       "      <td>Media|News|Publishing|Soccer|Sports</td>\n",
       "      <td>GBR</td>\n",
       "      <td>media</td>\n",
       "      <td>Entertainment</td>\n",
       "    </tr>\n",
       "    <tr>\n",
       "      <td>224</td>\n",
       "      <td>/organization/common-interest-communities</td>\n",
       "      <td>/funding-round/8195587cbd5e51af7514ee92ef4ba6ba</td>\n",
       "      <td>venture</td>\n",
       "      <td>09-07-2014</td>\n",
       "      <td>10000000.0</td>\n",
       "      <td>Common Interest Communities</td>\n",
       "      <td>Application Platforms|Internet|Software|Startups</td>\n",
       "      <td>GBR</td>\n",
       "      <td>application platforms</td>\n",
       "      <td>News, Search and Messaging</td>\n",
       "    </tr>\n",
       "    <tr>\n",
       "      <td>256</td>\n",
       "      <td>/organization/geospock-ltd-</td>\n",
       "      <td>/funding-round/cf3fe3b7c86186b9f478d0ea37613f7a</td>\n",
       "      <td>venture</td>\n",
       "      <td>01-10-2014</td>\n",
       "      <td>5460000.0</td>\n",
       "      <td>GeoSpock Ltd.</td>\n",
       "      <td>Application Platforms|Databases|Real Time</td>\n",
       "      <td>GBR</td>\n",
       "      <td>application platforms</td>\n",
       "      <td>News, Search and Messaging</td>\n",
       "    </tr>\n",
       "    <tr>\n",
       "      <td>257</td>\n",
       "      <td>/organization/geospock-ltd-</td>\n",
       "      <td>/funding-round/e5e4ef4ebae63fc36ef0cd57dd20ff1c</td>\n",
       "      <td>venture</td>\n",
       "      <td>05-10-2015</td>\n",
       "      <td>5400000.0</td>\n",
       "      <td>GeoSpock Ltd.</td>\n",
       "      <td>Application Platforms|Databases|Real Time</td>\n",
       "      <td>GBR</td>\n",
       "      <td>application platforms</td>\n",
       "      <td>News, Search and Messaging</td>\n",
       "    </tr>\n",
       "  </tbody>\n",
       "</table>\n",
       "</div>"
      ],
      "text/plain": [
       "                             company_permalink  \\\n",
       "1                          /organization/90min   \n",
       "2                          /organization/90min   \n",
       "224  /organization/common-interest-communities   \n",
       "256                /organization/geospock-ltd-   \n",
       "257                /organization/geospock-ltd-   \n",
       "\n",
       "                             funding_round_permalink funding_round_type  \\\n",
       "1    /funding-round/21a2cbf6f2fb2a1c2a61e04bf930dfe6            venture   \n",
       "2    /funding-round/bd626ed022f5c66574b1afe234f3c90d            venture   \n",
       "224  /funding-round/8195587cbd5e51af7514ee92ef4ba6ba            venture   \n",
       "256  /funding-round/cf3fe3b7c86186b9f478d0ea37613f7a            venture   \n",
       "257  /funding-round/e5e4ef4ebae63fc36ef0cd57dd20ff1c            venture   \n",
       "\n",
       "      funded_at  raised_amount_usd                         name  \\\n",
       "1    06-10-2015         15000000.0                        90min   \n",
       "2    07-05-2013          5800000.0                        90min   \n",
       "224  09-07-2014         10000000.0  Common Interest Communities   \n",
       "256  01-10-2014          5460000.0                GeoSpock Ltd.   \n",
       "257  05-10-2015          5400000.0                GeoSpock Ltd.   \n",
       "\n",
       "                                        category_list country_code  \\\n",
       "1                 Media|News|Publishing|Soccer|Sports          GBR   \n",
       "2                 Media|News|Publishing|Soccer|Sports          GBR   \n",
       "224  Application Platforms|Internet|Software|Startups          GBR   \n",
       "256         Application Platforms|Databases|Real Time          GBR   \n",
       "257         Application Platforms|Databases|Real Time          GBR   \n",
       "\n",
       "            primary_sector                main_sectors  \n",
       "1                    media               Entertainment  \n",
       "2                    media               Entertainment  \n",
       "224  application platforms  News, Search and Messaging  \n",
       "256  application platforms  News, Search and Messaging  \n",
       "257  application platforms  News, Search and Messaging  "
      ]
     },
     "execution_count": 781,
     "metadata": {},
     "output_type": "execute_result"
    }
   ],
   "source": [
    "d2=final_merged_frame.loc[(final_merged_frame.country_code == top3_english_speaking_venture_funded_countries[1]) & (final_merged_frame.funding_round_type == 'venture') & (final_merged_frame.raised_amount_usd >= 5000000) & (final_merged_frame.raised_amount_usd <= 15000000)]\n",
    "d2.head()"
   ]
  },
  {
   "cell_type": "code",
   "execution_count": 782,
   "metadata": {},
   "outputs": [
    {
     "data": {
      "text/html": [
       "<div>\n",
       "<style scoped>\n",
       "    .dataframe tbody tr th:only-of-type {\n",
       "        vertical-align: middle;\n",
       "    }\n",
       "\n",
       "    .dataframe tbody tr th {\n",
       "        vertical-align: top;\n",
       "    }\n",
       "\n",
       "    .dataframe thead th {\n",
       "        text-align: right;\n",
       "    }\n",
       "</style>\n",
       "<table border=\"1\" class=\"dataframe\">\n",
       "  <thead>\n",
       "    <tr style=\"text-align: right;\">\n",
       "      <th></th>\n",
       "      <th>company_permalink</th>\n",
       "      <th>funding_round_permalink</th>\n",
       "      <th>funding_round_type</th>\n",
       "      <th>funded_at</th>\n",
       "      <th>raised_amount_usd</th>\n",
       "      <th>name</th>\n",
       "      <th>category_list</th>\n",
       "      <th>country_code</th>\n",
       "      <th>primary_sector</th>\n",
       "      <th>main_sectors</th>\n",
       "      <th>count_of_investments</th>\n",
       "      <th>total_investment_amount</th>\n",
       "    </tr>\n",
       "  </thead>\n",
       "  <tbody>\n",
       "    <tr>\n",
       "      <td>0</td>\n",
       "      <td>/organization/90min</td>\n",
       "      <td>/funding-round/21a2cbf6f2fb2a1c2a61e04bf930dfe6</td>\n",
       "      <td>venture</td>\n",
       "      <td>06-10-2015</td>\n",
       "      <td>15000000.0</td>\n",
       "      <td>90min</td>\n",
       "      <td>Media|News|Publishing|Soccer|Sports</td>\n",
       "      <td>GBR</td>\n",
       "      <td>media</td>\n",
       "      <td>Entertainment</td>\n",
       "      <td>56</td>\n",
       "      <td>482784687.0</td>\n",
       "    </tr>\n",
       "    <tr>\n",
       "      <td>1</td>\n",
       "      <td>/organization/90min</td>\n",
       "      <td>/funding-round/bd626ed022f5c66574b1afe234f3c90d</td>\n",
       "      <td>venture</td>\n",
       "      <td>07-05-2013</td>\n",
       "      <td>5800000.0</td>\n",
       "      <td>90min</td>\n",
       "      <td>Media|News|Publishing|Soccer|Sports</td>\n",
       "      <td>GBR</td>\n",
       "      <td>media</td>\n",
       "      <td>Entertainment</td>\n",
       "      <td>56</td>\n",
       "      <td>482784687.0</td>\n",
       "    </tr>\n",
       "    <tr>\n",
       "      <td>2</td>\n",
       "      <td>/organization/eutechnyx</td>\n",
       "      <td>/funding-round/d2fc787fbc5e4f468dff8b2c557993f1</td>\n",
       "      <td>venture</td>\n",
       "      <td>13-05-2010</td>\n",
       "      <td>8800000.0</td>\n",
       "      <td>Eutechnyx</td>\n",
       "      <td>Games</td>\n",
       "      <td>GBR</td>\n",
       "      <td>games</td>\n",
       "      <td>Entertainment</td>\n",
       "      <td>56</td>\n",
       "      <td>482784687.0</td>\n",
       "    </tr>\n",
       "    <tr>\n",
       "      <td>3</td>\n",
       "      <td>/organization/mind-candy</td>\n",
       "      <td>/funding-round/47df01ed44d7b5916159051e5e32391e</td>\n",
       "      <td>venture</td>\n",
       "      <td>01-06-2011</td>\n",
       "      <td>10000000.0</td>\n",
       "      <td>Mind Candy</td>\n",
       "      <td>Games</td>\n",
       "      <td>GBR</td>\n",
       "      <td>games</td>\n",
       "      <td>Entertainment</td>\n",
       "      <td>56</td>\n",
       "      <td>482784687.0</td>\n",
       "    </tr>\n",
       "    <tr>\n",
       "      <td>4</td>\n",
       "      <td>/organization/mind-candy</td>\n",
       "      <td>/funding-round/c6a873b4cbdd7ea3d023a771bd3b2f99</td>\n",
       "      <td>venture</td>\n",
       "      <td>23-11-2006</td>\n",
       "      <td>10860000.0</td>\n",
       "      <td>Mind Candy</td>\n",
       "      <td>Games</td>\n",
       "      <td>GBR</td>\n",
       "      <td>games</td>\n",
       "      <td>Entertainment</td>\n",
       "      <td>56</td>\n",
       "      <td>482784687.0</td>\n",
       "    </tr>\n",
       "  </tbody>\n",
       "</table>\n",
       "</div>"
      ],
      "text/plain": [
       "          company_permalink                          funding_round_permalink  \\\n",
       "0       /organization/90min  /funding-round/21a2cbf6f2fb2a1c2a61e04bf930dfe6   \n",
       "1       /organization/90min  /funding-round/bd626ed022f5c66574b1afe234f3c90d   \n",
       "2   /organization/eutechnyx  /funding-round/d2fc787fbc5e4f468dff8b2c557993f1   \n",
       "3  /organization/mind-candy  /funding-round/47df01ed44d7b5916159051e5e32391e   \n",
       "4  /organization/mind-candy  /funding-round/c6a873b4cbdd7ea3d023a771bd3b2f99   \n",
       "\n",
       "  funding_round_type   funded_at  raised_amount_usd        name  \\\n",
       "0            venture  06-10-2015         15000000.0       90min   \n",
       "1            venture  07-05-2013          5800000.0       90min   \n",
       "2            venture  13-05-2010          8800000.0   Eutechnyx   \n",
       "3            venture  01-06-2011         10000000.0  Mind Candy   \n",
       "4            venture  23-11-2006         10860000.0  Mind Candy   \n",
       "\n",
       "                         category_list country_code primary_sector  \\\n",
       "0  Media|News|Publishing|Soccer|Sports          GBR          media   \n",
       "1  Media|News|Publishing|Soccer|Sports          GBR          media   \n",
       "2                                Games          GBR          games   \n",
       "3                                Games          GBR          games   \n",
       "4                                Games          GBR          games   \n",
       "\n",
       "    main_sectors  count_of_investments  total_investment_amount  \n",
       "0  Entertainment                    56              482784687.0  \n",
       "1  Entertainment                    56              482784687.0  \n",
       "2  Entertainment                    56              482784687.0  \n",
       "3  Entertainment                    56              482784687.0  \n",
       "4  Entertainment                    56              482784687.0  "
      ]
     },
     "execution_count": 782,
     "metadata": {},
     "output_type": "execute_result"
    }
   ],
   "source": [
    "main_sectors_count=d2.groupby(['main_sectors'])['company_permalink'].count().to_frame().reset_index()\n",
    "main_sectors_count.rename(columns={'company_permalink' : 'count_of_investments'}, inplace=True)\n",
    "d2=pd.merge(d2, main_sectors_count, how='inner',on='main_sectors')\n",
    "main_sectors_total_amount_invested=d2.groupby(['main_sectors'])['raised_amount_usd'].sum().to_frame().reset_index()\n",
    "main_sectors_total_amount_invested.rename(columns={'raised_amount_usd' : 'total_investment_amount'}, inplace=True)\n",
    "d2=pd.merge(d2, main_sectors_total_amount_invested, how='inner',on='main_sectors')\n",
    "d2.head()"
   ]
  },
  {
   "cell_type": "markdown",
   "metadata": {},
   "source": [
    "- ___Summing up the total investments made for each main sector___ <br>\n",
    "- ___Output of the below will list the top 3 sectors based on investment amount for GBR___ <br>"
   ]
  },
  {
   "cell_type": "code",
   "execution_count": 783,
   "metadata": {},
   "outputs": [
    {
     "data": {
      "text/plain": [
       "main_sectors\n",
       "Others                                     1.283624e+09\n",
       "Cleantech / Semiconductors                 1.163990e+09\n",
       "Social, Finance, Analytics, Advertising    1.089404e+09\n",
       "News, Search and Messaging                 6.157462e+08\n",
       "Entertainment                              4.827847e+08\n",
       "Manufacturing                              3.619403e+08\n",
       "Health                                     2.145375e+08\n",
       "Automotive & Sports                        1.670516e+08\n",
       "Name: raised_amount_usd, dtype: float64"
      ]
     },
     "execution_count": 783,
     "metadata": {},
     "output_type": "execute_result"
    }
   ],
   "source": [
    "d2.groupby(['main_sectors'])['raised_amount_usd'].sum().sort_values(ascending=False)"
   ]
  },
  {
   "cell_type": "code",
   "execution_count": 784,
   "metadata": {},
   "outputs": [
    {
     "name": "stdout",
     "output_type": "stream",
     "text": [
      "Total amount invested in GBR across main sectors\n"
     ]
    },
    {
     "data": {
      "text/plain": [
       "5379078691.0"
      ]
     },
     "execution_count": 784,
     "metadata": {},
     "output_type": "execute_result"
    }
   ],
   "source": [
    "print(\"Total amount invested in GBR across main sectors\")\n",
    "d2['raised_amount_usd'].sum()"
   ]
  },
  {
   "cell_type": "code",
   "execution_count": 785,
   "metadata": {},
   "outputs": [
    {
     "data": {
      "text/html": [
       "<div>\n",
       "<style scoped>\n",
       "    .dataframe tbody tr th:only-of-type {\n",
       "        vertical-align: middle;\n",
       "    }\n",
       "\n",
       "    .dataframe tbody tr th {\n",
       "        vertical-align: top;\n",
       "    }\n",
       "\n",
       "    .dataframe thead th {\n",
       "        text-align: right;\n",
       "    }\n",
       "</style>\n",
       "<table border=\"1\" class=\"dataframe\">\n",
       "  <thead>\n",
       "    <tr style=\"text-align: right;\">\n",
       "      <th></th>\n",
       "      <th>main_sectors</th>\n",
       "      <th>count_of_investments</th>\n",
       "    </tr>\n",
       "  </thead>\n",
       "  <tbody>\n",
       "    <tr>\n",
       "      <td>0</td>\n",
       "      <td>Others</td>\n",
       "      <td>147</td>\n",
       "    </tr>\n",
       "    <tr>\n",
       "      <td>1</td>\n",
       "      <td>Social, Finance, Analytics, Advertising</td>\n",
       "      <td>133</td>\n",
       "    </tr>\n",
       "    <tr>\n",
       "      <td>2</td>\n",
       "      <td>Cleantech / Semiconductors</td>\n",
       "      <td>130</td>\n",
       "    </tr>\n",
       "    <tr>\n",
       "      <td>3</td>\n",
       "      <td>News, Search and Messaging</td>\n",
       "      <td>73</td>\n",
       "    </tr>\n",
       "    <tr>\n",
       "      <td>4</td>\n",
       "      <td>Entertainment</td>\n",
       "      <td>56</td>\n",
       "    </tr>\n",
       "    <tr>\n",
       "      <td>5</td>\n",
       "      <td>Manufacturing</td>\n",
       "      <td>42</td>\n",
       "    </tr>\n",
       "    <tr>\n",
       "      <td>6</td>\n",
       "      <td>Health</td>\n",
       "      <td>24</td>\n",
       "    </tr>\n",
       "    <tr>\n",
       "      <td>7</td>\n",
       "      <td>Automotive &amp; Sports</td>\n",
       "      <td>16</td>\n",
       "    </tr>\n",
       "  </tbody>\n",
       "</table>\n",
       "</div>"
      ],
      "text/plain": [
       "                              main_sectors  count_of_investments\n",
       "0                                   Others                   147\n",
       "1  Social, Finance, Analytics, Advertising                   133\n",
       "2               Cleantech / Semiconductors                   130\n",
       "3               News, Search and Messaging                    73\n",
       "4                            Entertainment                    56\n",
       "5                            Manufacturing                    42\n",
       "6                                   Health                    24\n",
       "7                      Automotive & Sports                    16"
      ]
     },
     "execution_count": 785,
     "metadata": {},
     "output_type": "execute_result"
    }
   ],
   "source": [
    "#Grouping based on Count of investments\n",
    "d2_sectors_in_count_order=d2.groupby(['main_sectors'])['count_of_investments'].count().sort_values(ascending=False).to_frame().reset_index()\n",
    "d2_sectors_in_count_order"
   ]
  },
  {
   "cell_type": "code",
   "execution_count": 786,
   "metadata": {},
   "outputs": [
    {
     "name": "stdout",
     "output_type": "stream",
     "text": [
      "Total Count of investments in GBR across main sectors\n"
     ]
    },
    {
     "data": {
      "text/plain": [
       "621"
      ]
     },
     "execution_count": 786,
     "metadata": {},
     "output_type": "execute_result"
    }
   ],
   "source": [
    "print(\"Total Count of investments in GBR across main sectors\")\n",
    "d2.groupby(['main_sectors'])['count_of_investments'].count().sum()"
   ]
  },
  {
   "cell_type": "code",
   "execution_count": 787,
   "metadata": {},
   "outputs": [
    {
     "name": "stdout",
     "output_type": "stream",
     "text": [
      "Company received highest investment in the top sector count wise\n"
     ]
    },
    {
     "data": {
      "text/plain": [
       "'Electric Cloud'"
      ]
     },
     "execution_count": 787,
     "metadata": {},
     "output_type": "execute_result"
    }
   ],
   "source": [
    "print(\"Company received highest investment in the top sector count wise\")\n",
    "d2.loc[d2['main_sectors'] == d2_sectors_in_count_order['main_sectors'].values[0]].groupby(['name'])['raised_amount_usd'].sum().sort_values(ascending=False).to_frame().reset_index()['name'].values[0]"
   ]
  },
  {
   "cell_type": "code",
   "execution_count": 788,
   "metadata": {},
   "outputs": [
    {
     "name": "stdout",
     "output_type": "stream",
     "text": [
      "Company received highest investment in the second top sector count wise\n"
     ]
    },
    {
     "data": {
      "text/plain": [
       "'Celltick Technologies'"
      ]
     },
     "execution_count": 788,
     "metadata": {},
     "output_type": "execute_result"
    }
   ],
   "source": [
    "print(\"Company received highest investment in the second top sector count wise\")\n",
    "d2.loc[d2['main_sectors'] == d2_sectors_in_count_order['main_sectors'].values[1]].groupby(['name'])['raised_amount_usd'].sum().sort_values(ascending=False).to_frame().reset_index()['name'].values[0]"
   ]
  },
  {
   "cell_type": "markdown",
   "metadata": {},
   "source": [
    "___Same Procedure as the above two countries are being carried out for India as well___"
   ]
  },
  {
   "cell_type": "code",
   "execution_count": 789,
   "metadata": {},
   "outputs": [
    {
     "data": {
      "text/html": [
       "<div>\n",
       "<style scoped>\n",
       "    .dataframe tbody tr th:only-of-type {\n",
       "        vertical-align: middle;\n",
       "    }\n",
       "\n",
       "    .dataframe tbody tr th {\n",
       "        vertical-align: top;\n",
       "    }\n",
       "\n",
       "    .dataframe thead th {\n",
       "        text-align: right;\n",
       "    }\n",
       "</style>\n",
       "<table border=\"1\" class=\"dataframe\">\n",
       "  <thead>\n",
       "    <tr style=\"text-align: right;\">\n",
       "      <th></th>\n",
       "      <th>company_permalink</th>\n",
       "      <th>funding_round_permalink</th>\n",
       "      <th>funding_round_type</th>\n",
       "      <th>funded_at</th>\n",
       "      <th>raised_amount_usd</th>\n",
       "      <th>name</th>\n",
       "      <th>category_list</th>\n",
       "      <th>country_code</th>\n",
       "      <th>primary_sector</th>\n",
       "      <th>main_sectors</th>\n",
       "    </tr>\n",
       "  </thead>\n",
       "  <tbody>\n",
       "    <tr>\n",
       "      <td>0</td>\n",
       "      <td>/organization/-fame</td>\n",
       "      <td>/funding-round/9a01d05418af9f794eebff7ace91f638</td>\n",
       "      <td>venture</td>\n",
       "      <td>05-01-2015</td>\n",
       "      <td>10000000.0</td>\n",
       "      <td>#fame</td>\n",
       "      <td>Media</td>\n",
       "      <td>IND</td>\n",
       "      <td>media</td>\n",
       "      <td>Entertainment</td>\n",
       "    </tr>\n",
       "    <tr>\n",
       "      <td>545</td>\n",
       "      <td>/organization/babajob</td>\n",
       "      <td>/funding-round/b72eaac5ea12ac0f50573ac3d6d46b8d</td>\n",
       "      <td>venture</td>\n",
       "      <td>28-04-2015</td>\n",
       "      <td>10000000.0</td>\n",
       "      <td>Babajob</td>\n",
       "      <td>Curated Web|Information Technology|Services|St...</td>\n",
       "      <td>IND</td>\n",
       "      <td>curated web</td>\n",
       "      <td>News, Search and Messaging</td>\n",
       "    </tr>\n",
       "    <tr>\n",
       "      <td>588</td>\n",
       "      <td>/organization/bharat-matrimony</td>\n",
       "      <td>/funding-round/e37673bc7b0f1dfd3782f8f7abdb9ec8</td>\n",
       "      <td>venture</td>\n",
       "      <td>05-02-2008</td>\n",
       "      <td>11750000.0</td>\n",
       "      <td>Bharat Matrimony</td>\n",
       "      <td>Curated Web|Match-Making</td>\n",
       "      <td>IND</td>\n",
       "      <td>curated web</td>\n",
       "      <td>News, Search and Messaging</td>\n",
       "    </tr>\n",
       "    <tr>\n",
       "      <td>635</td>\n",
       "      <td>/organization/bluestone-com</td>\n",
       "      <td>/funding-round/452a7fc1f34df2d3dcda4e28234bc671</td>\n",
       "      <td>venture</td>\n",
       "      <td>24-01-2012</td>\n",
       "      <td>5000000.0</td>\n",
       "      <td>Bluestone.com</td>\n",
       "      <td>Curated Web</td>\n",
       "      <td>IND</td>\n",
       "      <td>curated web</td>\n",
       "      <td>News, Search and Messaging</td>\n",
       "    </tr>\n",
       "    <tr>\n",
       "      <td>637</td>\n",
       "      <td>/organization/bluestone-com</td>\n",
       "      <td>/funding-round/f5b252d6442ce231bb01586ca1821f63</td>\n",
       "      <td>venture</td>\n",
       "      <td>18-03-2014</td>\n",
       "      <td>10000000.0</td>\n",
       "      <td>Bluestone.com</td>\n",
       "      <td>Curated Web</td>\n",
       "      <td>IND</td>\n",
       "      <td>curated web</td>\n",
       "      <td>News, Search and Messaging</td>\n",
       "    </tr>\n",
       "  </tbody>\n",
       "</table>\n",
       "</div>"
      ],
      "text/plain": [
       "                  company_permalink  \\\n",
       "0               /organization/-fame   \n",
       "545           /organization/babajob   \n",
       "588  /organization/bharat-matrimony   \n",
       "635     /organization/bluestone-com   \n",
       "637     /organization/bluestone-com   \n",
       "\n",
       "                             funding_round_permalink funding_round_type  \\\n",
       "0    /funding-round/9a01d05418af9f794eebff7ace91f638            venture   \n",
       "545  /funding-round/b72eaac5ea12ac0f50573ac3d6d46b8d            venture   \n",
       "588  /funding-round/e37673bc7b0f1dfd3782f8f7abdb9ec8            venture   \n",
       "635  /funding-round/452a7fc1f34df2d3dcda4e28234bc671            venture   \n",
       "637  /funding-round/f5b252d6442ce231bb01586ca1821f63            venture   \n",
       "\n",
       "      funded_at  raised_amount_usd              name  \\\n",
       "0    05-01-2015         10000000.0             #fame   \n",
       "545  28-04-2015         10000000.0           Babajob   \n",
       "588  05-02-2008         11750000.0  Bharat Matrimony   \n",
       "635  24-01-2012          5000000.0     Bluestone.com   \n",
       "637  18-03-2014         10000000.0     Bluestone.com   \n",
       "\n",
       "                                         category_list country_code  \\\n",
       "0                                                Media          IND   \n",
       "545  Curated Web|Information Technology|Services|St...          IND   \n",
       "588                           Curated Web|Match-Making          IND   \n",
       "635                                        Curated Web          IND   \n",
       "637                                        Curated Web          IND   \n",
       "\n",
       "    primary_sector                main_sectors  \n",
       "0            media               Entertainment  \n",
       "545    curated web  News, Search and Messaging  \n",
       "588    curated web  News, Search and Messaging  \n",
       "635    curated web  News, Search and Messaging  \n",
       "637    curated web  News, Search and Messaging  "
      ]
     },
     "execution_count": 789,
     "metadata": {},
     "output_type": "execute_result"
    }
   ],
   "source": [
    "d3=final_merged_frame.loc[(final_merged_frame.country_code == top3_english_speaking_venture_funded_countries[2]) & (final_merged_frame.funding_round_type == 'venture') & (final_merged_frame.raised_amount_usd >= 5000000) & (final_merged_frame.raised_amount_usd <= 15000000)]\n",
    "d3.head()"
   ]
  },
  {
   "cell_type": "code",
   "execution_count": 790,
   "metadata": {},
   "outputs": [
    {
     "data": {
      "text/html": [
       "<div>\n",
       "<style scoped>\n",
       "    .dataframe tbody tr th:only-of-type {\n",
       "        vertical-align: middle;\n",
       "    }\n",
       "\n",
       "    .dataframe tbody tr th {\n",
       "        vertical-align: top;\n",
       "    }\n",
       "\n",
       "    .dataframe thead th {\n",
       "        text-align: right;\n",
       "    }\n",
       "</style>\n",
       "<table border=\"1\" class=\"dataframe\">\n",
       "  <thead>\n",
       "    <tr style=\"text-align: right;\">\n",
       "      <th></th>\n",
       "      <th>company_permalink</th>\n",
       "      <th>funding_round_permalink</th>\n",
       "      <th>funding_round_type</th>\n",
       "      <th>funded_at</th>\n",
       "      <th>raised_amount_usd</th>\n",
       "      <th>name</th>\n",
       "      <th>category_list</th>\n",
       "      <th>country_code</th>\n",
       "      <th>primary_sector</th>\n",
       "      <th>main_sectors</th>\n",
       "      <th>count_of_investments</th>\n",
       "      <th>total_investment_amount</th>\n",
       "    </tr>\n",
       "  </thead>\n",
       "  <tbody>\n",
       "    <tr>\n",
       "      <td>0</td>\n",
       "      <td>/organization/-fame</td>\n",
       "      <td>/funding-round/9a01d05418af9f794eebff7ace91f638</td>\n",
       "      <td>venture</td>\n",
       "      <td>05-01-2015</td>\n",
       "      <td>10000000.0</td>\n",
       "      <td>#fame</td>\n",
       "      <td>Media</td>\n",
       "      <td>IND</td>\n",
       "      <td>media</td>\n",
       "      <td>Entertainment</td>\n",
       "      <td>33</td>\n",
       "      <td>280830000.0</td>\n",
       "    </tr>\n",
       "    <tr>\n",
       "      <td>1</td>\n",
       "      <td>/organization/dhruva</td>\n",
       "      <td>/funding-round/6035248811c9530b11bd442d9239a0b1</td>\n",
       "      <td>venture</td>\n",
       "      <td>27-11-2006</td>\n",
       "      <td>5000000.0</td>\n",
       "      <td>Dhruva</td>\n",
       "      <td>Games</td>\n",
       "      <td>IND</td>\n",
       "      <td>games</td>\n",
       "      <td>Entertainment</td>\n",
       "      <td>33</td>\n",
       "      <td>280830000.0</td>\n",
       "    </tr>\n",
       "    <tr>\n",
       "      <td>2</td>\n",
       "      <td>/organization/games2win</td>\n",
       "      <td>/funding-round/6b024f4906c288c66d1df966e6aeb256</td>\n",
       "      <td>venture</td>\n",
       "      <td>29-03-2007</td>\n",
       "      <td>5000000.0</td>\n",
       "      <td>Games2Win</td>\n",
       "      <td>Games</td>\n",
       "      <td>IND</td>\n",
       "      <td>games</td>\n",
       "      <td>Entertainment</td>\n",
       "      <td>33</td>\n",
       "      <td>280830000.0</td>\n",
       "    </tr>\n",
       "    <tr>\n",
       "      <td>3</td>\n",
       "      <td>/organization/games2win</td>\n",
       "      <td>/funding-round/b095563fd43d1e4fd16da3f4bcd040af</td>\n",
       "      <td>venture</td>\n",
       "      <td>30-03-2011</td>\n",
       "      <td>6000000.0</td>\n",
       "      <td>Games2Win</td>\n",
       "      <td>Games</td>\n",
       "      <td>IND</td>\n",
       "      <td>games</td>\n",
       "      <td>Entertainment</td>\n",
       "      <td>33</td>\n",
       "      <td>280830000.0</td>\n",
       "    </tr>\n",
       "    <tr>\n",
       "      <td>4</td>\n",
       "      <td>/organization/pokkt</td>\n",
       "      <td>/funding-round/adb94c131e001a7438a4695d873d8dc1</td>\n",
       "      <td>venture</td>\n",
       "      <td>03-11-2015</td>\n",
       "      <td>5000000.0</td>\n",
       "      <td>POKKT</td>\n",
       "      <td>Games</td>\n",
       "      <td>IND</td>\n",
       "      <td>games</td>\n",
       "      <td>Entertainment</td>\n",
       "      <td>33</td>\n",
       "      <td>280830000.0</td>\n",
       "    </tr>\n",
       "  </tbody>\n",
       "</table>\n",
       "</div>"
      ],
      "text/plain": [
       "         company_permalink                          funding_round_permalink  \\\n",
       "0      /organization/-fame  /funding-round/9a01d05418af9f794eebff7ace91f638   \n",
       "1     /organization/dhruva  /funding-round/6035248811c9530b11bd442d9239a0b1   \n",
       "2  /organization/games2win  /funding-round/6b024f4906c288c66d1df966e6aeb256   \n",
       "3  /organization/games2win  /funding-round/b095563fd43d1e4fd16da3f4bcd040af   \n",
       "4      /organization/pokkt  /funding-round/adb94c131e001a7438a4695d873d8dc1   \n",
       "\n",
       "  funding_round_type   funded_at  raised_amount_usd       name category_list  \\\n",
       "0            venture  05-01-2015         10000000.0      #fame         Media   \n",
       "1            venture  27-11-2006          5000000.0     Dhruva         Games   \n",
       "2            venture  29-03-2007          5000000.0  Games2Win         Games   \n",
       "3            venture  30-03-2011          6000000.0  Games2Win         Games   \n",
       "4            venture  03-11-2015          5000000.0      POKKT         Games   \n",
       "\n",
       "  country_code primary_sector   main_sectors  count_of_investments  \\\n",
       "0          IND          media  Entertainment                    33   \n",
       "1          IND          games  Entertainment                    33   \n",
       "2          IND          games  Entertainment                    33   \n",
       "3          IND          games  Entertainment                    33   \n",
       "4          IND          games  Entertainment                    33   \n",
       "\n",
       "   total_investment_amount  \n",
       "0              280830000.0  \n",
       "1              280830000.0  \n",
       "2              280830000.0  \n",
       "3              280830000.0  \n",
       "4              280830000.0  "
      ]
     },
     "execution_count": 790,
     "metadata": {},
     "output_type": "execute_result"
    }
   ],
   "source": [
    "main_sectors_count=d3.groupby(['main_sectors'])['company_permalink'].count().to_frame().reset_index()\n",
    "main_sectors_count.rename(columns={'company_permalink' : 'count_of_investments'}, inplace=True)\n",
    "d3=pd.merge(d3, main_sectors_count, how='inner',on='main_sectors')\n",
    "main_sectors_total_amount_invested=d3.groupby(['main_sectors'])['raised_amount_usd'].sum().to_frame().reset_index()\n",
    "main_sectors_total_amount_invested.rename(columns={'raised_amount_usd' : 'total_investment_amount'}, inplace=True)\n",
    "d3=pd.merge(d3, main_sectors_total_amount_invested, how='inner',on='main_sectors')\n",
    "d3.head()"
   ]
  },
  {
   "cell_type": "markdown",
   "metadata": {},
   "source": [
    "- ___Summing up the total investments made for each main sector___ <br>\n",
    "- ___Output of the below will list the top 3 sectors based on investment amount for India___ <br>"
   ]
  },
  {
   "cell_type": "code",
   "execution_count": 791,
   "metadata": {},
   "outputs": [
    {
     "data": {
      "text/plain": [
       "main_sectors\n",
       "Others                                     1.013410e+09\n",
       "Social, Finance, Analytics, Advertising    5.505496e+08\n",
       "News, Search and Messaging                 4.338345e+08\n",
       "Entertainment                              2.808300e+08\n",
       "Manufacturing                              2.009000e+08\n",
       "Health                                     1.677400e+08\n",
       "Cleantech / Semiconductors                 1.653800e+08\n",
       "Automotive & Sports                        1.369000e+08\n",
       "Name: raised_amount_usd, dtype: float64"
      ]
     },
     "execution_count": 791,
     "metadata": {},
     "output_type": "execute_result"
    }
   ],
   "source": [
    "d3.groupby(['main_sectors'])['raised_amount_usd'].sum().sort_values(ascending=False)"
   ]
  },
  {
   "cell_type": "code",
   "execution_count": 792,
   "metadata": {},
   "outputs": [
    {
     "name": "stdout",
     "output_type": "stream",
     "text": [
      "Total amount invested in India across main sectors\n"
     ]
    },
    {
     "data": {
      "text/plain": [
       "2949543602.0"
      ]
     },
     "execution_count": 792,
     "metadata": {},
     "output_type": "execute_result"
    }
   ],
   "source": [
    "print(\"Total amount invested in India across main sectors\")\n",
    "d3['raised_amount_usd'].sum()"
   ]
  },
  {
   "cell_type": "code",
   "execution_count": 793,
   "metadata": {},
   "outputs": [
    {
     "data": {
      "text/html": [
       "<div>\n",
       "<style scoped>\n",
       "    .dataframe tbody tr th:only-of-type {\n",
       "        vertical-align: middle;\n",
       "    }\n",
       "\n",
       "    .dataframe tbody tr th {\n",
       "        vertical-align: top;\n",
       "    }\n",
       "\n",
       "    .dataframe thead th {\n",
       "        text-align: right;\n",
       "    }\n",
       "</style>\n",
       "<table border=\"1\" class=\"dataframe\">\n",
       "  <thead>\n",
       "    <tr style=\"text-align: right;\">\n",
       "      <th></th>\n",
       "      <th>main_sectors</th>\n",
       "      <th>count_of_investments</th>\n",
       "    </tr>\n",
       "  </thead>\n",
       "  <tbody>\n",
       "    <tr>\n",
       "      <td>0</td>\n",
       "      <td>Others</td>\n",
       "      <td>110</td>\n",
       "    </tr>\n",
       "    <tr>\n",
       "      <td>1</td>\n",
       "      <td>Social, Finance, Analytics, Advertising</td>\n",
       "      <td>60</td>\n",
       "    </tr>\n",
       "    <tr>\n",
       "      <td>2</td>\n",
       "      <td>News, Search and Messaging</td>\n",
       "      <td>52</td>\n",
       "    </tr>\n",
       "    <tr>\n",
       "      <td>3</td>\n",
       "      <td>Entertainment</td>\n",
       "      <td>33</td>\n",
       "    </tr>\n",
       "    <tr>\n",
       "      <td>4</td>\n",
       "      <td>Manufacturing</td>\n",
       "      <td>21</td>\n",
       "    </tr>\n",
       "    <tr>\n",
       "      <td>5</td>\n",
       "      <td>Cleantech / Semiconductors</td>\n",
       "      <td>20</td>\n",
       "    </tr>\n",
       "    <tr>\n",
       "      <td>6</td>\n",
       "      <td>Health</td>\n",
       "      <td>19</td>\n",
       "    </tr>\n",
       "    <tr>\n",
       "      <td>7</td>\n",
       "      <td>Automotive &amp; Sports</td>\n",
       "      <td>13</td>\n",
       "    </tr>\n",
       "  </tbody>\n",
       "</table>\n",
       "</div>"
      ],
      "text/plain": [
       "                              main_sectors  count_of_investments\n",
       "0                                   Others                   110\n",
       "1  Social, Finance, Analytics, Advertising                    60\n",
       "2               News, Search and Messaging                    52\n",
       "3                            Entertainment                    33\n",
       "4                            Manufacturing                    21\n",
       "5               Cleantech / Semiconductors                    20\n",
       "6                                   Health                    19\n",
       "7                      Automotive & Sports                    13"
      ]
     },
     "execution_count": 793,
     "metadata": {},
     "output_type": "execute_result"
    }
   ],
   "source": [
    "#Grouping based on Count of investments\n",
    "d3_sectors_in_count_order=d3.groupby(['main_sectors'])['count_of_investments'].count().sort_values(ascending=False).to_frame().reset_index()\n",
    "d3_sectors_in_count_order"
   ]
  },
  {
   "cell_type": "code",
   "execution_count": 794,
   "metadata": {},
   "outputs": [
    {
     "name": "stdout",
     "output_type": "stream",
     "text": [
      "Total Count of investments in India across main sectors\n"
     ]
    },
    {
     "data": {
      "text/plain": [
       "328"
      ]
     },
     "execution_count": 794,
     "metadata": {},
     "output_type": "execute_result"
    }
   ],
   "source": [
    "print(\"Total Count of investments in India across main sectors\")\n",
    "d3.groupby(['main_sectors'])['count_of_investments'].count().sum()"
   ]
  },
  {
   "cell_type": "code",
   "execution_count": 795,
   "metadata": {},
   "outputs": [
    {
     "name": "stdout",
     "output_type": "stream",
     "text": [
      "Company received highest investment in the top sector count wise\n"
     ]
    },
    {
     "data": {
      "text/plain": [
       "'FirstCry.com'"
      ]
     },
     "execution_count": 795,
     "metadata": {},
     "output_type": "execute_result"
    }
   ],
   "source": [
    "print(\"Company received highest investment in the top sector count wise\")\n",
    "d3.loc[d3['main_sectors'] == d3_sectors_in_count_order['main_sectors'].values[0]].groupby(['name'])['raised_amount_usd'].sum().sort_values(ascending=False).to_frame().reset_index()['name'].values[0]"
   ]
  },
  {
   "cell_type": "code",
   "execution_count": 796,
   "metadata": {},
   "outputs": [
    {
     "name": "stdout",
     "output_type": "stream",
     "text": [
      "Company received highest investment in the second top sector count wise\n"
     ]
    },
    {
     "data": {
      "text/plain": [
       "'Manthan Systems'"
      ]
     },
     "execution_count": 796,
     "metadata": {},
     "output_type": "execute_result"
    }
   ],
   "source": [
    "print(\"Company received highest investment in the second top sector count wise\")\n",
    "d3.loc[d3['main_sectors'] == d3_sectors_in_count_order['main_sectors'].values[1]].groupby(['name'])['raised_amount_usd'].sum().sort_values(ascending=False).to_frame().reset_index()['name'].values[0]"
   ]
  },
  {
   "cell_type": "markdown",
   "metadata": {},
   "source": [
    "#### Summary of Results\n",
    "Questions|USA|GBR|India\n",
    "-|-|-|-\n",
    "1. Total number of investments (count)|12063|621|328\n",
    "2. Total amount of investment (USD)|107757097294|5379078691|2949543602\n",
    "3. Top sector (based on count of investments)|Others|Others|Others\n",
    "4. Second-best sector (based on count of investments)|Social, Finance, Analytics, Advertising|Social, Finance, Analytics, Advertising|Social, Finance, Analytics, Advertising\n",
    "5. Third-best sector (based on count of investments)|Cleantech / Semiconductors|Cleantech / Semiconductors|News, Search and Messaging\n",
    "6. Number of investments in the top sector|2950|147|110\n",
    "7. Number of investments in the second-best sector|2714|133|60\n",
    "8. Number of investments in the third-best sector|2350|130|52\n",
    "9. For the top sector count-wise (point 3), which company received the highest investment?|Virtustream|Electric Cloud|FirstCry.com\n",
    "10. For the second-best sector count-wise (point 4), which company received the highest investment?|SST Inc. (Formerly ShotSpotter)|Celltick Technologies|Manthan Systems"
   ]
  },
  {
   "cell_type": "markdown",
   "metadata": {},
   "source": [
    "### CheckPoint 5 ends\n",
    "### Checkpoint 6 starts"
   ]
  },
  {
   "cell_type": "markdown",
   "metadata": {},
   "source": [
    "### Plot 1\n",
    "___Requirement is to find the fraction of count of total investments for the four intrested funding types, \"seed\", \"angel\", \"venture\" and \"private_equity\" along with their respective mean___<br><br>\n",
    "___Steps followed for plotting Plot 1___\n",
    "1. Create a df containing the count of all the types of investments\n",
    "2. Add a column in the above dataframe containing the mean value for investments in the respective funding types\n",
    "3. Restrict the above data frame to contain only the four interested funding type, seed, angel, venture and private equity\n",
    "4. Plot a bar graph where in the two sub plots, fraction of count of total investment and mean investment amounts are plotted respectively "
   ]
  },
  {
   "cell_type": "code",
   "execution_count": 797,
   "metadata": {},
   "outputs": [
    {
     "data": {
      "text/html": [
       "<div>\n",
       "<style scoped>\n",
       "    .dataframe tbody tr th:only-of-type {\n",
       "        vertical-align: middle;\n",
       "    }\n",
       "\n",
       "    .dataframe tbody tr th {\n",
       "        vertical-align: top;\n",
       "    }\n",
       "\n",
       "    .dataframe thead th {\n",
       "        text-align: right;\n",
       "    }\n",
       "</style>\n",
       "<table border=\"1\" class=\"dataframe\">\n",
       "  <thead>\n",
       "    <tr style=\"text-align: right;\">\n",
       "      <th></th>\n",
       "      <th>company_permalink</th>\n",
       "      <th>funding_round_permalink</th>\n",
       "      <th>funding_round_type</th>\n",
       "      <th>funded_at</th>\n",
       "      <th>raised_amount_usd</th>\n",
       "      <th>name</th>\n",
       "      <th>category_list</th>\n",
       "      <th>country_code</th>\n",
       "      <th>primary_sector</th>\n",
       "      <th>main_sectors</th>\n",
       "    </tr>\n",
       "  </thead>\n",
       "  <tbody>\n",
       "    <tr>\n",
       "      <td>0</td>\n",
       "      <td>/organization/-fame</td>\n",
       "      <td>/funding-round/9a01d05418af9f794eebff7ace91f638</td>\n",
       "      <td>venture</td>\n",
       "      <td>05-01-2015</td>\n",
       "      <td>10000000.0</td>\n",
       "      <td>#fame</td>\n",
       "      <td>Media</td>\n",
       "      <td>IND</td>\n",
       "      <td>media</td>\n",
       "      <td>Entertainment</td>\n",
       "    </tr>\n",
       "    <tr>\n",
       "      <td>1</td>\n",
       "      <td>/organization/90min</td>\n",
       "      <td>/funding-round/21a2cbf6f2fb2a1c2a61e04bf930dfe6</td>\n",
       "      <td>venture</td>\n",
       "      <td>06-10-2015</td>\n",
       "      <td>15000000.0</td>\n",
       "      <td>90min</td>\n",
       "      <td>Media|News|Publishing|Soccer|Sports</td>\n",
       "      <td>GBR</td>\n",
       "      <td>media</td>\n",
       "      <td>Entertainment</td>\n",
       "    </tr>\n",
       "    <tr>\n",
       "      <td>2</td>\n",
       "      <td>/organization/90min</td>\n",
       "      <td>/funding-round/bd626ed022f5c66574b1afe234f3c90d</td>\n",
       "      <td>venture</td>\n",
       "      <td>07-05-2013</td>\n",
       "      <td>5800000.0</td>\n",
       "      <td>90min</td>\n",
       "      <td>Media|News|Publishing|Soccer|Sports</td>\n",
       "      <td>GBR</td>\n",
       "      <td>media</td>\n",
       "      <td>Entertainment</td>\n",
       "    </tr>\n",
       "    <tr>\n",
       "      <td>3</td>\n",
       "      <td>/organization/90min</td>\n",
       "      <td>/funding-round/fd4b15e8c97ee2ffc0acccdbe1a98810</td>\n",
       "      <td>venture</td>\n",
       "      <td>26-03-2014</td>\n",
       "      <td>18000000.0</td>\n",
       "      <td>90min</td>\n",
       "      <td>Media|News|Publishing|Soccer|Sports</td>\n",
       "      <td>GBR</td>\n",
       "      <td>media</td>\n",
       "      <td>Entertainment</td>\n",
       "    </tr>\n",
       "    <tr>\n",
       "      <td>4</td>\n",
       "      <td>/organization/a-dance-for-me</td>\n",
       "      <td>/funding-round/9ab9dbd17bf010c79d8415b2c22be6fa</td>\n",
       "      <td>equity_crowdfunding</td>\n",
       "      <td>26-03-2014</td>\n",
       "      <td>1090000.0</td>\n",
       "      <td>A Dance for Me</td>\n",
       "      <td>Media|News|Photo Sharing|Video</td>\n",
       "      <td>USA</td>\n",
       "      <td>media</td>\n",
       "      <td>Entertainment</td>\n",
       "    </tr>\n",
       "  </tbody>\n",
       "</table>\n",
       "</div>"
      ],
      "text/plain": [
       "              company_permalink  \\\n",
       "0           /organization/-fame   \n",
       "1           /organization/90min   \n",
       "2           /organization/90min   \n",
       "3           /organization/90min   \n",
       "4  /organization/a-dance-for-me   \n",
       "\n",
       "                           funding_round_permalink   funding_round_type  \\\n",
       "0  /funding-round/9a01d05418af9f794eebff7ace91f638              venture   \n",
       "1  /funding-round/21a2cbf6f2fb2a1c2a61e04bf930dfe6              venture   \n",
       "2  /funding-round/bd626ed022f5c66574b1afe234f3c90d              venture   \n",
       "3  /funding-round/fd4b15e8c97ee2ffc0acccdbe1a98810              venture   \n",
       "4  /funding-round/9ab9dbd17bf010c79d8415b2c22be6fa  equity_crowdfunding   \n",
       "\n",
       "    funded_at  raised_amount_usd            name  \\\n",
       "0  05-01-2015         10000000.0           #fame   \n",
       "1  06-10-2015         15000000.0           90min   \n",
       "2  07-05-2013          5800000.0           90min   \n",
       "3  26-03-2014         18000000.0           90min   \n",
       "4  26-03-2014          1090000.0  A Dance for Me   \n",
       "\n",
       "                         category_list country_code primary_sector  \\\n",
       "0                                Media          IND          media   \n",
       "1  Media|News|Publishing|Soccer|Sports          GBR          media   \n",
       "2  Media|News|Publishing|Soccer|Sports          GBR          media   \n",
       "3  Media|News|Publishing|Soccer|Sports          GBR          media   \n",
       "4       Media|News|Photo Sharing|Video          USA          media   \n",
       "\n",
       "    main_sectors  \n",
       "0  Entertainment  \n",
       "1  Entertainment  \n",
       "2  Entertainment  \n",
       "3  Entertainment  \n",
       "4  Entertainment  "
      ]
     },
     "execution_count": 797,
     "metadata": {},
     "output_type": "execute_result"
    }
   ],
   "source": [
    "final_merged_frame.head()"
   ]
  },
  {
   "cell_type": "code",
   "execution_count": 798,
   "metadata": {},
   "outputs": [
    {
     "data": {
      "text/plain": [
       "funding_round_type\n",
       "angel                     5.015874\n",
       "convertible_note          1.505219\n",
       "debt_financing            7.264567\n",
       "equity_crowdfunding       1.280236\n",
       "grant                     2.197300\n",
       "non_equity_assistance     0.068523\n",
       "post_ipo_debt             0.138188\n",
       "post_ipo_equity           0.605285\n",
       "private_equity            1.755328\n",
       "product_crowdfunding      0.374592\n",
       "secondary_market          0.026267\n",
       "seed                     24.057239\n",
       "undisclosed               1.507503\n",
       "venture                  54.203878\n",
       "Name: funding_round_permalink, dtype: float64"
      ]
     },
     "execution_count": 798,
     "metadata": {},
     "output_type": "execute_result"
    }
   ],
   "source": [
    "sum_of_count_of_investments = final_merged_frame.groupby(final_merged_frame['funding_round_type'])['funding_round_permalink'].count().sum()\n",
    "100*(final_merged_frame.groupby(final_merged_frame['funding_round_type'])['funding_round_permalink'].count()/sum_of_count_of_investments)"
   ]
  },
  {
   "cell_type": "code",
   "execution_count": 799,
   "metadata": {},
   "outputs": [
    {
     "data": {
      "text/html": [
       "<div>\n",
       "<style scoped>\n",
       "    .dataframe tbody tr th:only-of-type {\n",
       "        vertical-align: middle;\n",
       "    }\n",
       "\n",
       "    .dataframe tbody tr th {\n",
       "        vertical-align: top;\n",
       "    }\n",
       "\n",
       "    .dataframe thead th {\n",
       "        text-align: right;\n",
       "    }\n",
       "</style>\n",
       "<table border=\"1\" class=\"dataframe\">\n",
       "  <thead>\n",
       "    <tr style=\"text-align: right;\">\n",
       "      <th></th>\n",
       "      <th>funding_round_type</th>\n",
       "      <th>fraction_of_investments</th>\n",
       "      <th>average_investment</th>\n",
       "    </tr>\n",
       "  </thead>\n",
       "  <tbody>\n",
       "    <tr>\n",
       "      <td>0</td>\n",
       "      <td>angel</td>\n",
       "      <td>5.015874</td>\n",
       "      <td>0.860331</td>\n",
       "    </tr>\n",
       "    <tr>\n",
       "      <td>8</td>\n",
       "      <td>private_equity</td>\n",
       "      <td>1.755328</td>\n",
       "      <td>27.717113</td>\n",
       "    </tr>\n",
       "    <tr>\n",
       "      <td>11</td>\n",
       "      <td>seed</td>\n",
       "      <td>24.057239</td>\n",
       "      <td>0.732272</td>\n",
       "    </tr>\n",
       "    <tr>\n",
       "      <td>13</td>\n",
       "      <td>venture</td>\n",
       "      <td>54.203878</td>\n",
       "      <td>9.583916</td>\n",
       "    </tr>\n",
       "  </tbody>\n",
       "</table>\n",
       "</div>"
      ],
      "text/plain": [
       "   funding_round_type  fraction_of_investments  average_investment\n",
       "0               angel                 5.015874            0.860331\n",
       "8      private_equity                 1.755328           27.717113\n",
       "11               seed                24.057239            0.732272\n",
       "13            venture                54.203878            9.583916"
      ]
     },
     "execution_count": 799,
     "metadata": {},
     "output_type": "execute_result"
    }
   ],
   "source": [
    "plot1=(100*(final_merged_frame.groupby(final_merged_frame['funding_round_type'])['funding_round_permalink'].count()/sum_of_count_of_investments)).to_frame()\n",
    "plot1['average']=final_merged_frame.groupby(final_merged_frame['funding_round_type'])['raised_amount_usd'].mean()\n",
    "plot1=plot1.reset_index()\n",
    "plot1=plot1.rename(columns={'funding_round_permalink':'fraction_of_investments', 'average' : 'average_investment'})\n",
    "plot1=plot1.loc[plot1.funding_round_type.isin(['seed','angel','venture','private_equity'])]\n",
    "#Converting the average to Millions\n",
    "plot1['average_investment']=plot1['average_investment']/1000000\n",
    "plot1"
   ]
  },
  {
   "cell_type": "code",
   "execution_count": 800,
   "metadata": {},
   "outputs": [
    {
     "data": {
      "image/png": "[encoded data removed]",
      "text/plain": [
       "<Figure size 1008x576 with 2 Axes>"
      ]
     },
     "metadata": {},
     "output_type": "display_data"
    }
   ],
   "source": [
    "plt.figure(figsize=(14, 8))\n",
    "plt.subplot(1, 2, 1)\n",
    "sns.barplot(x='funding_round_type', y='fraction_of_investments', data=plot1).set_title(\"Fraction of Count of Investments\")\n",
    "plt.xlabel(\"Funding Types\")\n",
    "plt.ylabel(\"Frcation of Count of Total Investments (In %)\")\n",
    "\n",
    "ax=plt.subplot(1, 2, 2)\n",
    "sns.barplot(x='funding_round_type', y='average_investment', data=plot1).set_title(\"Mean of the Investments\")\n",
    "plt.xlabel(\"Funding Types\")\n",
    "plt.ylabel(\"Mean Investment Amount (in Million USD)\")\n",
    "ax.axhline(5)\n",
    "ax.text(1.02, 5, \"5 Million USD\", va='center', ha=\"left\", bbox=dict(facecolor=\"w\",alpha=0.5),\n",
    "        transform=ax.get_yaxis_transform())\n",
    "ax.axhline(15)\n",
    "ax.text(1.02, 15, \"15 Million USD\", va='center', ha=\"left\", bbox=dict(facecolor=\"w\",alpha=0.5),\n",
    "        transform=ax.get_yaxis_transform())\n",
    "plt.show()"
   ]
  },
  {
   "cell_type": "markdown",
   "metadata": {},
   "source": [
    "Following inference made from above Plots\n",
    "1. Venture funding received the highest count of investments, or Venture funding is the most preferred funding type\n",
    "2. Venture funding mean investment amount lies within the range of Spark Investment amount criteria, ie between 5 to 15 million USD <br><br>\n",
    "___From the above points, Venture funding is the best suited for Spark Funds___"
   ]
  },
  {
   "cell_type": "markdown",
   "metadata": {},
   "source": [
    "### Plot 2\n",
    "___Requirement for plot 2 is have a plot showing the top 9 countries against the total amount of investments of funding type \"venture\"___ <br>\n",
    "___Steps followed___ <br>\n",
    "1. top9_venture_funded_countries df created earlier is used for this plot\n",
    "3. Plot a bar graph for the countries and the amount invested in those countries"
   ]
  },
  {
   "cell_type": "code",
   "execution_count": 801,
   "metadata": {},
   "outputs": [
    {
     "data": {
      "text/html": [
       "<div>\n",
       "<style scoped>\n",
       "    .dataframe tbody tr th:only-of-type {\n",
       "        vertical-align: middle;\n",
       "    }\n",
       "\n",
       "    .dataframe tbody tr th {\n",
       "        vertical-align: top;\n",
       "    }\n",
       "\n",
       "    .dataframe thead th {\n",
       "        text-align: right;\n",
       "    }\n",
       "</style>\n",
       "<table border=\"1\" class=\"dataframe\">\n",
       "  <thead>\n",
       "    <tr style=\"text-align: right;\">\n",
       "      <th></th>\n",
       "      <th>country_code</th>\n",
       "      <th>raised_amount_usd</th>\n",
       "    </tr>\n",
       "  </thead>\n",
       "  <tbody>\n",
       "    <tr>\n",
       "      <td>0</td>\n",
       "      <td>USA</td>\n",
       "      <td>3.437622e+11</td>\n",
       "    </tr>\n",
       "    <tr>\n",
       "      <td>1</td>\n",
       "      <td>CHN</td>\n",
       "      <td>2.477892e+10</td>\n",
       "    </tr>\n",
       "    <tr>\n",
       "      <td>2</td>\n",
       "      <td>GBR</td>\n",
       "      <td>1.754107e+10</td>\n",
       "    </tr>\n",
       "    <tr>\n",
       "      <td>3</td>\n",
       "      <td>IND</td>\n",
       "      <td>9.990809e+09</td>\n",
       "    </tr>\n",
       "    <tr>\n",
       "      <td>4</td>\n",
       "      <td>CAN</td>\n",
       "      <td>9.317218e+09</td>\n",
       "    </tr>\n",
       "    <tr>\n",
       "      <td>5</td>\n",
       "      <td>ISR</td>\n",
       "      <td>6.704350e+09</td>\n",
       "    </tr>\n",
       "    <tr>\n",
       "      <td>6</td>\n",
       "      <td>FRA</td>\n",
       "      <td>6.255329e+09</td>\n",
       "    </tr>\n",
       "    <tr>\n",
       "      <td>7</td>\n",
       "      <td>DEU</td>\n",
       "      <td>5.893145e+09</td>\n",
       "    </tr>\n",
       "    <tr>\n",
       "      <td>8</td>\n",
       "      <td>CHE</td>\n",
       "      <td>2.801560e+09</td>\n",
       "    </tr>\n",
       "  </tbody>\n",
       "</table>\n",
       "</div>"
      ],
      "text/plain": [
       "  country_code  raised_amount_usd\n",
       "0          USA       3.437622e+11\n",
       "1          CHN       2.477892e+10\n",
       "2          GBR       1.754107e+10\n",
       "3          IND       9.990809e+09\n",
       "4          CAN       9.317218e+09\n",
       "5          ISR       6.704350e+09\n",
       "6          FRA       6.255329e+09\n",
       "7          DEU       5.893145e+09\n",
       "8          CHE       2.801560e+09"
      ]
     },
     "execution_count": 801,
     "metadata": {},
     "output_type": "execute_result"
    }
   ],
   "source": [
    "# Top 9 countried along with the total amount of investments already stored in \"top9_venture_funded_countries\" df\n",
    "top9_venture_funded_countries"
   ]
  },
  {
   "cell_type": "code",
   "execution_count": 802,
   "metadata": {},
   "outputs": [
    {
     "data": {
      "image/png": "[encoded data removed]",
      "text/plain": [
       "<Figure size 1008x576 with 1 Axes>"
      ]
     },
     "metadata": {},
     "output_type": "display_data"
    }
   ],
   "source": [
    "plt.figure(figsize=(14, 8))\n",
    "sns.barplot(x='country_code', y='raised_amount_usd', data=top9_venture_funded_countries).set_title(\"Amount Invested in top 9 countries\")\n",
    "plt.xlabel(\"Country Code\")\n",
    "plt.ylabel(\"Total amount invested (In USD)\")\n",
    "plt.show()"
   ]
  },
  {
   "cell_type": "markdown",
   "metadata": {},
   "source": [
    "___From Plot 2, following inference could be made___\n",
    "1. USA is clearly the most heavily invested country in venture funding\n",
    "2. Since China is not an english speaking nation, it is not considered in the analysis\n",
    "3. GBR and India are the 2nd and 3rd countries respectively considering those are English Speaking countries"
   ]
  },
  {
   "cell_type": "markdown",
   "metadata": {},
   "source": [
    "### Plot 3\n",
    "___Requirement: A plot showing the number of investments in the top 3 sectors of the top 3 countries on one chart for Venture funding___ <br>\n",
    "___Steps followed:___\n",
    "1. DFs of the 3 countries created above are concatenated (in order to have the total count and total amount of investment parameters)\n",
    "2. DF is already restricted to have only venture type data since the respective country Dataframes contain only venture data\n",
    "3. DF will be restricted to have data only for the top 3 sectors of top 3 countries respectively"
   ]
  },
  {
   "cell_type": "code",
   "execution_count": 803,
   "metadata": {},
   "outputs": [
    {
     "data": {
      "text/html": [
       "<div>\n",
       "<style scoped>\n",
       "    .dataframe tbody tr th:only-of-type {\n",
       "        vertical-align: middle;\n",
       "    }\n",
       "\n",
       "    .dataframe tbody tr th {\n",
       "        vertical-align: top;\n",
       "    }\n",
       "\n",
       "    .dataframe thead th {\n",
       "        text-align: right;\n",
       "    }\n",
       "</style>\n",
       "<table border=\"1\" class=\"dataframe\">\n",
       "  <thead>\n",
       "    <tr style=\"text-align: right;\">\n",
       "      <th></th>\n",
       "      <th>company_permalink</th>\n",
       "      <th>funding_round_permalink</th>\n",
       "      <th>funding_round_type</th>\n",
       "      <th>funded_at</th>\n",
       "      <th>raised_amount_usd</th>\n",
       "      <th>name</th>\n",
       "      <th>category_list</th>\n",
       "      <th>country_code</th>\n",
       "      <th>primary_sector</th>\n",
       "      <th>main_sectors</th>\n",
       "      <th>count_of_investments</th>\n",
       "      <th>total_investment_amount</th>\n",
       "    </tr>\n",
       "  </thead>\n",
       "  <tbody>\n",
       "    <tr>\n",
       "      <td>591</td>\n",
       "      <td>/organization/aarohi-communication</td>\n",
       "      <td>/funding-round/84f519482b29b686a0c6b59ff383d386</td>\n",
       "      <td>venture</td>\n",
       "      <td>29-08-2003</td>\n",
       "      <td>6000000.0</td>\n",
       "      <td>Aarohi communication</td>\n",
       "      <td>Application Platforms|Communications Infrastru...</td>\n",
       "      <td>USA</td>\n",
       "      <td>application platforms</td>\n",
       "      <td>News, Search and Messaging</td>\n",
       "      <td>1583</td>\n",
       "      <td>1.397157e+10</td>\n",
       "    </tr>\n",
       "    <tr>\n",
       "      <td>592</td>\n",
       "      <td>/organization/aarohi-communication</td>\n",
       "      <td>/funding-round/b0f47948e427b6c91a50128373273abf</td>\n",
       "      <td>venture</td>\n",
       "      <td>06-12-2002</td>\n",
       "      <td>8000000.0</td>\n",
       "      <td>Aarohi communication</td>\n",
       "      <td>Application Platforms|Communications Infrastru...</td>\n",
       "      <td>USA</td>\n",
       "      <td>application platforms</td>\n",
       "      <td>News, Search and Messaging</td>\n",
       "      <td>1583</td>\n",
       "      <td>1.397157e+10</td>\n",
       "    </tr>\n",
       "    <tr>\n",
       "      <td>593</td>\n",
       "      <td>/organization/appian</td>\n",
       "      <td>/funding-round/95e11461d907939a880034263533be1e</td>\n",
       "      <td>venture</td>\n",
       "      <td>21-07-2008</td>\n",
       "      <td>10000000.0</td>\n",
       "      <td>Appian</td>\n",
       "      <td>Application Platforms|Business Productivity|Cl...</td>\n",
       "      <td>USA</td>\n",
       "      <td>application platforms</td>\n",
       "      <td>News, Search and Messaging</td>\n",
       "      <td>1583</td>\n",
       "      <td>1.397157e+10</td>\n",
       "    </tr>\n",
       "    <tr>\n",
       "      <td>594</td>\n",
       "      <td>/organization/appilog</td>\n",
       "      <td>/funding-round/41185e964879edbec6b7f1edc8f2ed4f</td>\n",
       "      <td>venture</td>\n",
       "      <td>15-01-2004</td>\n",
       "      <td>9000000.0</td>\n",
       "      <td>Appilog</td>\n",
       "      <td>Application Platforms|Internet|Software</td>\n",
       "      <td>USA</td>\n",
       "      <td>application platforms</td>\n",
       "      <td>News, Search and Messaging</td>\n",
       "      <td>1583</td>\n",
       "      <td>1.397157e+10</td>\n",
       "    </tr>\n",
       "    <tr>\n",
       "      <td>595</td>\n",
       "      <td>/organization/appilog</td>\n",
       "      <td>/funding-round/c85c0a984ded486d0105d171070accf7</td>\n",
       "      <td>venture</td>\n",
       "      <td>24-06-2003</td>\n",
       "      <td>6500000.0</td>\n",
       "      <td>Appilog</td>\n",
       "      <td>Application Platforms|Internet|Software</td>\n",
       "      <td>USA</td>\n",
       "      <td>application platforms</td>\n",
       "      <td>News, Search and Messaging</td>\n",
       "      <td>1583</td>\n",
       "      <td>1.397157e+10</td>\n",
       "    </tr>\n",
       "  </tbody>\n",
       "</table>\n",
       "</div>"
      ],
      "text/plain": [
       "                      company_permalink  \\\n",
       "591  /organization/aarohi-communication   \n",
       "592  /organization/aarohi-communication   \n",
       "593                /organization/appian   \n",
       "594               /organization/appilog   \n",
       "595               /organization/appilog   \n",
       "\n",
       "                             funding_round_permalink funding_round_type  \\\n",
       "591  /funding-round/84f519482b29b686a0c6b59ff383d386            venture   \n",
       "592  /funding-round/b0f47948e427b6c91a50128373273abf            venture   \n",
       "593  /funding-round/95e11461d907939a880034263533be1e            venture   \n",
       "594  /funding-round/41185e964879edbec6b7f1edc8f2ed4f            venture   \n",
       "595  /funding-round/c85c0a984ded486d0105d171070accf7            venture   \n",
       "\n",
       "      funded_at  raised_amount_usd                  name  \\\n",
       "591  29-08-2003          6000000.0  Aarohi communication   \n",
       "592  06-12-2002          8000000.0  Aarohi communication   \n",
       "593  21-07-2008         10000000.0                Appian   \n",
       "594  15-01-2004          9000000.0               Appilog   \n",
       "595  24-06-2003          6500000.0               Appilog   \n",
       "\n",
       "                                         category_list country_code  \\\n",
       "591  Application Platforms|Communications Infrastru...          USA   \n",
       "592  Application Platforms|Communications Infrastru...          USA   \n",
       "593  Application Platforms|Business Productivity|Cl...          USA   \n",
       "594            Application Platforms|Internet|Software          USA   \n",
       "595            Application Platforms|Internet|Software          USA   \n",
       "\n",
       "            primary_sector                main_sectors  count_of_investments  \\\n",
       "591  application platforms  News, Search and Messaging                  1583   \n",
       "592  application platforms  News, Search and Messaging                  1583   \n",
       "593  application platforms  News, Search and Messaging                  1583   \n",
       "594  application platforms  News, Search and Messaging                  1583   \n",
       "595  application platforms  News, Search and Messaging                  1583   \n",
       "\n",
       "     total_investment_amount  \n",
       "591             1.397157e+10  \n",
       "592             1.397157e+10  \n",
       "593             1.397157e+10  \n",
       "594             1.397157e+10  \n",
       "595             1.397157e+10  "
      ]
     },
     "execution_count": 803,
     "metadata": {},
     "output_type": "execute_result"
    }
   ],
   "source": [
    "top_sectors=['Cleantech / Semiconductors','Social, Finance, Analytics, Advertising','Others','News, Search and Messaging']\n",
    "plot3=pd.concat([d1,d2,d3])\n",
    "plot3=plot3.loc[(plot3.main_sectors.isin(top_sectors))]\n",
    "plot3.head()"
   ]
  },
  {
   "cell_type": "code",
   "execution_count": 804,
   "metadata": {},
   "outputs": [
    {
     "data": {
      "image/png": "[encoded data removed]",
      "text/plain": [
       "<Figure size 1008x576 with 1 Axes>"
      ]
     },
     "metadata": {},
     "output_type": "display_data"
    }
   ],
   "source": [
    "plt.figure(figsize=(14, 8))\n",
    "sns.barplot(x='count_of_investments', y='country_code', hue='main_sectors', data=plot3).set_title(\"Investments in top 3 countries in their top 3 sectors\")\n",
    "plt.xlabel(\"Count of Investments\")\n",
    "plt.ylabel(\"Country Code\")\n",
    "plt.show()"
   ]
  },
  {
   "cell_type": "markdown",
   "metadata": {},
   "source": [
    "___From Plot 3, following inference could be made___\n",
    "1. Top 3 sectors for all top 3 countries are captured\n",
    "3. In the top 3 countries identified, the top 3 sectors are \"Cleantech / Semicondictors\", \"Social, Finance, Analytics, Advertising\", \"Others\" and \"News, Search and Messaging\""
   ]
  },
  {
   "cell_type": "markdown",
   "metadata": {},
   "source": [
    "### Inference\n",
    "##### 1. The best suited fund type for Spark Funds is \"Venture Funding\"\n",
    "##### 2. Top 3 English speaking nations where majority of the investments happening in Venture Type are USA, Great Britain and India\n",
    "##### 3. Top 3 sectors in the identified top 3 countries are \"Cleantech / Semiconductors\", \"Social, Finance, Analytics, Advertising\" and \"Others\" and \"News, Search and Messaging\". These are the sectors where maximum investments have happened "
   ]
  },
  {
   "cell_type": "markdown",
   "metadata": {},
   "source": [
    "## Proposal (Based on the strategy of where most investments are happening)\n",
    "#### Proposed type of Funding: ___Venture Funding___\n",
    "#### Proposed Countries for investment based on the trend:\n",
    "- ___USA___\n",
    "- ___Great Britain___\n",
    "- ___India___\n",
    "\n",
    "#### Proposed Sectors for investment based on the trend:\n",
    "- ___Others___\n",
    "- ___Social, Finance, Analytics, Advertising___\n",
    "- ___Cleantech / Semiconductors___\n",
    "- ___News, Search and Messaging___"
   ]
  },
  {
   "cell_type": "code",
   "execution_count": null,
   "metadata": {},
   "outputs": [],
   "source": []
  }
 ],
 "metadata": {
  "kernelspec": {
   "display_name": "Python 3",
   "language": "python",
   "name": "python3"
  },
  "language_info": {
   "codemirror_mode": {
    "name": "ipython",
    "version": 3
   },
   "file_extension": ".py",
   "mimetype": "text/x-python",
   "name": "python",
   "nbconvert_exporter": "python",
   "pygments_lexer": "ipython3",
   "version": "3.7.4"
  }
 },
 "nbformat": 4,
 "nbformat_minor": 2
}
