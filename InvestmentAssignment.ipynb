{
 "cells": [
  {
   "cell_type": "markdown",
   "metadata": {},
   "source": [
    "# Investment proposal for Spark Funds"
   ]
  },
  {
   "cell_type": "markdown",
   "metadata": {},
   "source": [
    "`importing the needed libraries`"
   ]
  },
  {
   "cell_type": "code",
   "execution_count": null,
   "metadata": {},
   "outputs": [],
   "source": [
    "import pandas as pd\n",
    "import numpy as np\n",
    "import matplotlib.pyplot as plt\n",
    "import seaborn as sns\n",
    "sns.set_style(\"whitegrid\")"
   ]
  },
  {
   "cell_type": "markdown",
   "metadata": {},
   "source": [
    "`Reading and investigation of rounds2 csv file`"
   ]
  },
  {
   "cell_type": "code",
   "execution_count": null,
   "metadata": {},
   "outputs": [],
   "source": [
    "rounds2 = pd.read_csv(\"./Downloads/rounds2.csv\", encoding= 'unicode_escape')"
   ]
  },
  {
   "cell_type": "code",
   "execution_count": null,
   "metadata": {},
   "outputs": [],
   "source": [
    "rounds2.head()"
   ]
  },
  {
   "cell_type": "code",
   "execution_count": null,
   "metadata": {},
   "outputs": [],
   "source": [
    "rounds2.shape"
   ]
  },
  {
   "cell_type": "code",
   "execution_count": null,
   "metadata": {},
   "outputs": [],
   "source": [
    "rounds2.info()"
   ]
  },
  {
   "cell_type": "markdown",
   "metadata": {},
   "source": [
    "`Unique entries based on all the columns of rounds2 dataframe`"
   ]
  },
  {
   "cell_type": "code",
   "execution_count": null,
   "metadata": {},
   "outputs": [],
   "source": [
    "rounds2.nunique()"
   ]
  },
  {
   "cell_type": "markdown",
   "metadata": {},
   "source": [
    "`Converting the company_permalink column in rounds2 table to lower case\n",
    "This is needed to match the letter cases between rounds2 table and companies table to avoid unwanted conflicts while merging`"
   ]
  },
  {
   "cell_type": "code",
   "execution_count": null,
   "metadata": {},
   "outputs": [],
   "source": [
    "rounds2['company_permalink'] = rounds2['company_permalink'].str.lower()\n",
    "rounds2.head()"
   ]
  },
  {
   "cell_type": "markdown",
   "metadata": {},
   "source": [
    "`Reading and investigation of companies file`"
   ]
  },
  {
   "cell_type": "code",
   "execution_count": null,
   "metadata": {},
   "outputs": [],
   "source": [
    "companies = pd.read_csv(\"./Downloads/companies.txt\", sep=\"\\t\", encoding = \"ISO-8859-1\")"
   ]
  },
  {
   "cell_type": "code",
   "execution_count": null,
   "metadata": {},
   "outputs": [],
   "source": [
    "companies.head()"
   ]
  },
  {
   "cell_type": "code",
   "execution_count": null,
   "metadata": {},
   "outputs": [],
   "source": [
    "companies.shape"
   ]
  },
  {
   "cell_type": "code",
   "execution_count": null,
   "metadata": {},
   "outputs": [],
   "source": [
    "companies.info()"
   ]
  },
  {
   "cell_type": "markdown",
   "metadata": {},
   "source": [
    "`Finding the unique entries in companies dataframe for all the columns`"
   ]
  },
  {
   "cell_type": "code",
   "execution_count": null,
   "metadata": {},
   "outputs": [],
   "source": [
    "companies.nunique()"
   ]
  },
  {
   "cell_type": "markdown",
   "metadata": {},
   "source": [
    "`Renaming and lowercasing the permalink column in companies df to match it with rounds2 df`"
   ]
  },
  {
   "cell_type": "code",
   "execution_count": null,
   "metadata": {},
   "outputs": [],
   "source": [
    "companies = companies.rename(columns={\"permalink\": \"company_permalink\"})\n",
    "companies['company_permalink'] = companies['company_permalink'].str.lower()\n",
    "companies.head()"
   ]
  },
  {
   "cell_type": "markdown",
   "metadata": {},
   "source": [
    "#### Merging both the data frames\n",
    "##### Left Merge is chosen here as per the requirement to add all the columns in companies df to rounds2 df"
   ]
  },
  {
   "cell_type": "code",
   "execution_count": null,
   "metadata": {},
   "outputs": [],
   "source": [
    "master_frame = pd.merge(rounds2, companies, how='left', on='company_permalink')"
   ]
  },
  {
   "cell_type": "code",
   "execution_count": null,
   "metadata": {},
   "outputs": [],
   "source": [
    "master_frame.info()"
   ]
  },
  {
   "cell_type": "markdown",
   "metadata": {},
   "source": [
    "**Treating missing Values post merging both the df rounds2 and company**"
   ]
  },
  {
   "cell_type": "code",
   "execution_count": null,
   "metadata": {},
   "outputs": [],
   "source": [
    "master_frame.isnull().sum()"
   ]
  },
  {
   "cell_type": "code",
   "execution_count": null,
   "metadata": {},
   "outputs": [],
   "source": [
    "# Finding the percentage of missing values for each column\n",
    "round(100*(master_frame.isnull().sum()/len(master_frame.index)), 2)"
   ]
  },
  {
   "cell_type": "markdown",
   "metadata": {},
   "source": [
    "- Decision taken to drop \"funding_round_code\" and \"founded_at\" for below reasons <br>\n",
    "- \"funding_round_code\" is dropped because of its high percentage of Nan Values and i expect that it will be not used in the analysis of this particular problem <br>\n",
    "- \"founded_at\" is dropped as 17% missing values are there and also this is expected not to play a role in the current investigation"
   ]
  },
  {
   "cell_type": "code",
   "execution_count": null,
   "metadata": {},
   "outputs": [],
   "source": [
    "master_frame = master_frame.drop('funding_round_code', axis=1)\n",
    "master_frame = master_frame.drop('founded_at', axis=1)\n",
    "round(100*(master_frame.isnull().sum()/len(master_frame.index)), 2)"
   ]
  },
  {
   "cell_type": "markdown",
   "metadata": {},
   "source": [
    "- Still few parameters have Nan less than 10% and \"raised_amount_usd\" is about 17% <br>\n",
    "- Removing the rows having more than 3 NULL values"
   ]
  },
  {
   "cell_type": "code",
   "execution_count": null,
   "metadata": {},
   "outputs": [],
   "source": [
    "#master_frame.info()\n",
    "len(master_frame[master_frame.isnull().sum(axis=1) > 3].index)"
   ]
  },
  {
   "cell_type": "code",
   "execution_count": null,
   "metadata": {},
   "outputs": [],
   "source": [
    "master_frame = master_frame[master_frame.isnull().sum(axis=1) <= 3]\n",
    "round(100*(master_frame.isnull().sum()/len(master_frame.index)), 2)"
   ]
  },
  {
   "cell_type": "markdown",
   "metadata": {},
   "source": [
    "- \"raised_amount_usd\" is the variable which is expected to play a significant role in the analysis\n",
    "- Hence It is not wise to impute any values to this based on assumptions\n",
    "- So deciding to remove those entries which have NULL for \"raised_amount_usd\"\n",
    "- Also removing the rows having NULL for \"category_list\"  parameter"
   ]
  },
  {
   "cell_type": "code",
   "execution_count": null,
   "metadata": {},
   "outputs": [],
   "source": [
    "master_frame = master_frame.dropna(subset=['raised_amount_usd'])\n",
    "master_frame = master_frame.dropna(subset=['category_list'])\n",
    "print(round(100*(master_frame.isnull().sum()/len(master_frame.index)), 2))"
   ]
  },
  {
   "cell_type": "markdown",
   "metadata": {},
   "source": [
    "__Outlier treatment__ <br>\n",
    "`Some analysis on the \"raised_amount_usd\" parameter to make sure that uncommon values are discovered and treated`\n",
    "- 95th to 100th percentile values are checked and found that 100th percentile value is 191 times the 99th percentile value\n",
    "- Hence deciding to drop the 100th percentile"
   ]
  },
  {
   "cell_type": "code",
   "execution_count": null,
   "metadata": {},
   "outputs": [],
   "source": [
    "print(master_frame['raised_amount_usd'].describe())\n",
    "print(master_frame['raised_amount_usd'].quantile(0.95))\n",
    "print(master_frame['raised_amount_usd'].quantile(0.96))\n",
    "print(master_frame['raised_amount_usd'].quantile(0.97))\n",
    "print(master_frame['raised_amount_usd'].quantile(0.98))\n",
    "print(master_frame['raised_amount_usd'].quantile(0.99))\n",
    "print(master_frame['raised_amount_usd'].quantile(1))"
   ]
  },
  {
   "cell_type": "markdown",
   "metadata": {},
   "source": [
    "`Investigating the \"raised_amount_usd\" parameter after removing the 100th percentile value`"
   ]
  },
  {
   "cell_type": "code",
   "execution_count": null,
   "metadata": {},
   "outputs": [],
   "source": [
    "master_frame = master_frame[master_frame.raised_amount_usd <= np.percentile(master_frame.raised_amount_usd,99)]\n",
    "print(round(100*(master_frame.isnull().sum()/len(master_frame.index)), 2))\n",
    "print(master_frame['raised_amount_usd'].describe())\n",
    "print(master_frame['raised_amount_usd'].quantile(0.95))\n",
    "print(master_frame['raised_amount_usd'].quantile(0.96))\n",
    "print(master_frame['raised_amount_usd'].quantile(0.97))\n",
    "print(master_frame['raised_amount_usd'].quantile(0.98))\n",
    "print(master_frame['raised_amount_usd'].quantile(0.99))\n",
    "print(master_frame['raised_amount_usd'].quantile(1))\n",
    "print(master_frame.info())"
   ]
  },
  {
   "cell_type": "markdown",
   "metadata": {},
   "source": [
    "__With this, checkpoint 1 is concluded, summary of activities done are listed below__\n",
    "1. rounds2 file read into df\n",
    "2. companies file read into df\n",
    "3. Companies df merged to rounds2 df\n",
    "4. Treatment of missing values and outliers done\n",
    "#### CHECKPOINT 1 Done"
   ]
  },
  {
   "cell_type": "code",
   "execution_count": null,
   "metadata": {},
   "outputs": [],
   "source": [
    "master_frame.head()"
   ]
  },
  {
   "cell_type": "markdown",
   "metadata": {},
   "source": [
    "### CHECKPOINT 2 Begins"
   ]
  },
  {
   "cell_type": "markdown",
   "metadata": {},
   "source": [
    "`Plotting the distribution of \"raised_amount_usd\" to visualise the distribution for the desired fund type`"
   ]
  },
  {
   "cell_type": "code",
   "execution_count": null,
   "metadata": {},
   "outputs": [],
   "source": [
    "master_subset = master_frame.loc[master_frame[\"funding_round_type\"].isin([\"seed\", \"angel\", \"venture\", \"private_equity\"])]\n",
    "plt.figure(num=None, figsize=(12, 8), dpi=80, facecolor='w', edgecolor='k')\n",
    "sns.boxplot(x='funding_round_type', y='raised_amount_usd', data=master_subset)\n",
    "plt.yscale('log')\n",
    "plt.show()"
   ]
  },
  {
   "cell_type": "markdown",
   "metadata": {},
   "source": [
    "__Post treating the outliers and missing values, Mean and Median are calculated for all the 4 desired funding types__"
   ]
  },
  {
   "cell_type": "code",
   "execution_count": null,
   "metadata": {},
   "outputs": [],
   "source": [
    "print(master_frame.loc[master_frame['funding_round_type'] == \"seed\"]['raised_amount_usd'].describe())\n",
    "seed_mean = master_frame.loc[master_frame['funding_round_type'] == \"seed\"]['raised_amount_usd'].mean()\n",
    "seed_median = master_frame.loc[master_frame['funding_round_type'] == \"seed\"]['raised_amount_usd'].median()\n",
    "print(\"Seed Mean:\",seed_mean)\n",
    "print(\"Seed Median:\",seed_median)"
   ]
  },
  {
   "cell_type": "code",
   "execution_count": null,
   "metadata": {},
   "outputs": [],
   "source": [
    "print(master_frame.loc[master_frame['funding_round_type'] == \"angel\"]['raised_amount_usd'].describe())\n",
    "angel_mean=master_frame.loc[master_frame['funding_round_type'] == \"angel\"]['raised_amount_usd'].mean()\n",
    "angel_median=master_frame.loc[master_frame['funding_round_type'] == \"angel\"]['raised_amount_usd'].median()\n",
    "print(\"Angel Mean:\",angel_mean)\n",
    "print(\"Angel Median:\",angel_median)"
   ]
  },
  {
   "cell_type": "code",
   "execution_count": null,
   "metadata": {},
   "outputs": [],
   "source": [
    "print(master_frame.loc[master_frame['funding_round_type'] == \"venture\"]['raised_amount_usd'].describe())\n",
    "venture_mean=master_frame.loc[master_frame['funding_round_type'] == \"venture\"]['raised_amount_usd'].mean()\n",
    "venture_median=master_frame.loc[master_frame['funding_round_type'] == \"venture\"]['raised_amount_usd'].median()\n",
    "print(\"Venture Mean:\",venture_mean)\n",
    "print(\"Venture Median:\",venture_median)"
   ]
  },
  {
   "cell_type": "code",
   "execution_count": null,
   "metadata": {},
   "outputs": [],
   "source": [
    "print(master_frame.loc[master_frame['funding_round_type'] == \"private_equity\"]['raised_amount_usd'].describe())\n",
    "private_equity_mean=master_frame.loc[master_frame['funding_round_type'] == \"private_equity\"]['raised_amount_usd'].mean()\n",
    "private_equity_median=master_frame.loc[master_frame['funding_round_type'] == \"private_equity\"]['raised_amount_usd'].median()\n",
    "print(\"Private Equity Mean:\",private_equity_mean)\n",
    "print(\"Private Equity Median:\",private_equity_median)"
   ]
  },
  {
   "cell_type": "markdown",
   "metadata": {},
   "source": [
    "__Best suited investment type for Spark Funds would be Venture funding since the Mean and the Median of Venture Funding lies in the range of 5 and 15 Million USD__"
   ]
  },
  {
   "cell_type": "markdown",
   "metadata": {},
   "source": [
    "__With this CheckPoint 2 is done, summary is below__\n",
    "1. Mean and Median has been calculated for all the 4 desired fund types\n",
    "2. _It was found that Venture Funding is the suitable one for Spark Funds as the mean of the Venture funding alone lies in the required range_\n",
    "#### CheckPoint 2 Done"
   ]
  },
  {
   "cell_type": "markdown",
   "metadata": {},
   "source": [
    "#### CheckPoint 3 Begins"
   ]
  },
  {
   "cell_type": "markdown",
   "metadata": {},
   "source": [
    "`For the chosen funding type, \"Venture Funding\", segregate the countries that have Venture funding type`"
   ]
  },
  {
   "cell_type": "code",
   "execution_count": null,
   "metadata": {
    "scrolled": true
   },
   "outputs": [],
   "source": [
    "venture_funded_countries = master_frame.loc[(master_frame.funding_round_type == 'venture')].groupby(['country_code'])\n",
    "venture_funded_countries"
   ]
  },
  {
   "cell_type": "code",
   "execution_count": null,
   "metadata": {},
   "outputs": [],
   "source": [
    "venture_funded_countries['company_permalink'].describe()"
   ]
  },
  {
   "cell_type": "markdown",
   "metadata": {},
   "source": [
    "`Sorting the Venture funded countries based on Investment amount`"
   ]
  },
  {
   "cell_type": "code",
   "execution_count": null,
   "metadata": {},
   "outputs": [],
   "source": [
    "pd.set_option('display.max_rows', None)\n",
    "top9_venture_funded_countries=venture_funded_countries['raised_amount_usd'].sum().sort_values(ascending=False).reset_index()"
   ]
  },
  {
   "cell_type": "code",
   "execution_count": null,
   "metadata": {},
   "outputs": [],
   "source": [
    "top9_venture_funded_countries"
   ]
  },
  {
   "cell_type": "markdown",
   "metadata": {},
   "source": [
    "`Retaining the top 9 and removing the rest`"
   ]
  },
  {
   "cell_type": "code",
   "execution_count": null,
   "metadata": {},
   "outputs": [],
   "source": [
    "top9_venture_funded_countries=top9_venture_funded_countries.iloc[0:9]"
   ]
  },
  {
   "cell_type": "code",
   "execution_count": null,
   "metadata": {},
   "outputs": [],
   "source": [
    "top9_venture_funded_countries"
   ]
  },
  {
   "cell_type": "code",
   "execution_count": null,
   "metadata": {},
   "outputs": [],
   "source": [
    "type(top9_venture_funded_countries)"
   ]
  },
  {
   "cell_type": "markdown",
   "metadata": {},
   "source": [
    "`Dropping the investment amount column to have a df containing only the top 9 venture funded countries in descending order`"
   ]
  },
  {
   "cell_type": "code",
   "execution_count": null,
   "metadata": {},
   "outputs": [],
   "source": [
    "top9_venture_funded_countries=top9_venture_funded_countries.drop('raised_amount_usd', axis=1)"
   ]
  },
  {
   "cell_type": "code",
   "execution_count": null,
   "metadata": {},
   "outputs": [],
   "source": [
    "top9_venture_funded_countries"
   ]
  },
  {
   "cell_type": "markdown",
   "metadata": {},
   "source": [
    "_Next task is to find from the wiki source, the english speaking nations_ <br>\n",
    "___Assumption made for this task:___ <br>\n",
    "1. A country is considered English Speaking ___only if___ English is ___de facto or de facto and de jure official language___ in that country\n",
    "2. ___All___ the countries listed in ___de facto table___ are considered English speaking countries because English is primary in all those nations\n",
    "3. In Table 2 of the given wiki page, in ___de facto and de jure official language table___, A country is considered english speaking ___only if English is a Primary Language in that country___\n",
    "\n",
    "#### Scrape the Wiki page for finding the Englidh speaking countries"
   ]
  },
  {
   "cell_type": "code",
   "execution_count": null,
   "metadata": {},
   "outputs": [],
   "source": [
    "import requests, bs4\n",
    "url = \"https://en.wikipedia.org/wiki/List_of_territorial_entities_where_English_is_an_official_language\"\n",
    "headers = {'User-Agent': 'Mozilla/5.0 (Macintosh; Intel Mac OS X 10_10_1) AppleWebKit/537.36 (KHTML, like Gecko) Chrome/39.0.2171.95 Safari/537.36'}\n",
    "\n",
    "response = requests.get(url, headers=headers)\n",
    "soup = bs4.BeautifulSoup(response.text, \"html.parser\")"
   ]
  },
  {
   "cell_type": "markdown",
   "metadata": {},
   "source": [
    "Below segment extracts the country code from the first two tables in the given wiki with the assumptions listed above <br>\n",
    "`Expected Output:` <br>\n",
    "___List of English speaking Nations from Wiki source___"
   ]
  },
  {
   "cell_type": "code",
   "execution_count": null,
   "metadata": {},
   "outputs": [],
   "source": [
    "tables = soup.find_all('table', class_='sortable')\n",
    "countries_list = []\n",
    "flag = False\n",
    "table_count = 0\n",
    "for table in tables:\n",
    "    table_count = table_count + 1\n",
    "    for td in table.findChildren('td'):\n",
    "        token = td.text\n",
    "        token = token.strip()\n",
    "        # Country code is all upper case and the length is 3 characters\n",
    "        if(token.isupper() and len(token) == 3):\n",
    "            flag = True\n",
    "            country_code = token\n",
    "        if flag == True:\n",
    "            flag == False\n",
    "            if token[0] in ['Y']:\n",
    "                countries_list.append(country_code)\n",
    "    # Stopping after the first 2 tables\n",
    "    # As only the first two tables provides the countries with English as Official and Primary\n",
    "    if table_count == 2:\n",
    "        break\n",
    "print(\"Below are the country codes of English Speaking countries\")\n",
    "print((countries_list))\n",
    "    "
   ]
  },
  {
   "cell_type": "markdown",
   "metadata": {},
   "source": [
    "`Top 3 English speaking countries identified from top 9 with the help of English speaking countries discovered above`"
   ]
  },
  {
   "cell_type": "code",
   "execution_count": null,
   "metadata": {},
   "outputs": [],
   "source": [
    "top3_english_speaking_venture_funded_countries = []\n",
    "for i in range(len(top9_venture_funded_countries)):\n",
    "    if top9_venture_funded_countries.iloc[i][0] in countries_list:\n",
    "        top3_english_speaking_venture_funded_countries.append(top9_venture_funded_countries.country_code.iloc[i])\n",
    "top3_english_speaking_venture_funded_countries=top3_english_speaking_venture_funded_countries[0:3]\n",
    "top3_english_speaking_venture_funded_countries"
   ]
  },
  {
   "cell_type": "markdown",
   "metadata": {},
   "source": [
    "### Top 3 Engligh speaking countries in the descending order of total investments made are\n",
    "#### 1. USA United States of America\n",
    "#### 2. GBR United Kingdom\n",
    "#### 3. CAN Canada\n",
    "\n",
    "#### CheckPoint 3 ends\n",
    "#### CheckPoint 4 Begins\n",
    "##### Sector Analysis"
   ]
  },
  {
   "cell_type": "markdown",
   "metadata": {},
   "source": [
    "`Reading sector_mapping data into a dataframe and a basic look at the data set`"
   ]
  },
  {
   "cell_type": "code",
   "execution_count": null,
   "metadata": {},
   "outputs": [],
   "source": [
    "sector_mapping = pd.read_csv(\"./Downloads/mapping.csv\", encoding= 'unicode_escape')\n",
    "sector_mapping.info()"
   ]
  },
  {
   "cell_type": "code",
   "execution_count": null,
   "metadata": {},
   "outputs": [],
   "source": [
    "sector_mapping.head()"
   ]
  },
  {
   "cell_type": "markdown",
   "metadata": {},
   "source": [
    "- The category list content is found to be not correct <br>\n",
    "- 'na' has been replaced with '0' <br>\n",
    "- This is corrected to replace '0' with 'na' and converted to lower case so that no mismatch occurs while merging <br>\n",
    "- Main sectors are extraced from sector_mapping df and parameters are renamed to reflect the actual property"
   ]
  },
  {
   "cell_type": "code",
   "execution_count": null,
   "metadata": {},
   "outputs": [],
   "source": [
    "# Replacing '0' to 'na'\n",
    "sector_mapping[\"category_list\"] = sector_mapping[\"category_list\"].str.replace('0', 'na').str.lower()\n",
    "sector_mapping = pd.melt(sector_mapping, id_vars =['category_list'], value_vars =['Manufacturing','Automotive & Sports',\n",
    "                                                              'Cleantech / Semiconductors','Entertainment',\n",
    "                                                             'Health','News, Search and Messaging','Others',\n",
    "                                                             'Social, Finance, Analytics, Advertising']) \n",
    "sector_mapping = sector_mapping[~(sector_mapping.value == 0)]\n",
    "sector_mapping = sector_mapping.drop('value', axis = 1)\n",
    "sector_mapping = sector_mapping.rename(columns = {\"variable\":\"main_sectors\", \"category_list\":\"primary_sector\"})"
   ]
  },
  {
   "cell_type": "code",
   "execution_count": null,
   "metadata": {},
   "outputs": [],
   "source": [
    "print(sector_mapping.nunique())"
   ]
  },
  {
   "cell_type": "markdown",
   "metadata": {},
   "source": [
    "- ___'category_list' will be considered from master frame to map with sectors df <br>___\n",
    "- ___Incase more categories are found seperated by |, first category is considered as the primary category for that company___"
   ]
  },
  {
   "cell_type": "code",
   "execution_count": null,
   "metadata": {
    "scrolled": false
   },
   "outputs": [],
   "source": [
    "master_frame[\"primary_sector\"] = master_frame[\"category_list\"].str.split(\"|\").str[0].str.lower()\n",
    "master_frame.nunique()"
   ]
  },
  {
   "cell_type": "markdown",
   "metadata": {},
   "source": [
    "`Inner Merging the master_frame and sector_mapping on primary_sector`"
   ]
  },
  {
   "cell_type": "code",
   "execution_count": null,
   "metadata": {
    "scrolled": false
   },
   "outputs": [],
   "source": [
    "final_merged_frame = pd.merge(master_frame, sector_mapping, how='inner', on='primary_sector')"
   ]
  },
  {
   "cell_type": "code",
   "execution_count": null,
   "metadata": {},
   "outputs": [],
   "source": [
    "final_merged_frame.nunique()"
   ]
  },
  {
   "cell_type": "markdown",
   "metadata": {},
   "source": [
    "- ___Above is the merged final frame where for each entry, primary sectors are mapped to main sectors <br>___\n",
    "- ___Primary sector is presented as a seperate column___\n",
    "\n",
    "##### Checkpoint 4 ends"
   ]
  },
  {
   "cell_type": "markdown",
   "metadata": {},
   "source": [
    "##### CheckPoint 5 starts\n",
    "Identified top 3 countries are ___USA, GBR, CAN___ <br>\n",
    "Seperate data frames are created for each of those countries with the following conditions\n",
    "1. ___Funding type is Venture___\n",
    "2. ___Funding range is 5 million to 15 million USD___\n",
    "3. ___All the columns of master_frame are present in each of these data frames___\n",
    "\n",
    "Note: Total count of investments and total amount invested for each main sectors are not part of master frame. This shall be calculated foe each country and for each main sector in the respective country's df"
   ]
  },
  {
   "cell_type": "markdown",
   "metadata": {},
   "source": [
    "`Analysis for First top country - USA`"
   ]
  },
  {
   "cell_type": "code",
   "execution_count": null,
   "metadata": {},
   "outputs": [],
   "source": [
    "usa=final_merged_frame.loc[(final_merged_frame.country_code == 'USA') & (final_merged_frame.funding_round_type == 'venture') & (final_merged_frame.raised_amount_usd >= 5000000) & (final_merged_frame.raised_amount_usd <= 15000000)]\n",
    "usa.head()"
   ]
  },
  {
   "cell_type": "markdown",
   "metadata": {},
   "source": [
    "___Total Count of investments and total amount of investment for each main sector calculated and appended as columns___\n",
    "1. To do the above, \"usa\" data frame is grouped by main sectors and count on the group performed and appended as columns, this new data frame is then merged with usa data frame\n",
    "2. Same has been carried out for total amount of investment as well\n",
    "\n",
    "##### Finally 2 new columns have been added, total count of investments and total amount of investment grouped by main sectors\n",
    "Companies have the same main sector mapping will have the same values for above two new parameters"
   ]
  },
  {
   "cell_type": "code",
   "execution_count": null,
   "metadata": {},
   "outputs": [],
   "source": [
    "main_sectors_count=usa.groupby(['main_sectors'])['company_permalink'].count().to_frame().reset_index()\n",
    "main_sectors_count.rename(columns={'company_permalink' : 'count_of_investments'}, inplace=True)\n",
    "usa=pd.merge(usa, main_sectors_count, how='inner',on='main_sectors')\n",
    "main_sectors_total_amount_invested=usa.groupby(['main_sectors'])['raised_amount_usd'].sum().to_frame().reset_index()\n",
    "main_sectors_total_amount_invested.rename(columns={'raised_amount_usd' : 'total_investment_amount'}, inplace=True)\n",
    "usa=pd.merge(usa, main_sectors_total_amount_invested, how='inner',on='main_sectors')\n",
    "usa.head()"
   ]
  },
  {
   "cell_type": "markdown",
   "metadata": {},
   "source": [
    "- ___Summing up the total investments made for each main sector___ <br>\n",
    "- ___Output of the below will list the top 3 sectors based on investment amount for USA___ <br>"
   ]
  },
  {
   "cell_type": "code",
   "execution_count": null,
   "metadata": {},
   "outputs": [],
   "source": [
    "usa.groupby(['main_sectors'])['raised_amount_usd'].sum().sort_values(ascending=False)"
   ]
  },
  {
   "cell_type": "code",
   "execution_count": null,
   "metadata": {},
   "outputs": [],
   "source": [
    "# Total amount invested across sectors in USA\n",
    "print(\"Total amount invested in USA across main sectors\")\n",
    "usa['raised_amount_usd'].sum()"
   ]
  },
  {
   "cell_type": "code",
   "execution_count": null,
   "metadata": {},
   "outputs": [],
   "source": [
    "#Grouping based on Count of investments\n",
    "usa_sectors_in_count_order=usa.groupby(['main_sectors'])['count_of_investments'].count().sort_values(ascending=False).to_frame().reset_index()\n",
    "usa_sectors_in_count_order"
   ]
  },
  {
   "cell_type": "code",
   "execution_count": null,
   "metadata": {},
   "outputs": [],
   "source": [
    "print(\"Total Count of investments in USA across main sectors\")\n",
    "usa.groupby(['main_sectors'])['count_of_investments'].count().sum()"
   ]
  },
  {
   "cell_type": "code",
   "execution_count": null,
   "metadata": {},
   "outputs": [],
   "source": [
    "print(\"Company received highest investment in the top sector count wise\")\n",
    "usa.loc[usa['main_sectors'] == usa_sectors_in_count_order['main_sectors'].values[0]].sort_values(by='raised_amount_usd', ascending=False)['name'].values[0]"
   ]
  },
  {
   "cell_type": "code",
   "execution_count": null,
   "metadata": {},
   "outputs": [],
   "source": [
    "print(\"Company received highest investment in the second top sector count wise\")\n",
    "usa.loc[usa['main_sectors'] == usa_sectors_in_count_order['main_sectors'].values[1]].sort_values(by='raised_amount_usd', ascending=False)['name'].values[0]"
   ]
  },
  {
   "cell_type": "markdown",
   "metadata": {},
   "source": [
    "__Same procedure mentioned for USA is being carried out for GBR__"
   ]
  },
  {
   "cell_type": "code",
   "execution_count": null,
   "metadata": {},
   "outputs": [],
   "source": [
    "gbr=final_merged_frame.loc[(final_merged_frame.country_code == 'GBR') & (final_merged_frame.funding_round_type == 'venture') & (final_merged_frame.raised_amount_usd >= 5000000) & (final_merged_frame.raised_amount_usd <= 15000000)]\n",
    "gbr.head()"
   ]
  },
  {
   "cell_type": "code",
   "execution_count": null,
   "metadata": {},
   "outputs": [],
   "source": [
    "main_sectors_count=gbr.groupby(['main_sectors'])['company_permalink'].count().to_frame().reset_index()\n",
    "main_sectors_count.rename(columns={'company_permalink' : 'count_of_investments'}, inplace=True)\n",
    "gbr=pd.merge(gbr, main_sectors_count, how='inner',on='main_sectors')\n",
    "main_sectors_total_amount_invested=gbr.groupby(['main_sectors'])['raised_amount_usd'].sum().to_frame().reset_index()\n",
    "main_sectors_total_amount_invested.rename(columns={'raised_amount_usd' : 'total_investment_amount'}, inplace=True)\n",
    "gbr=pd.merge(gbr, main_sectors_total_amount_invested, how='inner',on='main_sectors')\n",
    "gbr.head()"
   ]
  },
  {
   "cell_type": "markdown",
   "metadata": {},
   "source": [
    "- ___Summing up the total investments made for each main sector___ <br>\n",
    "- ___Output of the below will list the top 3 sectors based on investment amount for GBR___ <br>"
   ]
  },
  {
   "cell_type": "code",
   "execution_count": null,
   "metadata": {},
   "outputs": [],
   "source": [
    "gbr.groupby(['main_sectors'])['raised_amount_usd'].sum().sort_values(ascending=False)"
   ]
  },
  {
   "cell_type": "code",
   "execution_count": null,
   "metadata": {},
   "outputs": [],
   "source": [
    "print(\"Total amount invested in GBR across main sectors\")\n",
    "gbr['raised_amount_usd'].sum()"
   ]
  },
  {
   "cell_type": "code",
   "execution_count": null,
   "metadata": {},
   "outputs": [],
   "source": [
    "#Grouping based on Count of investments\n",
    "gbr_sectors_in_count_order=gbr.groupby(['main_sectors'])['count_of_investments'].count().sort_values(ascending=False).to_frame().reset_index()\n",
    "gbr_sectors_in_count_order"
   ]
  },
  {
   "cell_type": "code",
   "execution_count": null,
   "metadata": {},
   "outputs": [],
   "source": [
    "print(\"Total Count of investments in GBR across main sectors\")\n",
    "gbr.groupby(['main_sectors'])['count_of_investments'].count().sum()"
   ]
  },
  {
   "cell_type": "code",
   "execution_count": null,
   "metadata": {},
   "outputs": [],
   "source": [
    "print(\"Company received highest investment in the top sector count wise\")\n",
    "gbr.loc[gbr['main_sectors'] == gbr_sectors_in_count_order['main_sectors'].values[0]].sort_values(by='raised_amount_usd', ascending=False)['name'].values[0]"
   ]
  },
  {
   "cell_type": "code",
   "execution_count": null,
   "metadata": {},
   "outputs": [],
   "source": [
    "print(\"Company received highest investment in the second top sector count wise\")\n",
    "gbr.loc[gbr['main_sectors'] == gbr_sectors_in_count_order['main_sectors'].values[1]].sort_values(by='raised_amount_usd', ascending=False)['name'].values[0]"
   ]
  },
  {
   "cell_type": "markdown",
   "metadata": {},
   "source": [
    "___Same Procedure as the above two countries are being carried out for Canada as well___"
   ]
  },
  {
   "cell_type": "code",
   "execution_count": null,
   "metadata": {},
   "outputs": [],
   "source": [
    "can=final_merged_frame.loc[(final_merged_frame.country_code == 'CAN') & (final_merged_frame.funding_round_type == 'venture') & (final_merged_frame.raised_amount_usd >= 5000000) & (final_merged_frame.raised_amount_usd <= 15000000)]\n",
    "can.head()"
   ]
  },
  {
   "cell_type": "code",
   "execution_count": null,
   "metadata": {},
   "outputs": [],
   "source": [
    "main_sectors_count=can.groupby(['main_sectors'])['company_permalink'].count().to_frame().reset_index()\n",
    "main_sectors_count.rename(columns={'company_permalink' : 'count_of_investments'}, inplace=True)\n",
    "can=pd.merge(can, main_sectors_count, how='inner',on='main_sectors')\n",
    "main_sectors_total_amount_invested=can.groupby(['main_sectors'])['raised_amount_usd'].sum().to_frame().reset_index()\n",
    "main_sectors_total_amount_invested.rename(columns={'raised_amount_usd' : 'total_investment_amount'}, inplace=True)\n",
    "can=pd.merge(can, main_sectors_total_amount_invested, how='inner',on='main_sectors')\n",
    "can.head()"
   ]
  },
  {
   "cell_type": "markdown",
   "metadata": {},
   "source": [
    "- ___Summing up the total investments made for each main sector___ <br>\n",
    "- ___Output of the below will list the top 3 sectors based on investment amount for Canada___ <br>"
   ]
  },
  {
   "cell_type": "code",
   "execution_count": null,
   "metadata": {},
   "outputs": [],
   "source": [
    "can.groupby(['main_sectors'])['raised_amount_usd'].sum().sort_values(ascending=False)"
   ]
  },
  {
   "cell_type": "code",
   "execution_count": null,
   "metadata": {},
   "outputs": [],
   "source": [
    "print(\"Total amount invested in Canada across main sectors\")\n",
    "can['raised_amount_usd'].sum()"
   ]
  },
  {
   "cell_type": "code",
   "execution_count": null,
   "metadata": {},
   "outputs": [],
   "source": [
    "#Grouping based on Count of investments\n",
    "can_sectors_in_count_order=can.groupby(['main_sectors'])['count_of_investments'].count().sort_values(ascending=False).to_frame().reset_index()\n",
    "can_sectors_in_count_order"
   ]
  },
  {
   "cell_type": "code",
   "execution_count": null,
   "metadata": {},
   "outputs": [],
   "source": [
    "print(\"Total Count of investments in Canada across main sectors\")\n",
    "can.groupby(['main_sectors'])['count_of_investments'].count().sum()"
   ]
  },
  {
   "cell_type": "code",
   "execution_count": null,
   "metadata": {},
   "outputs": [],
   "source": [
    "print(\"Company received highest investment in the top sector count wise\")\n",
    "can.loc[can['main_sectors'] == can_sectors_in_count_order.main_sectors.values[0]].sort_values(by='raised_amount_usd', ascending=False)['name'].values[0]"
   ]
  },
  {
   "cell_type": "code",
   "execution_count": null,
   "metadata": {},
   "outputs": [],
   "source": [
    "print(\"Company received highest investment in the second top sector count wise\")\n",
    "can.loc[can['main_sectors'] == can_sectors_in_count_order.main_sectors.values[1]].sort_values(by='raised_amount_usd', ascending=False)['name'].values[0]"
   ]
  },
  {
   "cell_type": "markdown",
   "metadata": {},
   "source": [
    "#### Summary of Results\n",
    "Questions|USA|GBR|Canada\n",
    "-|-|-|-\n",
    "1. Total number of investments (count)|12063|621|422\n",
    "2. Total amount of investment (USD)|107757097294|5379078691|3599289960\n",
    "3. Top sector (based on count of investments)|Others|Others|Cleantech / Semiconductors\n",
    "4. Second-best sector (based on count of investments)|Social, Finance, Analytics, Advertising|Social, Finance, Analytics, Advertising|Others\n",
    "5. Third-best sector (based on count of investments)|Cleantech / Semiconductors|Cleantech / Semiconductors|Social, Finance, Analytics, Advertising\n",
    "6. Number of investments in the top sector|2950|147|112\n",
    "7. Number of investments in the second-best sector|2714|133|109\n",
    "8. Number of investments in the third-best sector|2350|130|78\n",
    "9. For the top sector count-wise (point 3), which company received the highest investment?|1stdibs|Tribold|Zymeworks\n",
    "10. For the second-best sector count-wise (point 4), which company received the highest investment?|SigFig|OpenGamma|QuickPlay Media"
   ]
  },
  {
   "cell_type": "markdown",
   "metadata": {},
   "source": [
    "### CheckPoint 5 ends\n",
    "### Checkpoint 6 starts"
   ]
  },
  {
   "cell_type": "markdown",
   "metadata": {},
   "source": [
    "### Plot 1\n",
    "___Requirement is to find the fraction of total investments for the four intrested funding types, \"seed\", \"angel\", \"venture\" and \"private_equity\" along with their respective mean___<br><br>\n",
    "___Steps followed for plotting Plot 1___\n",
    "1. Create a df containing the fraction of total investments for all the funding types\n",
    "2. Add a column in the above dataframe containing the mean value for investments in the respective funding types\n",
    "3. Restrict the above data frame to contain only the four interested funding typoe, seed, angel, ventire and private equity\n",
    "4. Plot a bar graph where in the two sub plots, fraction of total investment and mean investment amounts are plotted respectively "
   ]
  },
  {
   "cell_type": "code",
   "execution_count": null,
   "metadata": {},
   "outputs": [],
   "source": [
    "final_merged_frame.head()"
   ]
  },
  {
   "cell_type": "code",
   "execution_count": null,
   "metadata": {},
   "outputs": [],
   "source": [
    "final_merged_frame.groupby(final_merged_frame['funding_round_type'])['raised_amount_usd'].sum()"
   ]
  },
  {
   "cell_type": "code",
   "execution_count": null,
   "metadata": {},
   "outputs": [],
   "source": [
    "final_merged_frame['raised_amount_usd'].sum()"
   ]
  },
  {
   "cell_type": "code",
   "execution_count": null,
   "metadata": {},
   "outputs": [],
   "source": [
    "plot1=(final_merged_frame.groupby(final_merged_frame['funding_round_type'])['raised_amount_usd'].sum()/final_merged_frame['raised_amount_usd'].sum()).to_frame()\n",
    "plot1['average']=final_merged_frame.groupby(final_merged_frame['funding_round_type'])['raised_amount_usd'].mean()\n",
    "plot1=plot1.reset_index()\n",
    "plot1=plot1.rename(columns={'raised_amount_usd':'fraction_of_total_investment', 'average' : 'average_investment'})\n",
    "plot1=plot1.loc[plot1.funding_round_type.isin(['seed','angel','venture','private_equity'])]\n",
    "plot1"
   ]
  },
  {
   "cell_type": "code",
   "execution_count": null,
   "metadata": {},
   "outputs": [],
   "source": [
    "plt.figure(figsize=(14, 8))\n",
    "plt.subplot(1, 2, 1)\n",
    "sns.barplot(x='funding_round_type', y='fraction_of_total_investment', data=plot1).set_title(\"Fraction of the Investments\")\n",
    "plt.xlabel(\"Funding Types\")\n",
    "plt.ylabel(\"Fraction of Total Investment Amount\")\n",
    "\n",
    "ax=plt.subplot(1, 2, 2)\n",
    "sns.barplot(x='funding_round_type', y='average_investment', data=plot1).set_title(\"Mean of the Investments\")\n",
    "plt.xlabel(\"Funding Types\")\n",
    "plt.ylabel(\"Mean Investment Amount (in USD) (In 10s of millions)\")\n",
    "ax.axhline(5000000)\n",
    "#ax1.set_label=\"5 Million USD\"\n",
    "ax.text(1.02, 5000000, \"5 Million USD\", va='center', ha=\"left\", bbox=dict(facecolor=\"w\",alpha=0.5),\n",
    "        transform=ax.get_yaxis_transform())\n",
    "ax.axhline(15000000)\n",
    "ax.text(1.02, 15000000, \"15 Million USD\", va='center', ha=\"left\", bbox=dict(facecolor=\"w\",alpha=0.5),\n",
    "        transform=ax.get_yaxis_transform())\n",
    "plt.show()"
   ]
  },
  {
   "cell_type": "markdown",
   "metadata": {},
   "source": [
    "Following inference made from above Plots\n",
    "1. Venture funding received the highest fraction of investments, or Venture funding is preferred by most of the investments made\n",
    "2. Venture funding mean investment amount lies within the range of Spark Investment amount criteria, ie between 5 to 15 million USD <br><br>\n",
    "___From the above points, Venture funding is the best suited for Spark Funds___"
   ]
  },
  {
   "cell_type": "markdown",
   "metadata": {},
   "source": [
    "### Plot 2\n",
    "___Requirement for plot 2 is have a plot showing the top 9 countries against the total amount of investments of funding type \"venture\"___ <br>\n",
    "___Steps followed___ <br>\n",
    "1. Create a df with all the country codes and the amount invested in each of those countries\n",
    "2. Restrict the above df to have only the top 9 countries in venture funding those have been identified already\n",
    "3. Plot a bar graph for the countries and the amount invested in those countries"
   ]
  },
  {
   "cell_type": "code",
   "execution_count": null,
   "metadata": {},
   "outputs": [],
   "source": [
    "top9_venture_funded_countries"
   ]
  },
  {
   "cell_type": "code",
   "execution_count": null,
   "metadata": {},
   "outputs": [],
   "source": [
    "#Grouping the master data frame by country code, ordering by investment amount, converting to frame\n",
    "plot2=final_merged_frame.loc[final_merged_frame['funding_round_type'] == \"venture\"].groupby(final_merged_frame['country_code'])['raised_amount_usd'].sum().to_frame().reset_index()\n",
    "#Restricting it to have only top 9 countries\n",
    "plot2= plot2.loc[plot2.country_code.isin(top9_venture_funded_countries.country_code)]\n",
    "plot2.sort_values(by='raised_amount_usd', ascending=False)"
   ]
  },
  {
   "cell_type": "code",
   "execution_count": null,
   "metadata": {},
   "outputs": [],
   "source": [
    "plt.figure(figsize=(14, 8))\n",
    "sns.barplot(x='country_code', y='raised_amount_usd', data=plot2).set_title(\"Amount Invested in top 9 countries\")\n",
    "plt.xlabel(\"Country Code\")\n",
    "plt.ylabel(\"Total amount invested (In USD)\")\n",
    "plt.show()"
   ]
  },
  {
   "cell_type": "markdown",
   "metadata": {},
   "source": [
    "___From Plot 2, following inference could be made___\n",
    "1. USA is clearly the most heavily invested country in venture funding\n",
    "2. Since China and India are not considered as english speaking nations, those are not considered in the analysis\n",
    "3. GBR and Canada are the 2nd and 3rd countries respectively considering those are English Speaking countries"
   ]
  },
  {
   "cell_type": "markdown",
   "metadata": {},
   "source": [
    "### Plot 3\n",
    "___Requirement: A plot showing the number of investments in the top 3 sectors of the top 3 countries on one chart for Venture funding___ <br>\n",
    "___Steps followed:___\n",
    "1. DFs of the 3 countries created above are concatenated (in order to have the total count and total amount of investment parameters)\n",
    "2. DF is already restricted to have only venture type data since the respective country Dataframes contain only venture data\n",
    "3. DF will be restricted to have data only for the top 3 sectors of all the 3 countries"
   ]
  },
  {
   "cell_type": "code",
   "execution_count": null,
   "metadata": {},
   "outputs": [],
   "source": [
    "sectors_top3=['Cleantech / Semiconductors','Social, Finance, Analytics, Advertising','Others']\n",
    "plot3=pd.concat([usa,gbr,can])\n",
    "plot3=plot3.loc[(plot3.main_sectors.isin(sectors_top3))]\n",
    "plot3.head()"
   ]
  },
  {
   "cell_type": "code",
   "execution_count": null,
   "metadata": {},
   "outputs": [],
   "source": [
    "plt.figure(figsize=(14, 8))\n",
    "sns.barplot(x='count_of_investments', y='country_code', hue='main_sectors', data=plot3).set_title(\"Investments in top 3 countries in top 3 sectors\")\n",
    "plt.xlabel(\"Count of Investments\")\n",
    "plt.ylabel(\"Country Code\")\n",
    "plt.show()"
   ]
  },
  {
   "cell_type": "markdown",
   "metadata": {},
   "source": [
    "___From Plot 3, following inference could be made___\n",
    "1. Top 3 sectors for all top 3 countries are captured\n",
    "3. In the top 3 cuntries identified, the top 3 sectors are \"Cleantech / Semicondictors\", \"Social, Finance, Analytics, Advertising\" and \"Others\""
   ]
  },
  {
   "cell_type": "markdown",
   "metadata": {},
   "source": [
    "### Inference\n",
    "##### 1. The best suited fund type for Spark Funds is \"Venture Funding\"\n",
    "##### 2. Top 3 English speaking nations where majority of the investments happening in Venture Type are USA, Great Britain and Canada\n",
    "##### 3. Top 3 sectors in the identified top 3 countries are \"Cleantech / Semiconductors\", \"Social, Finance, Analytics, Advertising\" and \"Others\". These are the sectors where maximum investments have happened "
   ]
  },
  {
   "cell_type": "markdown",
   "metadata": {},
   "source": [
    "## Proposal (Based on where most investments are happening)\n",
    "#### Proposed type of Funding: ___Venture Funding___\n",
    "#### Proposed Countries for investment based on the trend:\n",
    "- ___USA___\n",
    "- ___Great Britain___\n",
    "- ___Canada___\n",
    "\n",
    "#### Proposed Sectors for investment based on the trend:\n",
    "- ___Others___\n",
    "- ___Social, Finance, Analytics, Advertising___\n",
    "- ___Cleantech / Semiconductors___"
   ]
  },
  {
   "cell_type": "code",
   "execution_count": null,
   "metadata": {},
   "outputs": [],
   "source": []
  }
 ],
 "metadata": {
  "kernelspec": {
   "display_name": "Python 3",
   "language": "python",
   "name": "python3"
  },
  "language_info": {
   "codemirror_mode": {
    "name": "ipython",
    "version": 3
   },
   "file_extension": ".py",
   "mimetype": "text/x-python",
   "name": "python",
   "nbconvert_exporter": "python",
   "pygments_lexer": "ipython3",
   "version": "3.7.4"
  }
 },
 "nbformat": 4,
 "nbformat_minor": 2
}
